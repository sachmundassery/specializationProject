{
 "cells": [
  {
   "cell_type": "code",
   "execution_count": 4,
   "id": "d5a097c9",
   "metadata": {},
   "outputs": [],
   "source": [
    "import pandas as pd\n",
    "import numpy as np\n",
    "import matplotlib.pyplot as plt\n",
    "import seaborn as sns"
   ]
  },
  {
   "cell_type": "code",
   "execution_count": 6,
   "id": "019f9679",
   "metadata": {},
   "outputs": [
    {
     "name": "stderr",
     "output_type": "stream",
     "text": [
      "C:\\Users\\sachm\\AppData\\Roaming\\Python\\Python39\\site-packages\\IPython\\core\\interactiveshell.py:3441: DtypeWarning: Columns (7) have mixed types.Specify dtype option on import or set low_memory=False.\n",
      "  exec(code_obj, self.user_global_ns, self.user_ns)\n"
     ]
    }
   ],
   "source": [
    "stores = pd.read_csv(\"store.csv\")\n",
    "train = pd.read_csv(\"train.csv\")"
   ]
  },
  {
   "cell_type": "code",
   "execution_count": 18,
   "id": "6c0154c6",
   "metadata": {},
   "outputs": [
    {
     "data": {
      "text/plain": [
       "Store             1115\n",
       "DayOfWeek            7\n",
       "Date               942\n",
       "Sales            21734\n",
       "Customers         4086\n",
       "Open                 2\n",
       "Promo                2\n",
       "StateHoliday         5\n",
       "SchoolHoliday        2\n",
       "dtype: int64"
      ]
     },
     "execution_count": 18,
     "metadata": {},
     "output_type": "execute_result"
    }
   ],
   "source": [
    "train.nunique()"
   ]
  },
  {
   "cell_type": "code",
   "execution_count": 19,
   "id": "9df02a00",
   "metadata": {},
   "outputs": [
    {
     "data": {
      "text/plain": [
       "Store                        1115\n",
       "StoreType                       4\n",
       "Assortment                      3\n",
       "CompetitionDistance           654\n",
       "CompetitionOpenSinceMonth      12\n",
       "CompetitionOpenSinceYear       23\n",
       "Promo2                          2\n",
       "Promo2SinceWeek                24\n",
       "Promo2SinceYear                 7\n",
       "PromoInterval                   3\n",
       "dtype: int64"
      ]
     },
     "execution_count": 19,
     "metadata": {},
     "output_type": "execute_result"
    }
   ],
   "source": [
    "stores.nunique()"
   ]
  },
  {
   "cell_type": "code",
   "execution_count": 21,
   "id": "5d446620",
   "metadata": {},
   "outputs": [
    {
     "data": {
      "text/plain": [
       "Store                          0\n",
       "StoreType                      0\n",
       "Assortment                     0\n",
       "CompetitionDistance            3\n",
       "CompetitionOpenSinceMonth    354\n",
       "CompetitionOpenSinceYear     354\n",
       "Promo2                         0\n",
       "Promo2SinceWeek              544\n",
       "Promo2SinceYear              544\n",
       "PromoInterval                544\n",
       "dtype: int64"
      ]
     },
     "execution_count": 21,
     "metadata": {},
     "output_type": "execute_result"
    }
   ],
   "source": [
    "stores.isnull().sum()"
   ]
  },
  {
   "cell_type": "code",
   "execution_count": 22,
   "id": "4dda32d0",
   "metadata": {},
   "outputs": [
    {
     "data": {
      "text/plain": [
       "Store            0\n",
       "DayOfWeek        0\n",
       "Date             0\n",
       "Sales            0\n",
       "Customers        0\n",
       "Open             0\n",
       "Promo            0\n",
       "StateHoliday     0\n",
       "SchoolHoliday    0\n",
       "dtype: int64"
      ]
     },
     "execution_count": 22,
     "metadata": {},
     "output_type": "execute_result"
    }
   ],
   "source": [
    "train.isnull().sum()"
   ]
  },
  {
   "cell_type": "markdown",
   "id": "63cedf94",
   "metadata": {},
   "source": [
    "# Merging both dataframes"
   ]
  },
  {
   "cell_type": "code",
   "execution_count": 15,
   "id": "2bcdac4f",
   "metadata": {},
   "outputs": [],
   "source": [
    "# merging 'stores' and 'train' dataframes based on 'Store' column\n",
    "data = pd.merge(train, stores, how=\"inner\", on=\"Store\", validate=\"m:1\")\n"
   ]
  },
  {
   "cell_type": "markdown",
   "id": "4305f944",
   "metadata": {},
   "source": [
    "#  Preprocessing"
   ]
  },
  {
   "cell_type": "code",
   "execution_count": 16,
   "id": "15dc5a68",
   "metadata": {},
   "outputs": [],
   "source": [
    "data.loc[:,'Date'] = pd.to_datetime(data['Date']) # converting to date-time datatype\n",
    "data['Year'] = data['Date'].dt.year\n",
    "data['Month'] = data['Date'].dt.month\n",
    "data['Day'] = data['Date'].dt.day"
   ]
  },
  {
   "cell_type": "code",
   "execution_count": 17,
   "id": "758c0dfd",
   "metadata": {},
   "outputs": [],
   "source": [
    "data = data.loc[data['Open']==1,:].copy()"
   ]
  },
  {
   "cell_type": "code",
   "execution_count": 23,
   "id": "afa6380e",
   "metadata": {},
   "outputs": [],
   "source": [
    "data[\"CompetitionOpen\"] = 12*(data['Year'] - data['CompetitionOpenSinceYear']) + (data['Month'] - data['CompetitionOpenSinceMonth'])"
   ]
  },
  {
   "cell_type": "code",
   "execution_count": 24,
   "id": "3581ad1c",
   "metadata": {},
   "outputs": [],
   "source": [
    "data.loc[:, 'CompetitionOpen'] = data['CompetitionOpen'].apply(lambda x:0 if x<0 else x)"
   ]
  },
  {
   "cell_type": "code",
   "execution_count": 25,
   "id": "87529449",
   "metadata": {},
   "outputs": [
    {
     "data": {
      "text/html": [
       "<div>\n",
       "<style scoped>\n",
       "    .dataframe tbody tr th:only-of-type {\n",
       "        vertical-align: middle;\n",
       "    }\n",
       "\n",
       "    .dataframe tbody tr th {\n",
       "        vertical-align: top;\n",
       "    }\n",
       "\n",
       "    .dataframe thead th {\n",
       "        text-align: right;\n",
       "    }\n",
       "</style>\n",
       "<table border=\"1\" class=\"dataframe\">\n",
       "  <thead>\n",
       "    <tr style=\"text-align: right;\">\n",
       "      <th></th>\n",
       "      <th>Date</th>\n",
       "      <th>CompetitionDistance</th>\n",
       "      <th>CompetitionOpenSinceYear</th>\n",
       "      <th>CompetitionOpenSinceMonth</th>\n",
       "      <th>CompetitionOpen</th>\n",
       "    </tr>\n",
       "  </thead>\n",
       "  <tbody>\n",
       "    <tr>\n",
       "      <th>865846</th>\n",
       "      <td>2013-06-15</td>\n",
       "      <td>8460.0</td>\n",
       "      <td>1994.0</td>\n",
       "      <td>11.0</td>\n",
       "      <td>223.0</td>\n",
       "    </tr>\n",
       "    <tr>\n",
       "      <th>484160</th>\n",
       "      <td>2014-06-02</td>\n",
       "      <td>4030.0</td>\n",
       "      <td>NaN</td>\n",
       "      <td>NaN</td>\n",
       "      <td>NaN</td>\n",
       "    </tr>\n",
       "    <tr>\n",
       "      <th>882973</th>\n",
       "      <td>2015-01-23</td>\n",
       "      <td>600.0</td>\n",
       "      <td>1999.0</td>\n",
       "      <td>11.0</td>\n",
       "      <td>182.0</td>\n",
       "    </tr>\n",
       "    <tr>\n",
       "      <th>592803</th>\n",
       "      <td>2014-01-18</td>\n",
       "      <td>200.0</td>\n",
       "      <td>NaN</td>\n",
       "      <td>NaN</td>\n",
       "      <td>NaN</td>\n",
       "    </tr>\n",
       "    <tr>\n",
       "      <th>703494</th>\n",
       "      <td>2015-01-22</td>\n",
       "      <td>200.0</td>\n",
       "      <td>NaN</td>\n",
       "      <td>NaN</td>\n",
       "      <td>NaN</td>\n",
       "    </tr>\n",
       "    <tr>\n",
       "      <th>68725</th>\n",
       "      <td>2015-04-23</td>\n",
       "      <td>19960.0</td>\n",
       "      <td>2006.0</td>\n",
       "      <td>3.0</td>\n",
       "      <td>109.0</td>\n",
       "    </tr>\n",
       "    <tr>\n",
       "      <th>854839</th>\n",
       "      <td>2013-02-22</td>\n",
       "      <td>2820.0</td>\n",
       "      <td>2009.0</td>\n",
       "      <td>9.0</td>\n",
       "      <td>41.0</td>\n",
       "    </tr>\n",
       "    <tr>\n",
       "      <th>12212</th>\n",
       "      <td>2015-03-03</td>\n",
       "      <td>1300.0</td>\n",
       "      <td>2014.0</td>\n",
       "      <td>3.0</td>\n",
       "      <td>12.0</td>\n",
       "    </tr>\n",
       "    <tr>\n",
       "      <th>1000203</th>\n",
       "      <td>2015-02-25</td>\n",
       "      <td>720.0</td>\n",
       "      <td>2002.0</td>\n",
       "      <td>3.0</td>\n",
       "      <td>155.0</td>\n",
       "    </tr>\n",
       "    <tr>\n",
       "      <th>136852</th>\n",
       "      <td>2013-08-26</td>\n",
       "      <td>4360.0</td>\n",
       "      <td>2005.0</td>\n",
       "      <td>10.0</td>\n",
       "      <td>94.0</td>\n",
       "    </tr>\n",
       "    <tr>\n",
       "      <th>54688</th>\n",
       "      <td>2015-07-23</td>\n",
       "      <td>350.0</td>\n",
       "      <td>2007.0</td>\n",
       "      <td>12.0</td>\n",
       "      <td>91.0</td>\n",
       "    </tr>\n",
       "    <tr>\n",
       "      <th>21453</th>\n",
       "      <td>2014-08-26</td>\n",
       "      <td>4590.0</td>\n",
       "      <td>2000.0</td>\n",
       "      <td>3.0</td>\n",
       "      <td>173.0</td>\n",
       "    </tr>\n",
       "    <tr>\n",
       "      <th>490557</th>\n",
       "      <td>2014-02-19</td>\n",
       "      <td>990.0</td>\n",
       "      <td>2010.0</td>\n",
       "      <td>2.0</td>\n",
       "      <td>48.0</td>\n",
       "    </tr>\n",
       "    <tr>\n",
       "      <th>447992</th>\n",
       "      <td>2013-12-28</td>\n",
       "      <td>4680.0</td>\n",
       "      <td>NaN</td>\n",
       "      <td>NaN</td>\n",
       "      <td>NaN</td>\n",
       "    </tr>\n",
       "    <tr>\n",
       "      <th>896962</th>\n",
       "      <td>2014-10-06</td>\n",
       "      <td>440.0</td>\n",
       "      <td>NaN</td>\n",
       "      <td>NaN</td>\n",
       "      <td>NaN</td>\n",
       "    </tr>\n",
       "    <tr>\n",
       "      <th>121721</th>\n",
       "      <td>2014-04-04</td>\n",
       "      <td>1200.0</td>\n",
       "      <td>2008.0</td>\n",
       "      <td>9.0</td>\n",
       "      <td>67.0</td>\n",
       "    </tr>\n",
       "    <tr>\n",
       "      <th>533394</th>\n",
       "      <td>2014-01-15</td>\n",
       "      <td>440.0</td>\n",
       "      <td>2014.0</td>\n",
       "      <td>4.0</td>\n",
       "      <td>0.0</td>\n",
       "    </tr>\n",
       "    <tr>\n",
       "      <th>902898</th>\n",
       "      <td>2013-02-26</td>\n",
       "      <td>20930.0</td>\n",
       "      <td>NaN</td>\n",
       "      <td>NaN</td>\n",
       "      <td>NaN</td>\n",
       "    </tr>\n",
       "    <tr>\n",
       "      <th>556816</th>\n",
       "      <td>2015-06-17</td>\n",
       "      <td>8080.0</td>\n",
       "      <td>2002.0</td>\n",
       "      <td>12.0</td>\n",
       "      <td>150.0</td>\n",
       "    </tr>\n",
       "    <tr>\n",
       "      <th>471192</th>\n",
       "      <td>2014-04-07</td>\n",
       "      <td>22490.0</td>\n",
       "      <td>NaN</td>\n",
       "      <td>NaN</td>\n",
       "      <td>NaN</td>\n",
       "    </tr>\n",
       "  </tbody>\n",
       "</table>\n",
       "</div>"
      ],
      "text/plain": [
       "              Date  CompetitionDistance  CompetitionOpenSinceYear  \\\n",
       "865846  2013-06-15               8460.0                    1994.0   \n",
       "484160  2014-06-02               4030.0                       NaN   \n",
       "882973  2015-01-23                600.0                    1999.0   \n",
       "592803  2014-01-18                200.0                       NaN   \n",
       "703494  2015-01-22                200.0                       NaN   \n",
       "68725   2015-04-23              19960.0                    2006.0   \n",
       "854839  2013-02-22               2820.0                    2009.0   \n",
       "12212   2015-03-03               1300.0                    2014.0   \n",
       "1000203 2015-02-25                720.0                    2002.0   \n",
       "136852  2013-08-26               4360.0                    2005.0   \n",
       "54688   2015-07-23                350.0                    2007.0   \n",
       "21453   2014-08-26               4590.0                    2000.0   \n",
       "490557  2014-02-19                990.0                    2010.0   \n",
       "447992  2013-12-28               4680.0                       NaN   \n",
       "896962  2014-10-06                440.0                       NaN   \n",
       "121721  2014-04-04               1200.0                    2008.0   \n",
       "533394  2014-01-15                440.0                    2014.0   \n",
       "902898  2013-02-26              20930.0                       NaN   \n",
       "556816  2015-06-17               8080.0                    2002.0   \n",
       "471192  2014-04-07              22490.0                       NaN   \n",
       "\n",
       "         CompetitionOpenSinceMonth  CompetitionOpen  \n",
       "865846                        11.0            223.0  \n",
       "484160                         NaN              NaN  \n",
       "882973                        11.0            182.0  \n",
       "592803                         NaN              NaN  \n",
       "703494                         NaN              NaN  \n",
       "68725                          3.0            109.0  \n",
       "854839                         9.0             41.0  \n",
       "12212                          3.0             12.0  \n",
       "1000203                        3.0            155.0  \n",
       "136852                        10.0             94.0  \n",
       "54688                         12.0             91.0  \n",
       "21453                          3.0            173.0  \n",
       "490557                         2.0             48.0  \n",
       "447992                         NaN              NaN  \n",
       "896962                         NaN              NaN  \n",
       "121721                         9.0             67.0  \n",
       "533394                         4.0              0.0  \n",
       "902898                         NaN              NaN  \n",
       "556816                        12.0            150.0  \n",
       "471192                         NaN              NaN  "
      ]
     },
     "execution_count": 25,
     "metadata": {},
     "output_type": "execute_result"
    }
   ],
   "source": [
    "data[['Date', 'CompetitionDistance','CompetitionOpenSinceYear', 'CompetitionOpenSinceMonth','CompetitionOpen']].sample(20)"
   ]
  },
  {
   "cell_type": "code",
   "execution_count": 26,
   "id": "2a334a72",
   "metadata": {},
   "outputs": [
    {
     "name": "stdout",
     "output_type": "stream",
     "text": [
      "<class 'pandas.core.frame.DataFrame'>\n",
      "Int64Index: 844392 entries, 0 to 1017207\n",
      "Data columns (total 22 columns):\n",
      " #   Column                     Non-Null Count   Dtype         \n",
      "---  ------                     --------------   -----         \n",
      " 0   Store                      844392 non-null  int64         \n",
      " 1   DayOfWeek                  844392 non-null  int64         \n",
      " 2   Date                       844392 non-null  datetime64[ns]\n",
      " 3   Sales                      844392 non-null  int64         \n",
      " 4   Customers                  844392 non-null  int64         \n",
      " 5   Open                       844392 non-null  int64         \n",
      " 6   Promo                      844392 non-null  int64         \n",
      " 7   StateHoliday               844392 non-null  object        \n",
      " 8   SchoolHoliday              844392 non-null  int64         \n",
      " 9   StoreType                  844392 non-null  object        \n",
      " 10  Assortment                 844392 non-null  object        \n",
      " 11  CompetitionDistance        842206 non-null  float64       \n",
      " 12  CompetitionOpenSinceMonth  575773 non-null  float64       \n",
      " 13  CompetitionOpenSinceYear   575773 non-null  float64       \n",
      " 14  Promo2                     844392 non-null  int64         \n",
      " 15  Promo2SinceWeek            421085 non-null  float64       \n",
      " 16  Promo2SinceYear            421085 non-null  float64       \n",
      " 17  PromoInterval              421085 non-null  object        \n",
      " 18  Year                       844392 non-null  int64         \n",
      " 19  Month                      844392 non-null  int64         \n",
      " 20  Day                        844392 non-null  int64         \n",
      " 21  CompetitionOpen            575773 non-null  float64       \n",
      "dtypes: datetime64[ns](1), float64(6), int64(11), object(4)\n",
      "memory usage: 148.2+ MB\n"
     ]
    }
   ],
   "source": [
    "data.info()"
   ]
  },
  {
   "cell_type": "code",
   "execution_count": null,
   "id": "d58757c6",
   "metadata": {},
   "outputs": [],
   "source": []
  }
 ],
 "metadata": {
  "kernelspec": {
   "display_name": "Python 3 (ipykernel)",
   "language": "python",
   "name": "python3"
  },
  "language_info": {
   "codemirror_mode": {
    "name": "ipython",
    "version": 3
   },
   "file_extension": ".py",
   "mimetype": "text/x-python",
   "name": "python",
   "nbconvert_exporter": "python",
   "pygments_lexer": "ipython3",
   "version": "3.9.6"
  }
 },
 "nbformat": 4,
 "nbformat_minor": 5
}
