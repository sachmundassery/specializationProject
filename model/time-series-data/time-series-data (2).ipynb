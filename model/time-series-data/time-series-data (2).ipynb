{
 "cells": [
  {
   "cell_type": "markdown",
   "metadata": {},
   "source": [
    "# Capstone project on Time Series Analysis"
   ]
  },
  {
   "cell_type": "markdown",
   "metadata": {},
   "source": [
    "## Importing the libraries"
   ]
  },
  {
   "cell_type": "code",
   "execution_count": null,
   "metadata": {
    "execution": {
     "iopub.status.busy": "2021-07-19T14:05:58.547672Z",
     "iopub.status.idle": "2021-07-19T14:05:58.548039Z"
    }
   },
   "outputs": [],
   "source": [
    "import math\n",
    "\n",
    "import numpy as np\n",
    "import pandas as pd\n",
    "\n",
    "import matplotlib.pyplot as plt \n",
    "import seaborn as sns\n",
    "\n",
    "from sklearn.preprocessing import StandardScaler\n",
    "from sklearn.metrics import mean_squared_error\n",
    "\n",
    "from scipy.stats import boxcox\n",
    "\n",
    "import statsmodels.api as sm\n",
    "from statsmodels.tsa.stattools import adfuller\n",
    "from statsmodels.tsa.stattools import kpss\n",
    "from statsmodels.graphics.tsaplots import plot_acf\n",
    "from statsmodels.graphics.tsaplots import plot_pacf"
   ]
  },
  {
   "cell_type": "markdown",
   "metadata": {},
   "source": [
    "## Reading the dataset"
   ]
  },
  {
   "cell_type": "code",
   "execution_count": null,
   "metadata": {
    "execution": {
     "iopub.status.busy": "2021-07-19T14:05:58.549981Z",
     "iopub.status.idle": "2021-07-19T14:05:58.550324Z"
    }
   },
   "outputs": [],
   "source": [
    "# stores = pd.read_csv(\"Dataset/store.csv\")\n",
    "# train = pd.read_csv(\"Dataset/train.csv\", parse_dates=True, index_col=\"Date\", low_memory = False)\n",
    "\n",
    "stores = pd.read_csv(\"../input/rossman-store-capstone/store.csv\")\n",
    "train = pd.read_csv(\"../input/rossman-store-capstone/train.csv\", parse_dates=True, index_col=\"Date\", low_memory = False)\n",
    "\n",
    "print(\"Stores dataset: {}\".format(stores.shape))\n",
    "print(\"Train dataset: {}\".format(train.shape))"
   ]
  },
  {
   "cell_type": "code",
   "execution_count": null,
   "metadata": {
    "execution": {
     "iopub.status.busy": "2021-07-19T14:05:58.552057Z",
     "iopub.status.idle": "2021-07-19T14:05:58.552437Z"
    }
   },
   "outputs": [],
   "source": [
    "stores.info()"
   ]
  },
  {
   "cell_type": "code",
   "execution_count": null,
   "metadata": {
    "execution": {
     "iopub.status.busy": "2021-07-19T14:05:58.554527Z",
     "iopub.status.idle": "2021-07-19T14:05:58.554931Z"
    }
   },
   "outputs": [],
   "source": [
    "train.info()"
   ]
  },
  {
   "cell_type": "code",
   "execution_count": null,
   "metadata": {
    "execution": {
     "iopub.status.busy": "2021-07-19T14:05:58.556937Z",
     "iopub.status.idle": "2021-07-19T14:05:58.557282Z"
    }
   },
   "outputs": [],
   "source": [
    "# Store is key column and is unique for all the records. Also we have a total of 1115 stores in total\n",
    "\n",
    "stores[\"Store\"].nunique()"
   ]
  },
  {
   "cell_type": "code",
   "execution_count": null,
   "metadata": {
    "execution": {
     "iopub.status.busy": "2021-07-19T14:05:58.559142Z",
     "iopub.status.idle": "2021-07-19T14:05:58.559485Z"
    }
   },
   "outputs": [],
   "source": [
    "# As expected in the train file, we have the time series data for the 1115 stores in 'stores' dataset\n",
    "\n",
    "train['Store'].nunique()"
   ]
  },
  {
   "cell_type": "code",
   "execution_count": null,
   "metadata": {
    "execution": {
     "iopub.status.busy": "2021-07-19T14:05:58.561362Z",
     "iopub.status.idle": "2021-07-19T14:05:58.561717Z"
    }
   },
   "outputs": [],
   "source": [
    "# Checking the index of train dataset\n",
    "\n",
    "train.index"
   ]
  },
  {
   "cell_type": "markdown",
   "metadata": {},
   "source": [
    "## Checking the need to merge two dataframes"
   ]
  },
  {
   "cell_type": "code",
   "execution_count": null,
   "metadata": {
    "execution": {
     "iopub.status.busy": "2021-07-19T14:05:58.56368Z",
     "iopub.status.idle": "2021-07-19T14:05:58.564054Z"
    }
   },
   "outputs": [],
   "source": [
    "# Merging 'stores' and 'train' dataset based on the key 'Stores'\n",
    "\n",
    "data = pd.merge(train, stores, how=\"inner\", on=\"Store\", validate=\"m:1\")"
   ]
  },
  {
   "cell_type": "code",
   "execution_count": null,
   "metadata": {
    "execution": {
     "iopub.status.busy": "2021-07-19T14:05:58.566047Z",
     "iopub.status.idle": "2021-07-19T14:05:58.566404Z"
    }
   },
   "outputs": [],
   "source": [
    "print(\"Merged dataset shape: {}\".format(data.shape))\n",
    "data.info()"
   ]
  },
  {
   "cell_type": "code",
   "execution_count": null,
   "metadata": {
    "execution": {
     "iopub.status.busy": "2021-07-19T14:05:58.568409Z",
     "iopub.status.idle": "2021-07-19T14:05:58.568782Z"
    }
   },
   "outputs": [],
   "source": [
    "cols = ['StoreType', 'Assortment', 'CompetitionDistance', 'CompetitionOpenSinceMonth', 'CompetitionOpenSinceYear', 'Promo2', 'Promo2SinceWeek', 'Promo2SinceYear', 'PromoInterval']\n",
    "\n",
    "for col in cols:\n",
    "    print(data.loc[data['Store']==1,col].value_counts(dropna=False))\n",
    "    print(\"-\"*50)"
   ]
  },
  {
   "cell_type": "markdown",
   "metadata": {},
   "source": [
    "<b>Observations:</b><br>\n",
    "- From the above result, it is clear that if we are building individual models for each of the store, the data coming from 'stores' dataset will have same values for all the records of a store. i.e. there is no variance for the fields from 'stores dataset involved in such a case.\n",
    "- Also the promo details are provided for each date with the field 'Promo' in the train dataset and hence the 'PromoInterval' from 'stores' dataset would be redundant."
   ]
  },
  {
   "cell_type": "markdown",
   "metadata": {},
   "source": [
    "With the above observation we proceed wihtout using any of the fields from the store dataset.\n",
    "Also since we are interested in the sales of stores [1, 3, 8, 9, 13, 25, 29, 31, 46], removing the remaining records from both 'stores' and 'train' dataset"
   ]
  },
  {
   "cell_type": "code",
   "execution_count": null,
   "metadata": {
    "execution": {
     "iopub.status.busy": "2021-07-19T14:05:58.570799Z",
     "iopub.status.idle": "2021-07-19T14:05:58.571144Z"
    }
   },
   "outputs": [],
   "source": [
    "store_ids = [1, 3, 8, 9, 13, 25, 29, 31, 46]\n",
    "train = train.loc[train['Store'].isin(store_ids)]\n",
    "stores = stores.loc[stores['Store'].isin(store_ids)]"
   ]
  },
  {
   "cell_type": "markdown",
   "metadata": {},
   "source": [
    "## Analysing 'store' dataset"
   ]
  },
  {
   "cell_type": "code",
   "execution_count": null,
   "metadata": {
    "execution": {
     "iopub.status.busy": "2021-07-19T14:05:58.593119Z",
     "iopub.status.idle": "2021-07-19T14:05:58.593517Z"
    }
   },
   "outputs": [],
   "source": [
    "stores.info()"
   ]
  },
  {
   "cell_type": "code",
   "execution_count": null,
   "metadata": {
    "execution": {
     "iopub.status.busy": "2021-07-19T14:05:58.597787Z",
     "iopub.status.idle": "2021-07-19T14:05:58.598144Z"
    }
   },
   "outputs": [],
   "source": [
    "# Number of stores under consideration\n",
    "\n",
    "stores[\"Store\"].nunique()"
   ]
  },
  {
   "cell_type": "code",
   "execution_count": null,
   "metadata": {
    "execution": {
     "iopub.status.busy": "2021-07-19T14:05:58.600884Z",
     "iopub.status.idle": "2021-07-19T14:05:58.601245Z"
    }
   },
   "outputs": [],
   "source": [
    "cols = ['StoreType', 'Assortment', 'Promo2']\n",
    "\n",
    "for col in cols:\n",
    "    print(stores[col].value_counts())"
   ]
  },
  {
   "cell_type": "code",
   "execution_count": null,
   "metadata": {
    "execution": {
     "iopub.status.busy": "2021-07-19T14:05:58.603455Z",
     "iopub.status.idle": "2021-07-19T14:05:58.603823Z"
    }
   },
   "outputs": [],
   "source": [
    "print(\"Number of stores that has not run any promo: {}\".format(stores.loc[stores['Promo2']==0,'Store'].count()))\n",
    "print(\"Stores that hasn't run any promo: \")\n",
    "print(stores.loc[stores['Promo2']==0,'Store'].values)"
   ]
  },
  {
   "cell_type": "code",
   "execution_count": null,
   "metadata": {
    "execution": {
     "iopub.status.busy": "2021-07-19T14:05:58.605984Z",
     "iopub.status.idle": "2021-07-19T14:05:58.606339Z"
    }
   },
   "outputs": [],
   "source": [
    "# Checking if the promo fields are NaN for stores that has 'Promo2' as 0\n",
    "print(stores.loc[stores['Promo2']==0,'Promo2SinceWeek'].value_counts(dropna=False))\n",
    "print(stores.loc[stores['Promo2']==0, 'Promo2SinceYear'].value_counts(dropna=False))\n",
    "print(stores.loc[stores['Promo2']==0, 'PromoInterval'].value_counts(dropna=False))"
   ]
  },
  {
   "cell_type": "markdown",
   "metadata": {},
   "source": [
    "## Analysing 'train' dataset"
   ]
  },
  {
   "cell_type": "code",
   "execution_count": null,
   "metadata": {
    "execution": {
     "iopub.status.busy": "2021-07-19T14:05:58.608537Z",
     "iopub.status.idle": "2021-07-19T14:05:58.608906Z"
    }
   },
   "outputs": [],
   "source": [
    "train.info()"
   ]
  },
  {
   "cell_type": "code",
   "execution_count": null,
   "metadata": {
    "execution": {
     "iopub.status.busy": "2021-07-19T14:05:58.610921Z",
     "iopub.status.idle": "2021-07-19T14:05:58.611318Z"
    }
   },
   "outputs": [],
   "source": [
    "# Checking if we have the data for all the dates for each of the store\n",
    "\n",
    "print(train.groupby('Store').size().value_counts())\n",
    "\n",
    "# We have data for 942 dates for 934 stores, while for 180 stores we only have data for 758 dates \n",
    "# and for 1 store we have data for 941 dates\n",
    "stores_942 = train.groupby('Store').size()[train.groupby('Store').size()==942].index.to_list()\n",
    "print(stores_942)\n",
    "\n",
    "stores_758 = train.groupby('Store').size()[train.groupby('Store').size()==758].index.to_list()\n",
    "print(stores_758)\n",
    "\n",
    "# stores_941 = train.groupby('Store').size()[train.groupby('Store').size()==941].index.to_list()\n",
    "# print(len(stores_941))"
   ]
  },
  {
   "cell_type": "code",
   "execution_count": null,
   "metadata": {
    "execution": {
     "iopub.status.busy": "2021-07-19T14:05:58.613764Z",
     "iopub.status.idle": "2021-07-19T14:05:58.614115Z"
    }
   },
   "outputs": [],
   "source": [
    "# # Converting the date field in to a datetime object\n",
    "\n",
    "# train.loc[:,'Date'] = pd.to_datetime(train.loc[:,'Date'], format='%Y-%m-%d')"
   ]
  },
  {
   "cell_type": "code",
   "execution_count": null,
   "metadata": {
    "execution": {
     "iopub.status.busy": "2021-07-19T14:05:58.61592Z",
     "iopub.status.idle": "2021-07-19T14:05:58.616269Z"
    }
   },
   "outputs": [],
   "source": [
    "# Checking the value of each of the categorical fields\n",
    "\n",
    "cols = ['DayOfWeek', 'Open', 'StateHoliday', 'SchoolHoliday', 'Promo']\n",
    "\n",
    "for col in cols:\n",
    "    print(\"-\"*30)\n",
    "    print(train[col].value_counts(dropna=False))"
   ]
  },
  {
   "cell_type": "code",
   "execution_count": null,
   "metadata": {
    "execution": {
     "iopub.status.busy": "2021-07-19T14:05:58.618593Z",
     "iopub.status.idle": "2021-07-19T14:05:58.618972Z"
    }
   },
   "outputs": [],
   "source": [
    "# For the field 'StateHoliday' we have both '0' and 0 as a value. Converting that to 0\n",
    "# Also converting all the other values to 'StateHoliday' to 1 just to indicate that it was a state holiday and not the type of holiday \n",
    "\n",
    "train.loc[:,'StateHoliday'] = train['StateHoliday'].map({'a': 1, 'b': 1, 'c': 1, '0': 0, 0: 0}).astype('int64')\n",
    "train['StateHoliday'].value_counts()"
   ]
  },
  {
   "cell_type": "code",
   "execution_count": null,
   "metadata": {
    "execution": {
     "iopub.status.busy": "2021-07-19T14:05:58.621169Z",
     "iopub.status.idle": "2021-07-19T14:05:58.621524Z"
    }
   },
   "outputs": [],
   "source": [
    "train.info()"
   ]
  },
  {
   "cell_type": "markdown",
   "metadata": {},
   "source": [
    "### General Approach followed\n",
    "1. Time series analysis was perfoemd on each of the stores indepedently ie by using a  data that belong to each store\n",
    "2. All the stores under consideration were closed on Sundays and State Holidays.\n",
    "3. We have complete dat for the stores 1, 3, 8, 9, 29, 31\n",
    "4. Store 13 and 46 was closed nearly for half an year (from mid of 2014 to starting of 2015). Apart from that, stores were also closed on Sundays and State Holidays\n",
    "5. Store 25 was closed for ~1 month in 2014. Thi1, 3, 8, 9, 29, 311, 3, 8, 9, 29, 31s store was also closed on Sundays and State Holidays.\n",
    "\n",
    "#### Stores 1, 3, 8, 9, 29, 31\n",
    "1. We have data for the 942 days for these stores.\n",
    "2. All the stores were closed for 134 Sundays in the daterange\n",
    "3. Few of the stores had 27 STate Holidays while the rest had 29 State Holidays.\n",
    "4. All the stores had been closed for Sundays and State Holidays and open on all the remaining days\n",
    "5. Sales were 0 on for those days when the store has bee closed. For the remaining days we had some data for Sales\n",
    "6. For these stores we used linear interpolation to replace the sales values with the probable value which would be there if the store was open\n",
    "7. Then the stationarity was checked and corresponding model was applied\n",
    "\n",
    "#### Stores 13 and 46\n",
    "1. We have data for the 758 days for these stores.\n",
    "2. We didnot have any data from the mid of 2014 to starting of 2015\n",
    "3. Two approaches were tried out. \n",
    " - One by just interpolating the last present values in 2014 to the value in 2015\n",
    " - Other by resampling the values to form a continous range and then using the reindexed data for predictions\n",
    "4. All the stores were closed for all Sundays and StateHolidays in the daterange for which we had the values for\n",
    "5. Sales were 0 on for those days when the store has bee closed. For the remaining days we had some data for Sales\n",
    "6. For days for which we had the store closed, we interploated the data as used for the previous set of stores\n",
    "7. Approach 2 provided better results\n",
    "\n",
    "#### Stores 25\n",
    "1. We have data for the 942 days for these stores.\n",
    "2. For date starting from 15 Jan, 2014 to 13 Feb, 2014 though the store was closed and hence the sales was 0\n",
    "3. Since the store was closed, we had used the similar technique of interpolating the values for those records\n",
    "4. Apart from that we have 0 sales for two dates on which the the store was open. Those two 0 records were retained\n",
    "5. Once that is done the same approach of the previous stores were followed\n",
    "\n"
   ]
  },
  {
   "cell_type": "markdown",
   "metadata": {},
   "source": [
    "### Store 1"
   ]
  },
  {
   "cell_type": "markdown",
   "metadata": {},
   "source": [
    "#### Getting the subset of 'train' dataset for store 1"
   ]
  },
  {
   "cell_type": "code",
   "execution_count": null,
   "metadata": {
    "execution": {
     "iopub.execute_input": "2021-07-19T13:15:01.772756Z",
     "iopub.status.busy": "2021-07-19T13:15:01.772419Z",
     "iopub.status.idle": "2021-07-19T13:15:01.784119Z",
     "shell.execute_reply": "2021-07-19T13:15:01.782993Z",
     "shell.execute_reply.started": "2021-07-19T13:15:01.772711Z"
    }
   },
   "outputs": [],
   "source": [
    "train_store_1 = train.loc[train['Store']==1,:].sort_index(ascending=True)"
   ]
  },
  {
   "cell_type": "code",
   "execution_count": null,
   "metadata": {
    "execution": {
     "iopub.execute_input": "2021-07-19T13:15:01.786039Z",
     "iopub.status.busy": "2021-07-19T13:15:01.785766Z",
     "iopub.status.idle": "2021-07-19T13:15:01.801936Z",
     "shell.execute_reply": "2021-07-19T13:15:01.800924Z",
     "shell.execute_reply.started": "2021-07-19T13:15:01.786013Z"
    }
   },
   "outputs": [],
   "source": [
    "train_store_1.info()"
   ]
  },
  {
   "cell_type": "code",
   "execution_count": null,
   "metadata": {
    "execution": {
     "iopub.execute_input": "2021-07-19T13:15:01.803373Z",
     "iopub.status.busy": "2021-07-19T13:15:01.803098Z",
     "iopub.status.idle": "2021-07-19T13:15:01.810739Z",
     "shell.execute_reply": "2021-07-19T13:15:01.809639Z",
     "shell.execute_reply.started": "2021-07-19T13:15:01.803346Z"
    }
   },
   "outputs": [],
   "source": [
    "train_store_1.index"
   ]
  },
  {
   "cell_type": "markdown",
   "metadata": {},
   "source": [
    "#### EDA on store 1 dataset"
   ]
  },
  {
   "cell_type": "code",
   "execution_count": null,
   "metadata": {
    "execution": {
     "iopub.execute_input": "2021-07-19T13:15:01.812598Z",
     "iopub.status.busy": "2021-07-19T13:15:01.812314Z",
     "iopub.status.idle": "2021-07-19T13:15:01.82697Z",
     "shell.execute_reply": "2021-07-19T13:15:01.825907Z",
     "shell.execute_reply.started": "2021-07-19T13:15:01.812572Z"
    }
   },
   "outputs": [],
   "source": [
    "print(\"Checking the number of StateHolidays, SchoolHoliday and Open days\")\n",
    "\n",
    "cols = ['StateHoliday', 'SchoolHoliday', 'Open', 'Promo']\n",
    "for col in cols:\n",
    "    print(train_store_1[col].value_counts())\n",
    "    print(\"-\"*40)"
   ]
  },
  {
   "cell_type": "code",
   "execution_count": null,
   "metadata": {
    "execution": {
     "iopub.execute_input": "2021-07-19T13:15:01.831526Z",
     "iopub.status.busy": "2021-07-19T13:15:01.831244Z",
     "iopub.status.idle": "2021-07-19T13:15:01.842334Z",
     "shell.execute_reply": "2021-07-19T13:15:01.841175Z",
     "shell.execute_reply.started": "2021-07-19T13:15:01.831498Z"
    }
   },
   "outputs": [],
   "source": [
    "print(\"Checking if the store was open on a StateHoliday and the corresponding Sales\")\n",
    "print(train_store_1.loc[train_store_1['StateHoliday']==1,['Sales','Open']].value_counts())"
   ]
  },
  {
   "cell_type": "code",
   "execution_count": null,
   "metadata": {
    "execution": {
     "iopub.execute_input": "2021-07-19T13:15:01.845031Z",
     "iopub.status.busy": "2021-07-19T13:15:01.844774Z",
     "iopub.status.idle": "2021-07-19T13:15:01.854069Z",
     "shell.execute_reply": "2021-07-19T13:15:01.853176Z",
     "shell.execute_reply.started": "2021-07-19T13:15:01.845005Z"
    }
   },
   "outputs": [],
   "source": [
    "print(\"Checking if the store was open on any Sundays and the corresponding Sales\")\n",
    "print(train_store_1.loc[train_store_1['DayOfWeek']==7,'Open'].value_counts())"
   ]
  },
  {
   "cell_type": "code",
   "execution_count": null,
   "metadata": {
    "execution": {
     "iopub.execute_input": "2021-07-19T13:15:01.855878Z",
     "iopub.status.busy": "2021-07-19T13:15:01.855557Z",
     "iopub.status.idle": "2021-07-19T13:15:01.877459Z",
     "shell.execute_reply": "2021-07-19T13:15:01.876437Z",
     "shell.execute_reply.started": "2021-07-19T13:15:01.855845Z"
    }
   },
   "outputs": [],
   "source": [
    "print(\"Checking the days on which the store was closed\")\n",
    "print(train_store_1.loc[train_store_1['Open']==0,['Sales','DayOfWeek']].value_counts())"
   ]
  },
  {
   "cell_type": "code",
   "execution_count": null,
   "metadata": {
    "execution": {
     "iopub.execute_input": "2021-07-19T13:15:01.879249Z",
     "iopub.status.busy": "2021-07-19T13:15:01.878958Z",
     "iopub.status.idle": "2021-07-19T13:15:01.889342Z",
     "shell.execute_reply": "2021-07-19T13:15:01.888375Z",
     "shell.execute_reply.started": "2021-07-19T13:15:01.87922Z"
    }
   },
   "outputs": [],
   "source": [
    "print(\"Checking the Sales when the shop was closed and if it was a StateHoliday or not\")\n",
    "print(train_store_1.loc[train_store_1['Open']==0,['Sales','StateHoliday']].value_counts())"
   ]
  },
  {
   "cell_type": "code",
   "execution_count": null,
   "metadata": {
    "execution": {
     "iopub.execute_input": "2021-07-19T13:15:01.891155Z",
     "iopub.status.busy": "2021-07-19T13:15:01.890818Z",
     "iopub.status.idle": "2021-07-19T13:15:01.907739Z",
     "shell.execute_reply": "2021-07-19T13:15:01.906077Z",
     "shell.execute_reply.started": "2021-07-19T13:15:01.891122Z"
    }
   },
   "outputs": [],
   "source": [
    "print(\"Checking the SchoolHolidays for which the store was open and the corresponding value for StateHoliday\")\n",
    "print(train_store_1.loc[train_store_1['SchoolHoliday']==1,['DayOfWeek', 'Open', 'SchoolHoliday']].value_counts())"
   ]
  },
  {
   "cell_type": "code",
   "execution_count": null,
   "metadata": {
    "execution": {
     "iopub.execute_input": "2021-07-19T13:15:01.908877Z",
     "iopub.status.busy": "2021-07-19T13:15:01.908605Z",
     "iopub.status.idle": "2021-07-19T13:15:01.919609Z",
     "shell.execute_reply": "2021-07-19T13:15:01.918595Z",
     "shell.execute_reply.started": "2021-07-19T13:15:01.90885Z"
    }
   },
   "outputs": [],
   "source": [
    "print(\"Checking if we have 0 Sales even when the shop was open and if it was a StateHoliday or not\")\n",
    "print(train_store_1.loc[train_store_1['Sales']==0,['Open','StateHoliday']].value_counts())"
   ]
  },
  {
   "cell_type": "markdown",
   "metadata": {},
   "source": [
    "<b>Observations</b><br>\n",
    "We have 0 Sales only when the shop was closed (either due to a StateHoliday or being Sunday.<br>\n",
    "From the above outputs we can make the following observations between 'Open' and 'StateHoliday' fields\n",
    "- Store was closed for 161 days\n",
    "- Of the 161 days, 134 were Sundays and the remaining 24 were State Holidays\n",
    "- Store was closed for all the State Holidays and on all Sundays<br>\n",
    "\n",
    "No evident observations between the above two fields with the field 'SchoolHoliday'"
   ]
  },
  {
   "cell_type": "code",
   "execution_count": null,
   "metadata": {
    "execution": {
     "iopub.execute_input": "2021-07-19T13:15:01.921137Z",
     "iopub.status.busy": "2021-07-19T13:15:01.920873Z",
     "iopub.status.idle": "2021-07-19T13:15:01.939061Z",
     "shell.execute_reply": "2021-07-19T13:15:01.937538Z",
     "shell.execute_reply.started": "2021-07-19T13:15:01.92111Z"
    }
   },
   "outputs": [],
   "source": [
    "# Removing the 'Store' field since it invariant\n",
    "\n",
    "train_store_1.drop(columns=['Store'], inplace=True)\n",
    "train_store_1.info()"
   ]
  },
  {
   "cell_type": "markdown",
   "metadata": {},
   "source": [
    "Since the 'Sales' and 'Customers' are 0 only when the store was closed (due to pulic or state holiday), we can consider it as a missing value and for our purpose impute with the values that could have been present if the store had been open. For that we use Linear Interpolation.\n",
    "Even in predction, we could use the same method, i.e comparing the predicted value with what could have been the 'Sales' if the Store was open.\n",
    "But in real sense, 'Sales' would be 0 if the Store is closed"
   ]
  },
  {
   "cell_type": "code",
   "execution_count": null,
   "metadata": {
    "execution": {
     "iopub.execute_input": "2021-07-19T13:15:01.940346Z",
     "iopub.status.busy": "2021-07-19T13:15:01.94007Z",
     "iopub.status.idle": "2021-07-19T13:15:01.958295Z",
     "shell.execute_reply": "2021-07-19T13:15:01.957259Z",
     "shell.execute_reply.started": "2021-07-19T13:15:01.940317Z"
    }
   },
   "outputs": [],
   "source": [
    "train_store_1.loc[:, 'Sales'] = train_store_1.loc[:, 'Sales'].map(lambda x:np.NaN if x==0 else x).interpolate(method='linear')\n",
    "train_store_1.loc[:, 'Customers'] = train_store_1.loc[:, 'Customers'].map(lambda x:np.NaN if x==0 else x).interpolate(method='linear')\n",
    "\n",
    "# Removing the first records since its is having 0 Sales\n",
    "\n",
    "train_store_1.drop(index=pd.to_datetime('2013-01-01'),axis=0, inplace=True)\n",
    "train_store_1.shape"
   ]
  },
  {
   "cell_type": "markdown",
   "metadata": {},
   "source": [
    "#### Outlier treatment"
   ]
  },
  {
   "cell_type": "code",
   "execution_count": null,
   "metadata": {
    "execution": {
     "iopub.execute_input": "2021-07-19T13:15:01.959954Z",
     "iopub.status.busy": "2021-07-19T13:15:01.959633Z",
     "iopub.status.idle": "2021-07-19T13:15:02.20516Z",
     "shell.execute_reply": "2021-07-19T13:15:02.204084Z",
     "shell.execute_reply.started": "2021-07-19T13:15:01.959915Z"
    }
   },
   "outputs": [],
   "source": [
    "fig = plt.subplots(figsize=(12, 2))\n",
    "ax = sns.boxplot(x=train_store_1['Sales'], whis=1.5)"
   ]
  },
  {
   "cell_type": "code",
   "execution_count": null,
   "metadata": {
    "execution": {
     "iopub.execute_input": "2021-07-19T13:15:02.20663Z",
     "iopub.status.busy": "2021-07-19T13:15:02.206368Z",
     "iopub.status.idle": "2021-07-19T13:15:02.37538Z",
     "shell.execute_reply": "2021-07-19T13:15:02.374378Z",
     "shell.execute_reply.started": "2021-07-19T13:15:02.206603Z"
    }
   },
   "outputs": [],
   "source": [
    "fig = train_store_1['Sales'].hist(figsize = (12,4))"
   ]
  },
  {
   "cell_type": "markdown",
   "metadata": {},
   "source": [
    "Since from the time series plot we had observed a general increase in sales in the months of Dec-Jan, it is better to replace the higher values with lower extreme (Winsorizing) rather than removing the value completely.\n",
    "Removing the outlier is better suited when we think the outlier is erroneous"
   ]
  },
  {
   "cell_type": "code",
   "execution_count": null,
   "metadata": {
    "execution": {
     "iopub.execute_input": "2021-07-19T13:15:02.378096Z",
     "iopub.status.busy": "2021-07-19T13:15:02.377653Z",
     "iopub.status.idle": "2021-07-19T13:15:02.386153Z",
     "shell.execute_reply": "2021-07-19T13:15:02.385254Z",
     "shell.execute_reply.started": "2021-07-19T13:15:02.378048Z"
    }
   },
   "outputs": [],
   "source": [
    "train_store_1['Sales'].quantile(0.95)"
   ]
  },
  {
   "cell_type": "code",
   "execution_count": null,
   "metadata": {
    "execution": {
     "iopub.execute_input": "2021-07-19T13:15:02.387678Z",
     "iopub.status.busy": "2021-07-19T13:15:02.387394Z",
     "iopub.status.idle": "2021-07-19T13:15:02.402226Z",
     "shell.execute_reply": "2021-07-19T13:15:02.401301Z",
     "shell.execute_reply.started": "2021-07-19T13:15:02.38765Z"
    }
   },
   "outputs": [],
   "source": [
    "train_store_1['Sales'].quantile(0.99)"
   ]
  },
  {
   "cell_type": "code",
   "execution_count": null,
   "metadata": {
    "execution": {
     "iopub.execute_input": "2021-07-19T13:15:02.404004Z",
     "iopub.status.busy": "2021-07-19T13:15:02.403679Z",
     "iopub.status.idle": "2021-07-19T13:15:02.418373Z",
     "shell.execute_reply": "2021-07-19T13:15:02.417481Z",
     "shell.execute_reply.started": "2021-07-19T13:15:02.403973Z"
    }
   },
   "outputs": [],
   "source": [
    "# Replacing the outliers (above 99 quantile) to the value at 99 percentile\n",
    "\n",
    "train_store_1.loc[train_store_1['Sales'] > train_store_1['Sales'].quantile(0.97), 'Sales'] = math.ceil(train_store_1['Sales'].quantile(0.97))"
   ]
  },
  {
   "cell_type": "code",
   "execution_count": null,
   "metadata": {
    "execution": {
     "iopub.execute_input": "2021-07-19T13:15:02.420825Z",
     "iopub.status.busy": "2021-07-19T13:15:02.420503Z",
     "iopub.status.idle": "2021-07-19T13:15:02.525086Z",
     "shell.execute_reply": "2021-07-19T13:15:02.524195Z",
     "shell.execute_reply.started": "2021-07-19T13:15:02.420794Z"
    }
   },
   "outputs": [],
   "source": [
    "# Boxplot after winsorizing the outliers\n",
    "\n",
    "fig = plt.subplots(figsize=(12, 2))\n",
    "ax = sns.boxplot(x=train_store_1['Sales'], whis=1.5)"
   ]
  },
  {
   "cell_type": "code",
   "execution_count": null,
   "metadata": {
    "execution": {
     "iopub.execute_input": "2021-07-19T13:15:02.526535Z",
     "iopub.status.busy": "2021-07-19T13:15:02.526255Z",
     "iopub.status.idle": "2021-07-19T13:15:02.530044Z",
     "shell.execute_reply": "2021-07-19T13:15:02.529385Z",
     "shell.execute_reply.started": "2021-07-19T13:15:02.526504Z"
    }
   },
   "outputs": [],
   "source": [
    "# from scipy.stats import boxcox\n",
    "# data_boxcox = pd.Series(boxcox(train_store_1['Sales']), index=train_store_1.index)\n",
    "# data_boxcox.plot(figsize=(96, 16))\n",
    "# plt.legend(loc='best')\n",
    "# plt.title('Sales data for Store 1')\n",
    "# plt.show(block=False)"
   ]
  },
  {
   "cell_type": "markdown",
   "metadata": {},
   "source": [
    "#### Plotting the sales data"
   ]
  },
  {
   "cell_type": "code",
   "execution_count": null,
   "metadata": {
    "execution": {
     "iopub.execute_input": "2021-07-19T13:15:02.531405Z",
     "iopub.status.busy": "2021-07-19T13:15:02.531163Z",
     "iopub.status.idle": "2021-07-19T13:15:03.207599Z",
     "shell.execute_reply": "2021-07-19T13:15:03.206624Z",
     "shell.execute_reply.started": "2021-07-19T13:15:02.53138Z"
    }
   },
   "outputs": [],
   "source": [
    "train_store_1.loc[:,'Sales'].plot(figsize=(96, 16))\n",
    "plt.legend(loc='best')\n",
    "plt.title('Sales data for Store 1')\n",
    "plt.show(block=False)"
   ]
  },
  {
   "cell_type": "markdown",
   "metadata": {},
   "source": [
    "#### Decomposing the time series to trend and seasonality"
   ]
  },
  {
   "cell_type": "code",
   "execution_count": null,
   "metadata": {
    "execution": {
     "iopub.execute_input": "2021-07-19T13:15:03.209471Z",
     "iopub.status.busy": "2021-07-19T13:15:03.208944Z",
     "iopub.status.idle": "2021-07-19T13:15:04.60306Z",
     "shell.execute_reply": "2021-07-19T13:15:04.602029Z",
     "shell.execute_reply.started": "2021-07-19T13:15:03.20943Z"
    }
   },
   "outputs": [],
   "source": [
    "from pylab import rcParams\n",
    "rcParams['figure.figsize'] = (96,16)\n",
    "decomposition = sm.tsa.seasonal_decompose(train_store_1['Sales'], model='additive')\n",
    "fig = decomposition.plot()\n",
    "plt.show()"
   ]
  },
  {
   "cell_type": "markdown",
   "metadata": {},
   "source": [
    "The above plot tells us that there is a general increase in the months Dec-Jan and also there is repeating 0 sales throught out the timeframe.<br>\n",
    "Following analysis is done to find out the possible reasons for the above observations"
   ]
  },
  {
   "cell_type": "markdown",
   "metadata": {},
   "source": [
    "#### Creating dummy variables for the field 'DayOfWeek'"
   ]
  },
  {
   "cell_type": "code",
   "execution_count": null,
   "metadata": {
    "execution": {
     "iopub.execute_input": "2021-07-19T13:15:04.604446Z",
     "iopub.status.busy": "2021-07-19T13:15:04.604168Z",
     "iopub.status.idle": "2021-07-19T13:15:04.623849Z",
     "shell.execute_reply": "2021-07-19T13:15:04.622621Z",
     "shell.execute_reply.started": "2021-07-19T13:15:04.604419Z"
    }
   },
   "outputs": [],
   "source": [
    "# Creating dummy variables and concatenating the dummy variables of field 'DayOfWeek' to the original dataframe\n",
    "train_store_1 = pd.concat([train_store_1, pd.get_dummies(train_store_1['DayOfWeek'], prefix='DayOfWeek', drop_first=True)], axis=1)\n",
    "\n",
    "# Removing the parent field 'DayOfWeek'\n",
    "train_store_1.drop(columns=['DayOfWeek'], inplace=True)\n",
    "train_store_1.info()"
   ]
  },
  {
   "cell_type": "markdown",
   "metadata": {},
   "source": [
    "#### Checking the corelation of variables"
   ]
  },
  {
   "cell_type": "code",
   "execution_count": null,
   "metadata": {
    "execution": {
     "iopub.execute_input": "2021-07-19T13:15:04.625416Z",
     "iopub.status.busy": "2021-07-19T13:15:04.625146Z",
     "iopub.status.idle": "2021-07-19T13:15:05.460744Z",
     "shell.execute_reply": "2021-07-19T13:15:05.459618Z",
     "shell.execute_reply.started": "2021-07-19T13:15:04.625389Z"
    }
   },
   "outputs": [],
   "source": [
    "plt.figure(figsize=(12,8))\n",
    "sns.heatmap(train_store_1.corr(), annot=True)\n",
    "plt.show()"
   ]
  },
  {
   "cell_type": "markdown",
   "metadata": {},
   "source": [
    "<b>Observations</b><br>\n",
    "Following observation can be made from the above correlation plot\n",
    "- Sales and Customers fields are highly positively correlated\n",
    "- Open field is highely negatively correlated to the DayOfWeek_7 (Sunday)\n",
    "- No considerable relationship between the Promo and the Sale/Customers\n",
    "- As discovered from EDA, there is a slight correlation between StateHoliday and Open<br>\n",
    "\n",
    "Above observation make sense from a business point of view as well."
   ]
  },
  {
   "cell_type": "markdown",
   "metadata": {},
   "source": [
    "#### Checking the stationarity of the data"
   ]
  },
  {
   "cell_type": "code",
   "execution_count": null,
   "metadata": {
    "execution": {
     "iopub.execute_input": "2021-07-19T13:15:05.462776Z",
     "iopub.status.busy": "2021-07-19T13:15:05.462326Z",
     "iopub.status.idle": "2021-07-19T13:15:05.932142Z",
     "shell.execute_reply": "2021-07-19T13:15:05.931059Z",
     "shell.execute_reply.started": "2021-07-19T13:15:05.462726Z"
    }
   },
   "outputs": [],
   "source": [
    "cols = train_store_1.columns\n",
    "\n",
    "\n",
    "for col in cols:\n",
    "    adf_test = adfuller(train_store_1[col])\n",
    "\n",
    "    print('ADF Statistic ({}): {}'.format(col, round(adf_test[0], 4)))\n",
    "    print('Critical Values @ 0.05 ({}): {}'.format(col, round(adf_test[4]['5%'], 2)))\n",
    "    print('p-value ({}): {}'.format(col, round(adf_test[1], 4)))"
   ]
  },
  {
   "cell_type": "markdown",
   "metadata": {},
   "source": [
    "#### ACF and PACF plots"
   ]
  },
  {
   "cell_type": "code",
   "execution_count": null,
   "metadata": {
    "execution": {
     "iopub.execute_input": "2021-07-19T13:15:05.934188Z",
     "iopub.status.busy": "2021-07-19T13:15:05.933584Z",
     "iopub.status.idle": "2021-07-19T13:15:06.267881Z",
     "shell.execute_reply": "2021-07-19T13:15:06.266774Z",
     "shell.execute_reply.started": "2021-07-19T13:15:05.934142Z"
    }
   },
   "outputs": [],
   "source": [
    "plt.figure(figsize=(18,4))\n",
    "plt.subplot(1,2,1)\n",
    "plot_pacf(train_store_1['Sales'] , ax=plt.gca(), lags = 50)\n",
    "plt.subplot(1,2,2)\n",
    "plot_acf(train_store_1['Sales'] , ax=plt.gca(), lags = 50)\n",
    "plt.show()"
   ]
  },
  {
   "cell_type": "markdown",
   "metadata": {},
   "source": [
    "#### Model Creation"
   ]
  },
  {
   "cell_type": "code",
   "execution_count": null,
   "metadata": {
    "execution": {
     "iopub.execute_input": "2021-07-19T13:15:06.26987Z",
     "iopub.status.busy": "2021-07-19T13:15:06.269432Z",
     "iopub.status.idle": "2021-07-19T13:15:06.277275Z",
     "shell.execute_reply": "2021-07-19T13:15:06.276099Z",
     "shell.execute_reply.started": "2021-07-19T13:15:06.269825Z"
    }
   },
   "outputs": [],
   "source": [
    "# preparation: input should be float type\n",
    "train_store_1['Sales'] = train_store_1['Sales'] * 1.0"
   ]
  },
  {
   "cell_type": "code",
   "execution_count": null,
   "metadata": {
    "execution": {
     "iopub.execute_input": "2021-07-19T13:15:06.278669Z",
     "iopub.status.busy": "2021-07-19T13:15:06.278404Z",
     "iopub.status.idle": "2021-07-19T13:17:29.779105Z",
     "shell.execute_reply": "2021-07-19T13:17:29.778103Z",
     "shell.execute_reply.started": "2021-07-19T13:15:06.278643Z"
    }
   },
   "outputs": [],
   "source": [
    "exog = ['Promo', 'StateHoliday', 'SchoolHoliday', 'DayOfWeek_2', 'DayOfWeek_3', 'DayOfWeek_4', 'DayOfWeek_5', 'DayOfWeek_6', 'DayOfWeek_7']\n",
    "mod = sm.tsa.VARMAX(train_store_1.loc[:,['Sales', 'Customers']], exog=train_store_1[exog], order=(5,5), trend='n')\n",
    "res = mod.fit(maxiter=1000, disp=False)\n",
    "print(res.summary())\n",
    "#Note the AIC value - lower AIC => better model"
   ]
  },
  {
   "cell_type": "code",
   "execution_count": null,
   "metadata": {
    "execution": {
     "iopub.execute_input": "2021-07-19T13:17:29.781038Z",
     "iopub.status.busy": "2021-07-19T13:17:29.780469Z",
     "iopub.status.idle": "2021-07-19T13:17:29.964775Z",
     "shell.execute_reply": "2021-07-19T13:17:29.963714Z",
     "shell.execute_reply.started": "2021-07-19T13:17:29.781003Z"
    }
   },
   "outputs": [],
   "source": [
    "ax = res.impulse_responses(30, orthogonalized=True).plot(figsize=(13,3))\n",
    "ax.set(xlabel='t', title='Responses to a shock to `dln_inv`');"
   ]
  },
  {
   "cell_type": "code",
   "execution_count": null,
   "metadata": {
    "execution": {
     "iopub.execute_input": "2021-07-19T13:17:29.966209Z",
     "iopub.status.busy": "2021-07-19T13:17:29.965946Z",
     "iopub.status.idle": "2021-07-19T13:17:29.97332Z",
     "shell.execute_reply": "2021-07-19T13:17:29.972057Z",
     "shell.execute_reply.started": "2021-07-19T13:17:29.966184Z"
    }
   },
   "outputs": [],
   "source": [
    "train_len = 900\n",
    "train_data = train_store_1[0:train_len] \n",
    "test_data = train_store_1[train_len:]\n",
    "\n",
    "print(\"Train data: {}\".format(train_data.shape))\n",
    "print(\"Test data: {}\".format(test_data.shape))"
   ]
  },
  {
   "cell_type": "code",
   "execution_count": null,
   "metadata": {
    "execution": {
     "iopub.execute_input": "2021-07-19T13:17:29.975201Z",
     "iopub.status.busy": "2021-07-19T13:17:29.974788Z",
     "iopub.status.idle": "2021-07-19T13:17:29.992551Z",
     "shell.execute_reply": "2021-07-19T13:17:29.991249Z",
     "shell.execute_reply.started": "2021-07-19T13:17:29.975164Z"
    }
   },
   "outputs": [],
   "source": [
    "start_index = test_data.index.min()\n",
    "end_index = test_data.index.max()\n",
    "predictions = res.predict(start=start_index, end=end_index, exog=[''])"
   ]
  },
  {
   "cell_type": "code",
   "execution_count": null,
   "metadata": {
    "execution": {
     "iopub.execute_input": "2021-07-19T13:17:29.994271Z",
     "iopub.status.busy": "2021-07-19T13:17:29.993962Z",
     "iopub.status.idle": "2021-07-19T13:17:30.657396Z",
     "shell.execute_reply": "2021-07-19T13:17:30.656397Z",
     "shell.execute_reply.started": "2021-07-19T13:17:29.994232Z"
    }
   },
   "outputs": [],
   "source": [
    "plt.figure(figsize=(96, 16)) \n",
    "plt.plot( train_data['Sales'], label='Train')\n",
    "plt.plot(test_data['Sales'], label='Test')\n",
    "plt.plot(predictions['Sales'], label='VARMAX')\n",
    "plt.legend(loc='best')\n",
    "plt.title('VAR Model - Sales')\n",
    "plt.show()"
   ]
  },
  {
   "cell_type": "code",
   "execution_count": null,
   "metadata": {
    "execution": {
     "iopub.execute_input": "2021-07-19T13:17:30.659106Z",
     "iopub.status.busy": "2021-07-19T13:17:30.658807Z",
     "iopub.status.idle": "2021-07-19T13:17:30.687747Z",
     "shell.execute_reply": "2021-07-19T13:17:30.686536Z",
     "shell.execute_reply.started": "2021-07-19T13:17:30.659073Z"
    }
   },
   "outputs": [],
   "source": [
    "# Root Mean Square Error (RMSE)\n",
    "rmse = np.sqrt(mean_squared_error(test_data['Sales'], predictions['Sales'])).round(2)\n",
    "#print('Income: RMSE:',  rmse)\n",
    "\n",
    "model_comparison=pd.DataFrame()\n",
    "model_comparison.loc[0,'Store']= 1\n",
    "model_comparison.loc[0,'Model']='VAR'\n",
    "model_comparison.loc[0,'Variable']='Sales'\n",
    "model_comparison.loc[0,'RMSE']=rmse\n",
    "\n",
    "# Mean Absolute Percentage Error\n",
    "abs_error = np.abs(test_data['Sales']-predictions['Sales'])\n",
    "actual = test_data['Sales']\n",
    "mape = np.round(np.mean(abs_error/actual)*100, 2)\n",
    "\n",
    "model_comparison.loc[model_comparison['Store']==1, 'MAPE'] = mape\n",
    "model_comparison"
   ]
  },
  {
   "cell_type": "markdown",
   "metadata": {},
   "source": [
    "### Store 3"
   ]
  },
  {
   "cell_type": "markdown",
   "metadata": {},
   "source": [
    "#### Getting the subset of 'train' dataset for store 3"
   ]
  },
  {
   "cell_type": "code",
   "execution_count": null,
   "metadata": {
    "execution": {
     "iopub.execute_input": "2021-07-19T13:17:30.689944Z",
     "iopub.status.busy": "2021-07-19T13:17:30.689505Z",
     "iopub.status.idle": "2021-07-19T13:17:30.697703Z",
     "shell.execute_reply": "2021-07-19T13:17:30.696506Z",
     "shell.execute_reply.started": "2021-07-19T13:17:30.689901Z"
    }
   },
   "outputs": [],
   "source": [
    "train_store_3 = train.loc[train['Store']==3,:].sort_index(ascending=True)"
   ]
  },
  {
   "cell_type": "code",
   "execution_count": null,
   "metadata": {
    "execution": {
     "iopub.execute_input": "2021-07-19T13:17:30.699165Z",
     "iopub.status.busy": "2021-07-19T13:17:30.698849Z",
     "iopub.status.idle": "2021-07-19T13:17:30.721483Z",
     "shell.execute_reply": "2021-07-19T13:17:30.720471Z",
     "shell.execute_reply.started": "2021-07-19T13:17:30.69913Z"
    }
   },
   "outputs": [],
   "source": [
    "train_store_3.info()"
   ]
  },
  {
   "cell_type": "code",
   "execution_count": null,
   "metadata": {
    "execution": {
     "iopub.execute_input": "2021-07-19T13:17:30.72319Z",
     "iopub.status.busy": "2021-07-19T13:17:30.722715Z",
     "iopub.status.idle": "2021-07-19T13:17:30.730154Z",
     "shell.execute_reply": "2021-07-19T13:17:30.729121Z",
     "shell.execute_reply.started": "2021-07-19T13:17:30.723148Z"
    }
   },
   "outputs": [],
   "source": [
    "train_store_3.index"
   ]
  },
  {
   "cell_type": "markdown",
   "metadata": {},
   "source": [
    "#### EDA on store 3 dataset"
   ]
  },
  {
   "cell_type": "code",
   "execution_count": null,
   "metadata": {
    "execution": {
     "iopub.execute_input": "2021-07-19T13:17:30.732145Z",
     "iopub.status.busy": "2021-07-19T13:17:30.731756Z",
     "iopub.status.idle": "2021-07-19T13:17:30.749126Z",
     "shell.execute_reply": "2021-07-19T13:17:30.747957Z",
     "shell.execute_reply.started": "2021-07-19T13:17:30.732101Z"
    }
   },
   "outputs": [],
   "source": [
    "print(\"Checking the number of StateHolidays, SchoolHoliday and Open days\")\n",
    "\n",
    "cols = ['StateHoliday', 'SchoolHoliday', 'Open', 'Promo']\n",
    "for col in cols:\n",
    "    print(train_store_3[col].value_counts())\n",
    "    print(\"-\"*40)"
   ]
  },
  {
   "cell_type": "code",
   "execution_count": null,
   "metadata": {
    "execution": {
     "iopub.execute_input": "2021-07-19T13:17:30.750893Z",
     "iopub.status.busy": "2021-07-19T13:17:30.750498Z",
     "iopub.status.idle": "2021-07-19T13:17:30.771201Z",
     "shell.execute_reply": "2021-07-19T13:17:30.769623Z",
     "shell.execute_reply.started": "2021-07-19T13:17:30.75086Z"
    }
   },
   "outputs": [],
   "source": [
    "print(\"Checking if the store was open on a StateHoliday and the corresponding Sales\")\n",
    "print(train_store_3.loc[train_store_3['StateHoliday']==1,['Sales','Open']].value_counts())"
   ]
  },
  {
   "cell_type": "code",
   "execution_count": null,
   "metadata": {
    "execution": {
     "iopub.execute_input": "2021-07-19T13:17:30.772998Z",
     "iopub.status.busy": "2021-07-19T13:17:30.772618Z",
     "iopub.status.idle": "2021-07-19T13:17:30.787997Z",
     "shell.execute_reply": "2021-07-19T13:17:30.786947Z",
     "shell.execute_reply.started": "2021-07-19T13:17:30.772967Z"
    }
   },
   "outputs": [],
   "source": [
    "print(\"Checking if the store was open on any Sundays and the corresponding Sales\")\n",
    "print(train_store_3.loc[train_store_3['DayOfWeek']==7,['Open', 'Sales']].value_counts())"
   ]
  },
  {
   "cell_type": "code",
   "execution_count": null,
   "metadata": {
    "execution": {
     "iopub.execute_input": "2021-07-19T13:17:30.789725Z",
     "iopub.status.busy": "2021-07-19T13:17:30.789372Z",
     "iopub.status.idle": "2021-07-19T13:17:30.807211Z",
     "shell.execute_reply": "2021-07-19T13:17:30.806373Z",
     "shell.execute_reply.started": "2021-07-19T13:17:30.789647Z"
    }
   },
   "outputs": [],
   "source": [
    "print(\"Checking the days on which the store was closed\")\n",
    "print(train_store_3.loc[train_store_3['Open']==0,['Sales','DayOfWeek']].value_counts())"
   ]
  },
  {
   "cell_type": "code",
   "execution_count": null,
   "metadata": {
    "execution": {
     "iopub.execute_input": "2021-07-19T13:17:30.808909Z",
     "iopub.status.busy": "2021-07-19T13:17:30.808515Z",
     "iopub.status.idle": "2021-07-19T13:17:30.819985Z",
     "shell.execute_reply": "2021-07-19T13:17:30.819251Z",
     "shell.execute_reply.started": "2021-07-19T13:17:30.808877Z"
    }
   },
   "outputs": [],
   "source": [
    "print(\"Checking the Sales when the shop was closed and if it was a StateHoliday or not\")\n",
    "print(train_store_3.loc[train_store_3['Open']==0,['Sales','StateHoliday']].value_counts())"
   ]
  },
  {
   "cell_type": "code",
   "execution_count": null,
   "metadata": {
    "execution": {
     "iopub.execute_input": "2021-07-19T13:17:30.821289Z",
     "iopub.status.busy": "2021-07-19T13:17:30.821023Z",
     "iopub.status.idle": "2021-07-19T13:17:30.840814Z",
     "shell.execute_reply": "2021-07-19T13:17:30.839918Z",
     "shell.execute_reply.started": "2021-07-19T13:17:30.821262Z"
    }
   },
   "outputs": [],
   "source": [
    "print(\"Checking the SchoolHolidays for which the store was open and the corresponding value for StateHoliday\")\n",
    "print(train_store_3.loc[train_store_3['SchoolHoliday']==1,['DayOfWeek', 'Open', 'SchoolHoliday']].value_counts())"
   ]
  },
  {
   "cell_type": "code",
   "execution_count": null,
   "metadata": {
    "execution": {
     "iopub.execute_input": "2021-07-19T13:17:30.842768Z",
     "iopub.status.busy": "2021-07-19T13:17:30.842148Z",
     "iopub.status.idle": "2021-07-19T13:17:30.859339Z",
     "shell.execute_reply": "2021-07-19T13:17:30.85805Z",
     "shell.execute_reply.started": "2021-07-19T13:17:30.842729Z"
    }
   },
   "outputs": [],
   "source": [
    "print(\"Checking if we have 0 Sales even when the shop was open and if it was a StateHoliday or not\")\n",
    "print(train_store_3.loc[train_store_3['Sales']==0,['Open','StateHoliday']].value_counts())"
   ]
  },
  {
   "cell_type": "markdown",
   "metadata": {},
   "source": [
    "<b>Observations</b><br>\n",
    "We have 0 Sales only when the shop was closed (either due to a StateHoliday or being Sunday.<br>\n",
    "From the above outputs we can make the following observations between 'Open' and 'StateHoliday' fields\n",
    "- Store was closed for 163 days\n",
    "- Of the 161 days, 134 were Sundays and the remaining 29 were State Holidays\n",
    "- Store was closed for all the State Holidays and on all Sundays<br>\n",
    "\n",
    "No evident observations between the above two fields with the field 'SchoolHoliday'"
   ]
  },
  {
   "cell_type": "code",
   "execution_count": null,
   "metadata": {
    "execution": {
     "iopub.execute_input": "2021-07-19T13:17:30.861679Z",
     "iopub.status.busy": "2021-07-19T13:17:30.861098Z",
     "iopub.status.idle": "2021-07-19T13:17:30.884586Z",
     "shell.execute_reply": "2021-07-19T13:17:30.883358Z",
     "shell.execute_reply.started": "2021-07-19T13:17:30.861633Z"
    }
   },
   "outputs": [],
   "source": [
    "# Removing the 'Store' field since it invariant\n",
    "\n",
    "train_store_3.drop(columns=['Store'], inplace=True)\n",
    "train_store_3.info()"
   ]
  },
  {
   "cell_type": "markdown",
   "metadata": {},
   "source": [
    "Since the 'Sales' and 'Customers' are 0 only when the store was closed (due to pulic or state holiday), we can consider it as a missing value and for our purpose impute with the values that could have been present if the store had been open. For that we use Linear Interpolation.\n",
    "Even in predction, we could use the same method, i.e comparing the predicted value with what could have been the 'Sales' if the Store was open.\n",
    "But in real sense, 'Sales' would be 0 if the Store is closed"
   ]
  },
  {
   "cell_type": "code",
   "execution_count": null,
   "metadata": {
    "execution": {
     "iopub.execute_input": "2021-07-19T13:17:30.886557Z",
     "iopub.status.busy": "2021-07-19T13:17:30.886053Z",
     "iopub.status.idle": "2021-07-19T13:17:30.902663Z",
     "shell.execute_reply": "2021-07-19T13:17:30.901537Z",
     "shell.execute_reply.started": "2021-07-19T13:17:30.886511Z"
    }
   },
   "outputs": [],
   "source": [
    "train_store_3.loc[:, 'Sales'] = train_store_3.loc[:, 'Sales'].map(lambda x:np.NaN if x==0 else x).interpolate(method='linear')\n",
    "train_store_3.loc[:, 'Customers'] = train_store_3.loc[:, 'Customers'].map(lambda x:np.NaN if x==0 else x).interpolate(method='linear')\n",
    "\n",
    "# Removing the first records since its is having 0 Sales\n",
    "\n",
    "train_store_3.drop(index=pd.to_datetime('2013-01-01'),axis=0, inplace=True)\n",
    "train_store_3.shape"
   ]
  },
  {
   "cell_type": "markdown",
   "metadata": {},
   "source": [
    "#### Outlier treatment"
   ]
  },
  {
   "cell_type": "code",
   "execution_count": null,
   "metadata": {
    "execution": {
     "iopub.execute_input": "2021-07-19T13:17:30.904578Z",
     "iopub.status.busy": "2021-07-19T13:17:30.904195Z",
     "iopub.status.idle": "2021-07-19T13:17:31.020595Z",
     "shell.execute_reply": "2021-07-19T13:17:31.019837Z",
     "shell.execute_reply.started": "2021-07-19T13:17:30.904546Z"
    }
   },
   "outputs": [],
   "source": [
    "fig = plt.subplots(figsize=(12, 2))\n",
    "ax = sns.boxplot(x=train_store_3['Sales'], whis=1.5)"
   ]
  },
  {
   "cell_type": "code",
   "execution_count": null,
   "metadata": {
    "execution": {
     "iopub.execute_input": "2021-07-19T13:17:31.022027Z",
     "iopub.status.busy": "2021-07-19T13:17:31.021629Z",
     "iopub.status.idle": "2021-07-19T13:17:31.354283Z",
     "shell.execute_reply": "2021-07-19T13:17:31.353317Z",
     "shell.execute_reply.started": "2021-07-19T13:17:31.021997Z"
    }
   },
   "outputs": [],
   "source": [
    "fig = train_store_3['Sales'].hist(figsize = (12,4))"
   ]
  },
  {
   "cell_type": "markdown",
   "metadata": {},
   "source": [
    "Since from the time series plot we had observed a general increase in sales in the months of Dec-Jan, it is better to replace the higher values with lower extreme (Winsorizing) rather than removing the value completely.\n",
    "Removing the outlier is better suited when we think the outlier is erroneous"
   ]
  },
  {
   "cell_type": "code",
   "execution_count": null,
   "metadata": {
    "execution": {
     "iopub.execute_input": "2021-07-19T13:17:31.355882Z",
     "iopub.status.busy": "2021-07-19T13:17:31.35557Z",
     "iopub.status.idle": "2021-07-19T13:17:31.363742Z",
     "shell.execute_reply": "2021-07-19T13:17:31.362839Z",
     "shell.execute_reply.started": "2021-07-19T13:17:31.35585Z"
    }
   },
   "outputs": [],
   "source": [
    "print(train_store_3['Sales'].quantile(0.95))\n",
    "print(train_store_3['Sales'].quantile(0.99))"
   ]
  },
  {
   "cell_type": "code",
   "execution_count": null,
   "metadata": {
    "execution": {
     "iopub.execute_input": "2021-07-19T13:17:31.365447Z",
     "iopub.status.busy": "2021-07-19T13:17:31.365087Z",
     "iopub.status.idle": "2021-07-19T13:17:31.380947Z",
     "shell.execute_reply": "2021-07-19T13:17:31.379503Z",
     "shell.execute_reply.started": "2021-07-19T13:17:31.365396Z"
    }
   },
   "outputs": [],
   "source": [
    "# Replacing the outliers (above 99 quantile) to the value at 99 percentile\n",
    "\n",
    "train_store_3.loc[train_store_3['Sales'] > train_store_3['Sales'].quantile(0.97), 'Sales'] = math.ceil(train_store_3['Sales'].quantile(0.97))"
   ]
  },
  {
   "cell_type": "code",
   "execution_count": null,
   "metadata": {
    "execution": {
     "iopub.execute_input": "2021-07-19T13:17:31.382623Z",
     "iopub.status.busy": "2021-07-19T13:17:31.382261Z",
     "iopub.status.idle": "2021-07-19T13:17:31.516544Z",
     "shell.execute_reply": "2021-07-19T13:17:31.515549Z",
     "shell.execute_reply.started": "2021-07-19T13:17:31.382585Z"
    }
   },
   "outputs": [],
   "source": [
    "# Boxplot after winsorizing the outliers\n",
    "\n",
    "fig = plt.subplots(figsize=(12, 2))\n",
    "ax = sns.boxplot(x=train_store_3['Sales'], whis=1.5)"
   ]
  },
  {
   "cell_type": "markdown",
   "metadata": {},
   "source": [
    "#### Plotting the sales data"
   ]
  },
  {
   "cell_type": "code",
   "execution_count": null,
   "metadata": {
    "execution": {
     "iopub.execute_input": "2021-07-19T13:17:31.518071Z",
     "iopub.status.busy": "2021-07-19T13:17:31.517787Z",
     "iopub.status.idle": "2021-07-19T13:17:32.235822Z",
     "shell.execute_reply": "2021-07-19T13:17:32.234996Z",
     "shell.execute_reply.started": "2021-07-19T13:17:31.51804Z"
    }
   },
   "outputs": [],
   "source": [
    "train_store_3.loc[:,'Sales'].plot(figsize=(96, 16))\n",
    "plt.legend(loc='best')\n",
    "plt.title('Sales data for Store 3')\n",
    "plt.show(block=False)"
   ]
  },
  {
   "cell_type": "markdown",
   "metadata": {},
   "source": [
    "#### Decomposing the time series to trend and seasonality"
   ]
  },
  {
   "cell_type": "code",
   "execution_count": null,
   "metadata": {
    "execution": {
     "iopub.execute_input": "2021-07-19T13:17:32.237102Z",
     "iopub.status.busy": "2021-07-19T13:17:32.236844Z",
     "iopub.status.idle": "2021-07-19T13:17:33.636173Z",
     "shell.execute_reply": "2021-07-19T13:17:33.635081Z",
     "shell.execute_reply.started": "2021-07-19T13:17:32.237075Z"
    }
   },
   "outputs": [],
   "source": [
    "from pylab import rcParams\n",
    "rcParams['figure.figsize'] = (96,16)\n",
    "decomposition = sm.tsa.seasonal_decompose(train_store_3['Sales'], model='additive')\n",
    "fig = decomposition.plot()\n",
    "plt.show()"
   ]
  },
  {
   "cell_type": "markdown",
   "metadata": {},
   "source": [
    "The above plot tells us that there is a general increase in the months Dec-Jan and also there is repeating 0 sales throught out the timeframe.<br>\n",
    "Following analysis is done to find out the possible reasons for the above observations"
   ]
  },
  {
   "cell_type": "markdown",
   "metadata": {},
   "source": [
    "#### Creating dummy variables for the field 'DayOfWeek'"
   ]
  },
  {
   "cell_type": "code",
   "execution_count": null,
   "metadata": {
    "execution": {
     "iopub.execute_input": "2021-07-19T13:17:33.638022Z",
     "iopub.status.busy": "2021-07-19T13:17:33.637498Z",
     "iopub.status.idle": "2021-07-19T13:17:33.661559Z",
     "shell.execute_reply": "2021-07-19T13:17:33.660502Z",
     "shell.execute_reply.started": "2021-07-19T13:17:33.637981Z"
    }
   },
   "outputs": [],
   "source": [
    "# Creating dummy variables and concatenating the dummy variables of field 'DayOfWeek' to the original dataframe\n",
    "train_store_3 = pd.concat([train_store_3, pd.get_dummies(train_store_3['DayOfWeek'], prefix='DayOfWeek', drop_first=True)], axis=1)\n",
    "\n",
    "# Removing the parent field 'DayOfWeek'\n",
    "train_store_3.drop(columns=['DayOfWeek'], inplace=True)\n",
    "train_store_3.info()"
   ]
  },
  {
   "cell_type": "markdown",
   "metadata": {},
   "source": [
    "#### Checking the corelation of variables"
   ]
  },
  {
   "cell_type": "code",
   "execution_count": null,
   "metadata": {
    "execution": {
     "iopub.execute_input": "2021-07-19T13:17:33.663368Z",
     "iopub.status.busy": "2021-07-19T13:17:33.662861Z",
     "iopub.status.idle": "2021-07-19T13:17:34.549209Z",
     "shell.execute_reply": "2021-07-19T13:17:34.548233Z",
     "shell.execute_reply.started": "2021-07-19T13:17:33.663328Z"
    }
   },
   "outputs": [],
   "source": [
    "plt.figure(figsize=(12,8))\n",
    "sns.heatmap(train_store_3.corr(), annot=True)\n",
    "plt.show()"
   ]
  },
  {
   "cell_type": "markdown",
   "metadata": {},
   "source": [
    "<b>Observations</b><br>\n",
    "Following observation can be made from the above correlation plot\n",
    "- Sales and Customers fields are highly positively correlated\n",
    "- Open field is highely negatively correlated to the DayOfWeek_7 (Sunday)\n",
    "- There is a relationship between the Promo and the Sale/Customers\n",
    "- As discovered from EDA, there is a slight correlation between StateHoliday and Open<br>\n",
    "\n",
    "Above observation make sense from a business point of view as well."
   ]
  },
  {
   "cell_type": "markdown",
   "metadata": {},
   "source": [
    "#### Checking the stationarity of the data"
   ]
  },
  {
   "cell_type": "code",
   "execution_count": null,
   "metadata": {
    "execution": {
     "iopub.execute_input": "2021-07-19T13:17:34.551196Z",
     "iopub.status.busy": "2021-07-19T13:17:34.550628Z",
     "iopub.status.idle": "2021-07-19T13:17:35.015503Z",
     "shell.execute_reply": "2021-07-19T13:17:35.01441Z",
     "shell.execute_reply.started": "2021-07-19T13:17:34.551152Z"
    }
   },
   "outputs": [],
   "source": [
    "cols = train_store_3.columns\n",
    "\n",
    "\n",
    "for col in cols:\n",
    "    adf_test = adfuller(train_store_3[col])\n",
    "\n",
    "    print('ADF Statistic ({}): {}'.format(col, round(adf_test[0], 4)))\n",
    "    print('Critical Values @ 0.05 ({}): {}'.format(col, round(adf_test[4]['5%'], 2)))\n",
    "    print('p-value ({}): {}'.format(col, round(adf_test[1], 4)))\n",
    "    "
   ]
  },
  {
   "cell_type": "markdown",
   "metadata": {},
   "source": [
    "#### ACF and PACF plots"
   ]
  },
  {
   "cell_type": "code",
   "execution_count": null,
   "metadata": {
    "execution": {
     "iopub.execute_input": "2021-07-19T13:17:35.018198Z",
     "iopub.status.busy": "2021-07-19T13:17:35.017374Z",
     "iopub.status.idle": "2021-07-19T13:17:35.362387Z",
     "shell.execute_reply": "2021-07-19T13:17:35.361471Z",
     "shell.execute_reply.started": "2021-07-19T13:17:35.018144Z"
    }
   },
   "outputs": [],
   "source": [
    "plt.figure(figsize=(18,4))\n",
    "plt.subplot(1,2,1)\n",
    "plot_pacf(train_store_3['Sales'] , ax=plt.gca(), lags = 50)\n",
    "plt.subplot(1,2,2)\n",
    "plot_acf(train_store_3['Sales'] , ax=plt.gca(), lags = 50)\n",
    "plt.show()"
   ]
  },
  {
   "cell_type": "markdown",
   "metadata": {},
   "source": [
    "#### Model Creation"
   ]
  },
  {
   "cell_type": "code",
   "execution_count": null,
   "metadata": {
    "execution": {
     "iopub.execute_input": "2021-07-19T13:17:35.364324Z",
     "iopub.status.busy": "2021-07-19T13:17:35.3638Z",
     "iopub.status.idle": "2021-07-19T13:17:35.369217Z",
     "shell.execute_reply": "2021-07-19T13:17:35.368154Z",
     "shell.execute_reply.started": "2021-07-19T13:17:35.364291Z"
    }
   },
   "outputs": [],
   "source": [
    "# preparation: input should be float type\n",
    "train_store_3['Sales'] = train_store_3['Sales'] * 1.0"
   ]
  },
  {
   "cell_type": "code",
   "execution_count": null,
   "metadata": {
    "execution": {
     "iopub.execute_input": "2021-07-19T13:17:35.370914Z",
     "iopub.status.busy": "2021-07-19T13:17:35.370521Z",
     "iopub.status.idle": "2021-07-19T13:20:52.505384Z",
     "shell.execute_reply": "2021-07-19T13:20:52.504189Z",
     "shell.execute_reply.started": "2021-07-19T13:17:35.370882Z"
    }
   },
   "outputs": [],
   "source": [
    "exog = ['Promo', 'StateHoliday', 'SchoolHoliday', 'DayOfWeek_2', 'DayOfWeek_3', 'DayOfWeek_4', 'DayOfWeek_5', 'DayOfWeek_6', 'DayOfWeek_7']\n",
    "mod = sm.tsa.VARMAX(train_store_3.loc[:,['Sales', 'Customers']], exog=train_store_3[exog], order=(10,4), trend='n')\n",
    "res = mod.fit(maxiter=1000, disp=False)\n",
    "print(res.summary())\n",
    "#Note the AIC value - lower AIC => better model"
   ]
  },
  {
   "cell_type": "code",
   "execution_count": null,
   "metadata": {
    "execution": {
     "iopub.execute_input": "2021-07-19T13:20:52.507061Z",
     "iopub.status.busy": "2021-07-19T13:20:52.506782Z",
     "iopub.status.idle": "2021-07-19T13:20:52.702523Z",
     "shell.execute_reply": "2021-07-19T13:20:52.701255Z",
     "shell.execute_reply.started": "2021-07-19T13:20:52.507032Z"
    }
   },
   "outputs": [],
   "source": [
    "ax = res.impulse_responses(30, orthogonalized=True).plot(figsize=(13,3))\n",
    "ax.set(xlabel='t', title='Responses to a shock to `Customers`');"
   ]
  },
  {
   "cell_type": "code",
   "execution_count": null,
   "metadata": {
    "execution": {
     "iopub.execute_input": "2021-07-19T13:20:52.713011Z",
     "iopub.status.busy": "2021-07-19T13:20:52.712631Z",
     "iopub.status.idle": "2021-07-19T13:20:52.71999Z",
     "shell.execute_reply": "2021-07-19T13:20:52.718778Z",
     "shell.execute_reply.started": "2021-07-19T13:20:52.712966Z"
    }
   },
   "outputs": [],
   "source": [
    "train_len = 900\n",
    "train_data = train_store_3[0:train_len] \n",
    "test_data = train_store_3[train_len:]\n",
    "\n",
    "print(\"Train data: {}\".format(train_data.shape))\n",
    "print(\"Test data: {}\".format(test_data.shape))"
   ]
  },
  {
   "cell_type": "code",
   "execution_count": null,
   "metadata": {
    "execution": {
     "iopub.execute_input": "2021-07-19T13:20:52.724588Z",
     "iopub.status.busy": "2021-07-19T13:20:52.724301Z",
     "iopub.status.idle": "2021-07-19T13:20:52.739251Z",
     "shell.execute_reply": "2021-07-19T13:20:52.737882Z",
     "shell.execute_reply.started": "2021-07-19T13:20:52.724559Z"
    }
   },
   "outputs": [],
   "source": [
    "start_index = test_data.index.min()\n",
    "end_index = test_data.index.max()\n",
    "predictions = res.predict(start=start_index, end=end_index)"
   ]
  },
  {
   "cell_type": "code",
   "execution_count": null,
   "metadata": {
    "execution": {
     "iopub.execute_input": "2021-07-19T13:20:52.741466Z",
     "iopub.status.busy": "2021-07-19T13:20:52.741051Z",
     "iopub.status.idle": "2021-07-19T13:20:53.430841Z",
     "shell.execute_reply": "2021-07-19T13:20:53.429846Z",
     "shell.execute_reply.started": "2021-07-19T13:20:52.741423Z"
    }
   },
   "outputs": [],
   "source": [
    "plt.figure(figsize=(96, 16)) \n",
    "plt.plot( train_data['Sales'], label='Train')\n",
    "plt.plot(test_data['Sales'], label='Test')\n",
    "plt.plot(predictions['Sales'], label='VARMAX')\n",
    "plt.legend(loc='best')\n",
    "plt.title('VAR Model - Sales')\n",
    "plt.show()"
   ]
  },
  {
   "cell_type": "code",
   "execution_count": null,
   "metadata": {
    "execution": {
     "iopub.execute_input": "2021-07-19T13:20:53.432292Z",
     "iopub.status.busy": "2021-07-19T13:20:53.432023Z",
     "iopub.status.idle": "2021-07-19T13:20:53.452968Z",
     "shell.execute_reply": "2021-07-19T13:20:53.452034Z",
     "shell.execute_reply.started": "2021-07-19T13:20:53.432265Z"
    }
   },
   "outputs": [],
   "source": [
    "# Root Mean Square Error (RMSE)\n",
    "rmse = np.sqrt(mean_squared_error(test_data['Sales'], predictions['Sales'])).round(2)\n",
    "#print('Income: RMSE:',  rmse)\n",
    "\n",
    "# model_comparison=pd.DataFrame()\n",
    "model_comparison.loc[1,'Store']= 3\n",
    "model_comparison.loc[1,'Model']='VAR'\n",
    "model_comparison.loc[1,'Variable']='Sales'\n",
    "model_comparison.loc[1,'RMSE']=rmse\n",
    "\n",
    "# Mean Absolute Percentage Error\n",
    "abs_error = np.abs(test_data['Sales']-predictions['Sales'])\n",
    "actual = test_data['Sales']\n",
    "mape = np.round(np.mean(abs_error/actual)*100, 2)\n",
    "\n",
    "model_comparison.loc[model_comparison['Store']==3, 'MAPE'] = mape\n",
    "model_comparison"
   ]
  },
  {
   "cell_type": "markdown",
   "metadata": {},
   "source": [
    "### Store 8"
   ]
  },
  {
   "cell_type": "markdown",
   "metadata": {},
   "source": [
    "#### Getting the subset of 'train' dataset for store 8"
   ]
  },
  {
   "cell_type": "code",
   "execution_count": null,
   "metadata": {
    "execution": {
     "iopub.execute_input": "2021-07-19T13:20:53.454409Z",
     "iopub.status.busy": "2021-07-19T13:20:53.454127Z",
     "iopub.status.idle": "2021-07-19T13:20:53.470861Z",
     "shell.execute_reply": "2021-07-19T13:20:53.469722Z",
     "shell.execute_reply.started": "2021-07-19T13:20:53.454379Z"
    }
   },
   "outputs": [],
   "source": [
    "train_store_8 = train.loc[train['Store']==8,:].sort_index(ascending=True)"
   ]
  },
  {
   "cell_type": "code",
   "execution_count": null,
   "metadata": {
    "execution": {
     "iopub.execute_input": "2021-07-19T13:20:53.472254Z",
     "iopub.status.busy": "2021-07-19T13:20:53.471997Z",
     "iopub.status.idle": "2021-07-19T13:20:53.494065Z",
     "shell.execute_reply": "2021-07-19T13:20:53.492075Z",
     "shell.execute_reply.started": "2021-07-19T13:20:53.472228Z"
    }
   },
   "outputs": [],
   "source": [
    "train_store_8.info()"
   ]
  },
  {
   "cell_type": "code",
   "execution_count": null,
   "metadata": {
    "execution": {
     "iopub.execute_input": "2021-07-19T13:20:53.495758Z",
     "iopub.status.busy": "2021-07-19T13:20:53.495431Z",
     "iopub.status.idle": "2021-07-19T13:20:53.510825Z",
     "shell.execute_reply": "2021-07-19T13:20:53.509811Z",
     "shell.execute_reply.started": "2021-07-19T13:20:53.49572Z"
    }
   },
   "outputs": [],
   "source": [
    "train_store_8.index"
   ]
  },
  {
   "cell_type": "markdown",
   "metadata": {},
   "source": [
    "#### EDA on store 8 dataset"
   ]
  },
  {
   "cell_type": "code",
   "execution_count": null,
   "metadata": {
    "execution": {
     "iopub.execute_input": "2021-07-19T13:20:53.512786Z",
     "iopub.status.busy": "2021-07-19T13:20:53.512448Z",
     "iopub.status.idle": "2021-07-19T13:20:53.530357Z",
     "shell.execute_reply": "2021-07-19T13:20:53.529577Z",
     "shell.execute_reply.started": "2021-07-19T13:20:53.512745Z"
    }
   },
   "outputs": [],
   "source": [
    "print(\"Checking the number of StateHolidays, SchoolHoliday and Open days\")\n",
    "\n",
    "cols = ['StateHoliday', 'SchoolHoliday', 'Open', 'Promo']\n",
    "for col in cols:\n",
    "    print(train_store_8[col].value_counts())\n",
    "    print(\"-\"*40)"
   ]
  },
  {
   "cell_type": "code",
   "execution_count": null,
   "metadata": {
    "execution": {
     "iopub.execute_input": "2021-07-19T13:20:53.531857Z",
     "iopub.status.busy": "2021-07-19T13:20:53.531517Z",
     "iopub.status.idle": "2021-07-19T13:20:53.544835Z",
     "shell.execute_reply": "2021-07-19T13:20:53.543326Z",
     "shell.execute_reply.started": "2021-07-19T13:20:53.531813Z"
    }
   },
   "outputs": [],
   "source": [
    "print(\"Checking if the store was open on a StateHoliday and the corresponding Sales\")\n",
    "print(train_store_8.loc[train_store_8['StateHoliday']==1,['Sales','Open']].value_counts())"
   ]
  },
  {
   "cell_type": "code",
   "execution_count": null,
   "metadata": {
    "execution": {
     "iopub.execute_input": "2021-07-19T13:20:53.546995Z",
     "iopub.status.busy": "2021-07-19T13:20:53.546544Z",
     "iopub.status.idle": "2021-07-19T13:20:53.574786Z",
     "shell.execute_reply": "2021-07-19T13:20:53.573805Z",
     "shell.execute_reply.started": "2021-07-19T13:20:53.54696Z"
    }
   },
   "outputs": [],
   "source": [
    "print(\"Checking if the store was open on any Sundays and the corresponding Sales\")\n",
    "print(train_store_8.loc[train_store_8['DayOfWeek']==7,['Open', 'Sales']].value_counts())"
   ]
  },
  {
   "cell_type": "code",
   "execution_count": null,
   "metadata": {
    "execution": {
     "iopub.execute_input": "2021-07-19T13:20:53.576625Z",
     "iopub.status.busy": "2021-07-19T13:20:53.576286Z",
     "iopub.status.idle": "2021-07-19T13:20:53.5872Z",
     "shell.execute_reply": "2021-07-19T13:20:53.586228Z",
     "shell.execute_reply.started": "2021-07-19T13:20:53.576583Z"
    }
   },
   "outputs": [],
   "source": [
    "print(\"Checking the days on which the store was closed\")\n",
    "print(train_store_8.loc[train_store_8['Open']==0,['Sales','DayOfWeek']].value_counts())"
   ]
  },
  {
   "cell_type": "code",
   "execution_count": null,
   "metadata": {
    "execution": {
     "iopub.execute_input": "2021-07-19T13:20:53.588943Z",
     "iopub.status.busy": "2021-07-19T13:20:53.588668Z",
     "iopub.status.idle": "2021-07-19T13:20:53.604859Z",
     "shell.execute_reply": "2021-07-19T13:20:53.603915Z",
     "shell.execute_reply.started": "2021-07-19T13:20:53.588917Z"
    }
   },
   "outputs": [],
   "source": [
    "print(\"Checking the Sales when the shop was closed and if it was a StateHoliday or not\")\n",
    "print(train_store_8.loc[train_store_8['Open']==0,['Sales','StateHoliday']].value_counts())"
   ]
  },
  {
   "cell_type": "code",
   "execution_count": null,
   "metadata": {
    "execution": {
     "iopub.execute_input": "2021-07-19T13:20:53.606555Z",
     "iopub.status.busy": "2021-07-19T13:20:53.60627Z",
     "iopub.status.idle": "2021-07-19T13:20:53.624251Z",
     "shell.execute_reply": "2021-07-19T13:20:53.623453Z",
     "shell.execute_reply.started": "2021-07-19T13:20:53.606526Z"
    }
   },
   "outputs": [],
   "source": [
    "print(\"Checking the SchoolHolidays for which the store was open and the corresponding value for StateHoliday\")\n",
    "print(train_store_8.loc[train_store_8['SchoolHoliday']==1,['DayOfWeek', 'Open', 'SchoolHoliday']].value_counts())"
   ]
  },
  {
   "cell_type": "code",
   "execution_count": null,
   "metadata": {
    "execution": {
     "iopub.execute_input": "2021-07-19T13:20:53.625868Z",
     "iopub.status.busy": "2021-07-19T13:20:53.625407Z",
     "iopub.status.idle": "2021-07-19T13:20:53.643977Z",
     "shell.execute_reply": "2021-07-19T13:20:53.643045Z",
     "shell.execute_reply.started": "2021-07-19T13:20:53.625822Z"
    }
   },
   "outputs": [],
   "source": [
    "print(\"Checking if we have 0 Sales even when the shop was open and if it was a StateHoliday or not\")\n",
    "print(train_store_8.loc[train_store_8['Sales']==0,['Open','StateHoliday']].value_counts())"
   ]
  },
  {
   "cell_type": "markdown",
   "metadata": {},
   "source": [
    "<b>Observations</b><br>\n",
    "We have 0 Sales only when the shop was closed (either due to a StateHoliday or being Sunday.<br>\n",
    "From the above outputs we can make the following observations between 'Open' and 'StateHoliday' fields\n",
    "- Store was closed for 161 days\n",
    "- Of the 161 days, 134 were Sundays and the remaining 24 were State Holidays\n",
    "- Store was closed for all the State Holidays and on all Sundays<br>\n",
    "\n",
    "No evident observations between the above two fields with the field 'SchoolHoliday'"
   ]
  },
  {
   "cell_type": "code",
   "execution_count": null,
   "metadata": {
    "execution": {
     "iopub.execute_input": "2021-07-19T13:20:53.645474Z",
     "iopub.status.busy": "2021-07-19T13:20:53.645201Z",
     "iopub.status.idle": "2021-07-19T13:20:53.662438Z",
     "shell.execute_reply": "2021-07-19T13:20:53.661375Z",
     "shell.execute_reply.started": "2021-07-19T13:20:53.645445Z"
    }
   },
   "outputs": [],
   "source": [
    "# Removing the 'Store' field since it invariant\n",
    "\n",
    "train_store_8.drop(columns=['Store'], inplace=True)\n",
    "train_store_8.info()"
   ]
  },
  {
   "cell_type": "markdown",
   "metadata": {},
   "source": [
    "Since the 'Sales' and 'Customers' are 0 only when the store was closed (due to pulic or state holiday), we can consider it as a missing value and for our purpose impute with the values that could have been present if the store had been open. For that we use Linear Interpolation.\n",
    "Even in predction, we could use the same method, i.e comparing the predicted value with what could have been the 'Sales' if the Store was open.\n",
    "But in real sense, 'Sales' would be 0 if the Store is closed"
   ]
  },
  {
   "cell_type": "code",
   "execution_count": null,
   "metadata": {
    "execution": {
     "iopub.execute_input": "2021-07-19T13:20:53.66394Z",
     "iopub.status.busy": "2021-07-19T13:20:53.663663Z",
     "iopub.status.idle": "2021-07-19T13:20:53.683504Z",
     "shell.execute_reply": "2021-07-19T13:20:53.682123Z",
     "shell.execute_reply.started": "2021-07-19T13:20:53.663912Z"
    }
   },
   "outputs": [],
   "source": [
    "train_store_8.loc[:, 'Sales'] = train_store_8.loc[:, 'Sales'].map(lambda x:np.NaN if x==0 else x).interpolate(method='linear')\n",
    "train_store_8.loc[:, 'Customers'] = train_store_8.loc[:, 'Customers'].map(lambda x:np.NaN if x==0 else x).interpolate(method='linear')\n",
    "\n",
    "# Removing the first records since its is having 0 Sales\n",
    "\n",
    "train_store_8.drop(index=pd.to_datetime('2013-01-01'),axis=0, inplace=True)\n",
    "train_store_8.shape"
   ]
  },
  {
   "cell_type": "markdown",
   "metadata": {},
   "source": [
    "#### Outlier treatment"
   ]
  },
  {
   "cell_type": "code",
   "execution_count": null,
   "metadata": {
    "execution": {
     "iopub.execute_input": "2021-07-19T13:20:53.685779Z",
     "iopub.status.busy": "2021-07-19T13:20:53.685267Z",
     "iopub.status.idle": "2021-07-19T13:20:53.798638Z",
     "shell.execute_reply": "2021-07-19T13:20:53.797749Z",
     "shell.execute_reply.started": "2021-07-19T13:20:53.685734Z"
    }
   },
   "outputs": [],
   "source": [
    "fig = plt.subplots(figsize=(12, 2))\n",
    "ax = sns.boxplot(x=train_store_8['Sales'], whis=1.5)"
   ]
  },
  {
   "cell_type": "code",
   "execution_count": null,
   "metadata": {
    "execution": {
     "iopub.execute_input": "2021-07-19T13:20:53.800182Z",
     "iopub.status.busy": "2021-07-19T13:20:53.799912Z",
     "iopub.status.idle": "2021-07-19T13:20:53.975438Z",
     "shell.execute_reply": "2021-07-19T13:20:53.974389Z",
     "shell.execute_reply.started": "2021-07-19T13:20:53.800154Z"
    }
   },
   "outputs": [],
   "source": [
    "fig = train_store_8['Sales'].hist(figsize = (12,4))"
   ]
  },
  {
   "cell_type": "markdown",
   "metadata": {},
   "source": [
    "Since from the time series plot we had observed a general increase in sales in the months of Dec-Jan, it is better to replace the higher values with lower extreme (Winsorizing) rather than removing the value completely.\n",
    "Removing the outlier is better suited when we think the outlier is erroneous"
   ]
  },
  {
   "cell_type": "code",
   "execution_count": null,
   "metadata": {
    "execution": {
     "iopub.execute_input": "2021-07-19T13:20:53.976946Z",
     "iopub.status.busy": "2021-07-19T13:20:53.97665Z",
     "iopub.status.idle": "2021-07-19T13:20:53.985663Z",
     "shell.execute_reply": "2021-07-19T13:20:53.984649Z",
     "shell.execute_reply.started": "2021-07-19T13:20:53.976915Z"
    }
   },
   "outputs": [],
   "source": [
    "print(train_store_8['Sales'].quantile(0.95))\n",
    "print(train_store_8['Sales'].quantile(0.99))"
   ]
  },
  {
   "cell_type": "code",
   "execution_count": null,
   "metadata": {
    "execution": {
     "iopub.execute_input": "2021-07-19T13:20:53.987479Z",
     "iopub.status.busy": "2021-07-19T13:20:53.98718Z",
     "iopub.status.idle": "2021-07-19T13:20:54.00182Z",
     "shell.execute_reply": "2021-07-19T13:20:54.000496Z",
     "shell.execute_reply.started": "2021-07-19T13:20:53.987448Z"
    }
   },
   "outputs": [],
   "source": [
    "# Replacing the outliers (above 99 quantile) to the value at 99 percentile\n",
    "\n",
    "train_store_8.loc[train_store_8['Sales'] > train_store_8['Sales'].quantile(0.99), 'Sales'] = math.ceil(train_store_8['Sales'].quantile(0.99))"
   ]
  },
  {
   "cell_type": "code",
   "execution_count": null,
   "metadata": {
    "execution": {
     "iopub.execute_input": "2021-07-19T13:20:54.003892Z",
     "iopub.status.busy": "2021-07-19T13:20:54.003525Z",
     "iopub.status.idle": "2021-07-19T13:20:54.300278Z",
     "shell.execute_reply": "2021-07-19T13:20:54.299239Z",
     "shell.execute_reply.started": "2021-07-19T13:20:54.003855Z"
    }
   },
   "outputs": [],
   "source": [
    "# Boxplot after winsorizing the outliers\n",
    "\n",
    "fig = plt.subplots(figsize=(12, 2))\n",
    "ax = sns.boxplot(x=train_store_8['Sales'], whis=1.5)"
   ]
  },
  {
   "cell_type": "markdown",
   "metadata": {},
   "source": [
    "#### Plotting the sales data"
   ]
  },
  {
   "cell_type": "code",
   "execution_count": null,
   "metadata": {
    "execution": {
     "iopub.execute_input": "2021-07-19T13:20:54.30199Z",
     "iopub.status.busy": "2021-07-19T13:20:54.301665Z",
     "iopub.status.idle": "2021-07-19T13:20:54.987499Z",
     "shell.execute_reply": "2021-07-19T13:20:54.986494Z",
     "shell.execute_reply.started": "2021-07-19T13:20:54.301957Z"
    }
   },
   "outputs": [],
   "source": [
    "train_store_8.loc[:,'Sales'].plot(figsize=(96, 16))\n",
    "plt.legend(loc='best')\n",
    "plt.title('Sales data for Store 8')\n",
    "plt.show(block=False)"
   ]
  },
  {
   "cell_type": "markdown",
   "metadata": {},
   "source": [
    "#### Decomposing the time series to trend and seasonality"
   ]
  },
  {
   "cell_type": "code",
   "execution_count": null,
   "metadata": {
    "execution": {
     "iopub.execute_input": "2021-07-19T13:20:54.989117Z",
     "iopub.status.busy": "2021-07-19T13:20:54.988823Z",
     "iopub.status.idle": "2021-07-19T13:20:56.334223Z",
     "shell.execute_reply": "2021-07-19T13:20:56.32715Z",
     "shell.execute_reply.started": "2021-07-19T13:20:54.989086Z"
    }
   },
   "outputs": [],
   "source": [
    "from pylab import rcParams\n",
    "rcParams['figure.figsize'] = (96,16)\n",
    "decomposition = sm.tsa.seasonal_decompose(train_store_8['Sales'], model='additive')\n",
    "fig = decomposition.plot()\n",
    "plt.show()"
   ]
  },
  {
   "cell_type": "markdown",
   "metadata": {},
   "source": [
    "The above plot tells us that there is a general increase in the months Dec-Jan and also there is repeating 0 sales throught out the timeframe.<br>\n",
    "Following analysis is done to find out the possible reasons for the above observations"
   ]
  },
  {
   "cell_type": "markdown",
   "metadata": {},
   "source": [
    "#### Creating dummy variables for the field 'DayOfWeek'"
   ]
  },
  {
   "cell_type": "code",
   "execution_count": null,
   "metadata": {
    "execution": {
     "iopub.execute_input": "2021-07-19T13:20:56.335887Z",
     "iopub.status.busy": "2021-07-19T13:20:56.335435Z",
     "iopub.status.idle": "2021-07-19T13:20:56.352886Z",
     "shell.execute_reply": "2021-07-19T13:20:56.351816Z",
     "shell.execute_reply.started": "2021-07-19T13:20:56.335846Z"
    }
   },
   "outputs": [],
   "source": [
    "# Creating dummy variables and concatenating the dummy variables of field 'DayOfWeek' to the original dataframe\n",
    "train_store_8 = pd.concat([train_store_8, pd.get_dummies(train_store_8['DayOfWeek'], prefix='DayOfWeek', drop_first=True)], axis=1)\n",
    "\n",
    "# Removing the parent field 'DayOfWeek'\n",
    "train_store_8.drop(columns=['DayOfWeek'], inplace=True)\n",
    "train_store_8.info()"
   ]
  },
  {
   "cell_type": "markdown",
   "metadata": {},
   "source": [
    "#### Checking the corelation of variables"
   ]
  },
  {
   "cell_type": "code",
   "execution_count": null,
   "metadata": {
    "execution": {
     "iopub.execute_input": "2021-07-19T13:20:56.355078Z",
     "iopub.status.busy": "2021-07-19T13:20:56.354575Z",
     "iopub.status.idle": "2021-07-19T13:20:57.205896Z",
     "shell.execute_reply": "2021-07-19T13:20:57.204942Z",
     "shell.execute_reply.started": "2021-07-19T13:20:56.355035Z"
    }
   },
   "outputs": [],
   "source": [
    "plt.figure(figsize=(12,8))\n",
    "sns.heatmap(train_store_8.corr(), annot=True)\n",
    "plt.show()"
   ]
  },
  {
   "cell_type": "markdown",
   "metadata": {},
   "source": [
    "<b>Observations</b><br>\n",
    "Following observation can be made from the above correlation plot\n",
    "- Sales and Customers fields are highly positively correlated\n",
    "- Open field is highely negatively correlated to the DayOfWeek_7 (Sunday)\n",
    "- There is a relationship between the Promo and the Sale/Customers\n",
    "- Considerable relation between Day 6 (Saturday) and the Sales/Customers\n",
    "- As discovered from EDA, there is a slight correlation between StateHoliday and Open<br>\n",
    "\n",
    "Above observation make sense from a business point of view as well."
   ]
  },
  {
   "cell_type": "markdown",
   "metadata": {},
   "source": [
    "#### Checking the stationarity of the data"
   ]
  },
  {
   "cell_type": "code",
   "execution_count": null,
   "metadata": {
    "execution": {
     "iopub.execute_input": "2021-07-19T13:20:57.207545Z",
     "iopub.status.busy": "2021-07-19T13:20:57.207272Z",
     "iopub.status.idle": "2021-07-19T13:20:57.661157Z",
     "shell.execute_reply": "2021-07-19T13:20:57.659757Z",
     "shell.execute_reply.started": "2021-07-19T13:20:57.207517Z"
    }
   },
   "outputs": [],
   "source": [
    "cols = train_store_8.columns\n",
    "\n",
    "\n",
    "for col in cols:\n",
    "    adf_test = adfuller(train_store_8[col])\n",
    "\n",
    "    print('ADF Statistic ({}): {}'.format(col, round(adf_test[0], 4)))\n",
    "    print('Critical Values @ 0.05 ({}): {}'.format(col, round(adf_test[4]['5%'], 2)))\n",
    "    print('p-value ({}): {}'.format(col, round(adf_test[1], 4)))"
   ]
  },
  {
   "cell_type": "markdown",
   "metadata": {},
   "source": [
    "#### ACF and PACF plots"
   ]
  },
  {
   "cell_type": "code",
   "execution_count": null,
   "metadata": {
    "execution": {
     "iopub.execute_input": "2021-07-19T13:20:57.667474Z",
     "iopub.status.busy": "2021-07-19T13:20:57.666994Z",
     "iopub.status.idle": "2021-07-19T13:20:58.009232Z",
     "shell.execute_reply": "2021-07-19T13:20:58.008172Z",
     "shell.execute_reply.started": "2021-07-19T13:20:57.667427Z"
    }
   },
   "outputs": [],
   "source": [
    "plt.figure(figsize=(18,4))\n",
    "plt.subplot(1,2,1)\n",
    "plot_pacf(train_store_8['Sales'] , ax=plt.gca(), lags = 50)\n",
    "plt.subplot(1,2,2)\n",
    "plot_acf(train_store_8['Sales'] , ax=plt.gca(), lags = 50)\n",
    "plt.show()"
   ]
  },
  {
   "cell_type": "markdown",
   "metadata": {},
   "source": [
    "#### Model Creation"
   ]
  },
  {
   "cell_type": "code",
   "execution_count": null,
   "metadata": {
    "execution": {
     "iopub.execute_input": "2021-07-19T13:20:58.01082Z",
     "iopub.status.busy": "2021-07-19T13:20:58.010501Z",
     "iopub.status.idle": "2021-07-19T13:20:58.015632Z",
     "shell.execute_reply": "2021-07-19T13:20:58.014774Z",
     "shell.execute_reply.started": "2021-07-19T13:20:58.010787Z"
    }
   },
   "outputs": [],
   "source": [
    "# preparation: input should be float type\n",
    "train_store_8['Sales'] = train_store_8['Sales'] * 1.0"
   ]
  },
  {
   "cell_type": "code",
   "execution_count": null,
   "metadata": {
    "execution": {
     "iopub.execute_input": "2021-07-19T13:20:58.017044Z",
     "iopub.status.busy": "2021-07-19T13:20:58.016772Z",
     "iopub.status.idle": "2021-07-19T13:33:03.851249Z",
     "shell.execute_reply": "2021-07-19T13:33:03.850032Z",
     "shell.execute_reply.started": "2021-07-19T13:20:58.017016Z"
    }
   },
   "outputs": [],
   "source": [
    "exog = ['Promo', 'StateHoliday', 'SchoolHoliday', 'DayOfWeek_2', 'DayOfWeek_3', 'DayOfWeek_4', 'DayOfWeek_5', 'DayOfWeek_6', 'DayOfWeek_7']\n",
    "mod = sm.tsa.VARMAX(train_store_8.loc[:,['Sales', 'Customers']], exog=train_store_8[exog], order=(20,4), trend='n')\n",
    "res = mod.fit(maxiter=1000, disp=False)\n",
    "print(res.summary())\n",
    "#Note the AIC value - lower AIC => better model"
   ]
  },
  {
   "cell_type": "code",
   "execution_count": null,
   "metadata": {
    "execution": {
     "iopub.execute_input": "2021-07-19T13:33:03.854082Z",
     "iopub.status.busy": "2021-07-19T13:33:03.853312Z",
     "iopub.status.idle": "2021-07-19T13:33:04.052613Z",
     "shell.execute_reply": "2021-07-19T13:33:04.051905Z",
     "shell.execute_reply.started": "2021-07-19T13:33:03.854033Z"
    }
   },
   "outputs": [],
   "source": [
    "ax = res.impulse_responses(30, orthogonalized=True).plot(figsize=(13,3))\n",
    "ax.set(xlabel='t', title='Responses to a shock to `Customers`');"
   ]
  },
  {
   "cell_type": "code",
   "execution_count": null,
   "metadata": {
    "execution": {
     "iopub.execute_input": "2021-07-19T13:33:04.054287Z",
     "iopub.status.busy": "2021-07-19T13:33:04.053816Z",
     "iopub.status.idle": "2021-07-19T13:33:04.060001Z",
     "shell.execute_reply": "2021-07-19T13:33:04.059266Z",
     "shell.execute_reply.started": "2021-07-19T13:33:04.054254Z"
    }
   },
   "outputs": [],
   "source": [
    "train_len = 900\n",
    "train_data = train_store_8[0:train_len] \n",
    "test_data = train_store_8[train_len:]\n",
    "\n",
    "print(\"Train data: {}\".format(train_data.shape))\n",
    "print(\"Test data: {}\".format(test_data.shape))"
   ]
  },
  {
   "cell_type": "code",
   "execution_count": null,
   "metadata": {
    "execution": {
     "iopub.execute_input": "2021-07-19T13:33:04.061573Z",
     "iopub.status.busy": "2021-07-19T13:33:04.061111Z",
     "iopub.status.idle": "2021-07-19T13:33:04.079659Z",
     "shell.execute_reply": "2021-07-19T13:33:04.078824Z",
     "shell.execute_reply.started": "2021-07-19T13:33:04.061543Z"
    }
   },
   "outputs": [],
   "source": [
    "start_index = test_data.index.min()\n",
    "end_index = test_data.index.max()\n",
    "predictions = res.predict(start=start_index, end=end_index)"
   ]
  },
  {
   "cell_type": "code",
   "execution_count": null,
   "metadata": {
    "execution": {
     "iopub.execute_input": "2021-07-19T13:33:04.081459Z",
     "iopub.status.busy": "2021-07-19T13:33:04.080953Z",
     "iopub.status.idle": "2021-07-19T13:33:04.736846Z",
     "shell.execute_reply": "2021-07-19T13:33:04.735868Z",
     "shell.execute_reply.started": "2021-07-19T13:33:04.081425Z"
    }
   },
   "outputs": [],
   "source": [
    "plt.figure(figsize=(96, 16)) \n",
    "plt.plot( train_data['Sales'], label='Train')\n",
    "plt.plot(test_data['Sales'], label='Test')\n",
    "plt.plot(predictions['Sales'], label='VARMAX')\n",
    "plt.legend(loc='best')\n",
    "plt.title('VAR Model - Sales')\n",
    "plt.show()"
   ]
  },
  {
   "cell_type": "code",
   "execution_count": null,
   "metadata": {
    "execution": {
     "iopub.execute_input": "2021-07-19T13:33:04.73838Z",
     "iopub.status.busy": "2021-07-19T13:33:04.738076Z",
     "iopub.status.idle": "2021-07-19T13:33:04.759596Z",
     "shell.execute_reply": "2021-07-19T13:33:04.758428Z",
     "shell.execute_reply.started": "2021-07-19T13:33:04.738347Z"
    }
   },
   "outputs": [],
   "source": [
    "# Root Mean Square Error (RMSE)\n",
    "rmse = np.sqrt(mean_squared_error(test_data['Sales'], predictions['Sales'])).round(2)\n",
    "#print('Income: RMSE:',  rmse)\n",
    "\n",
    "# model_comparison=pd.DataFrame()\n",
    "model_comparison.loc[2,'Store']= 8\n",
    "model_comparison.loc[2,'Model']='VAR'\n",
    "model_comparison.loc[2,'Variable']='Sales'\n",
    "model_comparison.loc[2,'RMSE']=rmse\n",
    "\n",
    "# Mean Absolute Percentage Error\n",
    "abs_error = np.abs(test_data['Sales']-predictions['Sales'])\n",
    "actual = test_data['Sales']\n",
    "mape = np.round(np.mean(abs_error/actual)*100, 2)\n",
    "\n",
    "model_comparison.loc[model_comparison['Store']==8, 'MAPE'] = mape\n",
    "model_comparison"
   ]
  },
  {
   "cell_type": "markdown",
   "metadata": {},
   "source": [
    "### Store 9"
   ]
  },
  {
   "cell_type": "markdown",
   "metadata": {},
   "source": [
    "#### Getting the subset of 'train' dataset for store 9"
   ]
  },
  {
   "cell_type": "code",
   "execution_count": null,
   "metadata": {
    "execution": {
     "iopub.execute_input": "2021-07-19T13:33:04.761044Z",
     "iopub.status.busy": "2021-07-19T13:33:04.76077Z",
     "iopub.status.idle": "2021-07-19T13:33:04.773684Z",
     "shell.execute_reply": "2021-07-19T13:33:04.772624Z",
     "shell.execute_reply.started": "2021-07-19T13:33:04.761016Z"
    }
   },
   "outputs": [],
   "source": [
    "train_store_9 = train.loc[train['Store']==9,:].sort_index(ascending=True)"
   ]
  },
  {
   "cell_type": "code",
   "execution_count": null,
   "metadata": {
    "execution": {
     "iopub.execute_input": "2021-07-19T13:33:04.775433Z",
     "iopub.status.busy": "2021-07-19T13:33:04.77514Z",
     "iopub.status.idle": "2021-07-19T13:33:04.793818Z",
     "shell.execute_reply": "2021-07-19T13:33:04.792952Z",
     "shell.execute_reply.started": "2021-07-19T13:33:04.775405Z"
    }
   },
   "outputs": [],
   "source": [
    "train_store_9.info()"
   ]
  },
  {
   "cell_type": "code",
   "execution_count": null,
   "metadata": {
    "execution": {
     "iopub.execute_input": "2021-07-19T13:33:04.79539Z",
     "iopub.status.busy": "2021-07-19T13:33:04.795127Z",
     "iopub.status.idle": "2021-07-19T13:33:04.803239Z",
     "shell.execute_reply": "2021-07-19T13:33:04.802273Z",
     "shell.execute_reply.started": "2021-07-19T13:33:04.795363Z"
    }
   },
   "outputs": [],
   "source": [
    "train_store_9.index"
   ]
  },
  {
   "cell_type": "markdown",
   "metadata": {},
   "source": [
    "#### EDA on store 9 dataset"
   ]
  },
  {
   "cell_type": "code",
   "execution_count": null,
   "metadata": {
    "execution": {
     "iopub.execute_input": "2021-07-19T13:33:04.805122Z",
     "iopub.status.busy": "2021-07-19T13:33:04.804734Z",
     "iopub.status.idle": "2021-07-19T13:33:04.82115Z",
     "shell.execute_reply": "2021-07-19T13:33:04.820026Z",
     "shell.execute_reply.started": "2021-07-19T13:33:04.80508Z"
    }
   },
   "outputs": [],
   "source": [
    "print(\"Checking the number of StateHolidays, SchoolHoliday and Open days\")\n",
    "\n",
    "cols = ['StateHoliday', 'SchoolHoliday', 'Open', 'Promo']\n",
    "for col in cols:\n",
    "    print(train_store_9[col].value_counts())\n",
    "    print(\"-\"*40)"
   ]
  },
  {
   "cell_type": "code",
   "execution_count": null,
   "metadata": {
    "execution": {
     "iopub.execute_input": "2021-07-19T13:33:04.823349Z",
     "iopub.status.busy": "2021-07-19T13:33:04.822933Z",
     "iopub.status.idle": "2021-07-19T13:33:04.834227Z",
     "shell.execute_reply": "2021-07-19T13:33:04.833003Z",
     "shell.execute_reply.started": "2021-07-19T13:33:04.823303Z"
    }
   },
   "outputs": [],
   "source": [
    "print(\"Checking if the store was open on a StateHoliday and the corresponding Sales\")\n",
    "print(train_store_9.loc[train_store_9['StateHoliday']==1,['Sales','Open']].value_counts())"
   ]
  },
  {
   "cell_type": "code",
   "execution_count": null,
   "metadata": {
    "execution": {
     "iopub.execute_input": "2021-07-19T13:33:04.835878Z",
     "iopub.status.busy": "2021-07-19T13:33:04.835567Z",
     "iopub.status.idle": "2021-07-19T13:33:04.850019Z",
     "shell.execute_reply": "2021-07-19T13:33:04.849276Z",
     "shell.execute_reply.started": "2021-07-19T13:33:04.835849Z"
    }
   },
   "outputs": [],
   "source": [
    "print(\"Checking if the store was open on any Sundays and the corresponding Sales\")\n",
    "print(train_store_9.loc[train_store_9['DayOfWeek']==7,['Open', 'Sales']].value_counts())"
   ]
  },
  {
   "cell_type": "code",
   "execution_count": null,
   "metadata": {
    "execution": {
     "iopub.execute_input": "2021-07-19T13:33:04.851319Z",
     "iopub.status.busy": "2021-07-19T13:33:04.851042Z",
     "iopub.status.idle": "2021-07-19T13:33:04.866899Z",
     "shell.execute_reply": "2021-07-19T13:33:04.866174Z",
     "shell.execute_reply.started": "2021-07-19T13:33:04.851293Z"
    }
   },
   "outputs": [],
   "source": [
    "print(\"Checking the days on which the store was closed\")\n",
    "print(train_store_9.loc[train_store_9['Open']==0,['Sales','DayOfWeek']].value_counts())"
   ]
  },
  {
   "cell_type": "code",
   "execution_count": null,
   "metadata": {
    "execution": {
     "iopub.execute_input": "2021-07-19T13:33:04.868609Z",
     "iopub.status.busy": "2021-07-19T13:33:04.868105Z",
     "iopub.status.idle": "2021-07-19T13:33:04.883344Z",
     "shell.execute_reply": "2021-07-19T13:33:04.882196Z",
     "shell.execute_reply.started": "2021-07-19T13:33:04.868577Z"
    }
   },
   "outputs": [],
   "source": [
    "print(\"Checking the Sales when the shop was closed and if it was a StateHoliday or not\")\n",
    "print(train_store_9.loc[train_store_9['Open']==0,['Sales','StateHoliday']].value_counts())"
   ]
  },
  {
   "cell_type": "code",
   "execution_count": null,
   "metadata": {
    "execution": {
     "iopub.execute_input": "2021-07-19T13:33:04.885123Z",
     "iopub.status.busy": "2021-07-19T13:33:04.884846Z",
     "iopub.status.idle": "2021-07-19T13:33:04.896408Z",
     "shell.execute_reply": "2021-07-19T13:33:04.895374Z",
     "shell.execute_reply.started": "2021-07-19T13:33:04.885094Z"
    }
   },
   "outputs": [],
   "source": [
    "print(\"Checking the SchoolHolidays for which the store was open and the corresponding value for StateHoliday\")\n",
    "print(train_store_9.loc[train_store_9['SchoolHoliday']==1,['DayOfWeek', 'Open', 'SchoolHoliday']].value_counts())"
   ]
  },
  {
   "cell_type": "code",
   "execution_count": null,
   "metadata": {
    "execution": {
     "iopub.execute_input": "2021-07-19T13:33:04.897969Z",
     "iopub.status.busy": "2021-07-19T13:33:04.897669Z",
     "iopub.status.idle": "2021-07-19T13:33:04.916427Z",
     "shell.execute_reply": "2021-07-19T13:33:04.9154Z",
     "shell.execute_reply.started": "2021-07-19T13:33:04.897939Z"
    }
   },
   "outputs": [],
   "source": [
    "print(\"Checking if we have 0 Sales even when the shop was open and if it was a StateHoliday or not\")\n",
    "print(train_store_9.loc[train_store_9['Sales']==0,['Open','StateHoliday']].value_counts())"
   ]
  },
  {
   "cell_type": "markdown",
   "metadata": {},
   "source": [
    "<b>Observations</b><br>\n",
    "We have 0 Sales only when the shop was closed (either due to a StateHoliday or being Sunday.<br>\n",
    "From the above outputs we can make the following observations between 'Open' and 'StateHoliday' fields\n",
    "- Store was closed for 161 days\n",
    "- Of the 161 days, 134 were Sundays and the remaining 29 were State Holidays\n",
    "- Store was closed for all the State Holidays and on all Sundays<br>\n",
    "\n",
    "No evident observations between the above two fields with the field 'SchoolHoliday'"
   ]
  },
  {
   "cell_type": "code",
   "execution_count": null,
   "metadata": {
    "execution": {
     "iopub.execute_input": "2021-07-19T13:33:04.917769Z",
     "iopub.status.busy": "2021-07-19T13:33:04.917489Z",
     "iopub.status.idle": "2021-07-19T13:33:04.937294Z",
     "shell.execute_reply": "2021-07-19T13:33:04.936292Z",
     "shell.execute_reply.started": "2021-07-19T13:33:04.917742Z"
    }
   },
   "outputs": [],
   "source": [
    "# Removing the 'Store' field since it invariant\n",
    "\n",
    "train_store_9.drop(columns=['Store'], inplace=True)\n",
    "train_store_9.info()"
   ]
  },
  {
   "cell_type": "markdown",
   "metadata": {},
   "source": [
    "Since the 'Sales' and 'Customers' are 0 only when the store was closed (due to pulic or state holiday), we can consider it as a missing value and for our purpose impute with the values that could have been present if the store had been open. For that we use Linear Interpolation.\n",
    "Even in predction, we could use the same method, i.e comparing the predicted value with what could have been the 'Sales' if the Store was open.\n",
    "But in real sense, 'Sales' would be 0 if the Store is closed"
   ]
  },
  {
   "cell_type": "code",
   "execution_count": null,
   "metadata": {
    "execution": {
     "iopub.execute_input": "2021-07-19T13:33:04.938715Z",
     "iopub.status.busy": "2021-07-19T13:33:04.938449Z",
     "iopub.status.idle": "2021-07-19T13:33:04.956887Z",
     "shell.execute_reply": "2021-07-19T13:33:04.955924Z",
     "shell.execute_reply.started": "2021-07-19T13:33:04.938676Z"
    }
   },
   "outputs": [],
   "source": [
    "train_store_9.loc[:, 'Sales'] = train_store_9.loc[:, 'Sales'].map(lambda x:np.NaN if x==0 else x).interpolate(method='linear')\n",
    "train_store_9.loc[:, 'Customers'] = train_store_9.loc[:, 'Customers'].map(lambda x:np.NaN if x==0 else x).interpolate(method='linear')\n",
    "\n",
    "# Removing the first records since its is having 0 Sales\n",
    "\n",
    "train_store_9.drop(index=pd.to_datetime('2013-01-01'),axis=0, inplace=True)\n",
    "train_store_9.shape"
   ]
  },
  {
   "cell_type": "markdown",
   "metadata": {},
   "source": [
    "#### Outlier treatment"
   ]
  },
  {
   "cell_type": "code",
   "execution_count": null,
   "metadata": {
    "execution": {
     "iopub.execute_input": "2021-07-19T13:33:04.958667Z",
     "iopub.status.busy": "2021-07-19T13:33:04.95832Z",
     "iopub.status.idle": "2021-07-19T13:33:05.069444Z",
     "shell.execute_reply": "2021-07-19T13:33:05.068373Z",
     "shell.execute_reply.started": "2021-07-19T13:33:04.958636Z"
    }
   },
   "outputs": [],
   "source": [
    "fig = plt.subplots(figsize=(12, 2))\n",
    "ax = sns.boxplot(x=train_store_9['Sales'], whis=1.5)"
   ]
  },
  {
   "cell_type": "code",
   "execution_count": null,
   "metadata": {
    "execution": {
     "iopub.execute_input": "2021-07-19T13:33:05.070984Z",
     "iopub.status.busy": "2021-07-19T13:33:05.070715Z",
     "iopub.status.idle": "2021-07-19T13:33:05.227918Z",
     "shell.execute_reply": "2021-07-19T13:33:05.226791Z",
     "shell.execute_reply.started": "2021-07-19T13:33:05.070957Z"
    }
   },
   "outputs": [],
   "source": [
    "fig = train_store_9['Sales'].hist(figsize = (12,4))"
   ]
  },
  {
   "cell_type": "markdown",
   "metadata": {},
   "source": [
    "Since from the time series plot we had observed a general increase in sales in the months of Dec-Jan, it is better to replace the higher values with lower extreme (Winsorizing) rather than removing the value completely.\n",
    "Removing the outlier is better suited when we think the outlier is erroneous"
   ]
  },
  {
   "cell_type": "code",
   "execution_count": null,
   "metadata": {
    "execution": {
     "iopub.execute_input": "2021-07-19T13:33:05.230012Z",
     "iopub.status.busy": "2021-07-19T13:33:05.229569Z",
     "iopub.status.idle": "2021-07-19T13:33:05.239486Z",
     "shell.execute_reply": "2021-07-19T13:33:05.238292Z",
     "shell.execute_reply.started": "2021-07-19T13:33:05.229969Z"
    }
   },
   "outputs": [],
   "source": [
    "print(train_store_9['Sales'].quantile(0.95))\n",
    "print(train_store_9['Sales'].quantile(0.99))"
   ]
  },
  {
   "cell_type": "code",
   "execution_count": null,
   "metadata": {
    "execution": {
     "iopub.execute_input": "2021-07-19T13:33:05.241636Z",
     "iopub.status.busy": "2021-07-19T13:33:05.2412Z",
     "iopub.status.idle": "2021-07-19T13:33:05.252784Z",
     "shell.execute_reply": "2021-07-19T13:33:05.251962Z",
     "shell.execute_reply.started": "2021-07-19T13:33:05.241593Z"
    }
   },
   "outputs": [],
   "source": [
    "# Replacing the outliers (above 99 quantile) to the value at 99 percentile\n",
    "\n",
    "train_store_9.loc[train_store_9['Sales'] > train_store_9['Sales'].quantile(0.97), 'Sales'] = math.ceil(train_store_9['Sales'].quantile(0.97))"
   ]
  },
  {
   "cell_type": "code",
   "execution_count": null,
   "metadata": {
    "execution": {
     "iopub.execute_input": "2021-07-19T13:33:05.254348Z",
     "iopub.status.busy": "2021-07-19T13:33:05.253887Z",
     "iopub.status.idle": "2021-07-19T13:33:05.37922Z",
     "shell.execute_reply": "2021-07-19T13:33:05.378274Z",
     "shell.execute_reply.started": "2021-07-19T13:33:05.254318Z"
    }
   },
   "outputs": [],
   "source": [
    "# Boxplot after winsorizing the outliers\n",
    "\n",
    "fig = plt.subplots(figsize=(12, 2))\n",
    "ax = sns.boxplot(x=train_store_9['Sales'], whis=1.5)"
   ]
  },
  {
   "cell_type": "markdown",
   "metadata": {},
   "source": [
    "#### Plotting the sales data"
   ]
  },
  {
   "cell_type": "code",
   "execution_count": null,
   "metadata": {
    "execution": {
     "iopub.execute_input": "2021-07-19T13:33:05.380682Z",
     "iopub.status.busy": "2021-07-19T13:33:05.380383Z",
     "iopub.status.idle": "2021-07-19T13:33:06.026699Z",
     "shell.execute_reply": "2021-07-19T13:33:06.025724Z",
     "shell.execute_reply.started": "2021-07-19T13:33:05.380655Z"
    }
   },
   "outputs": [],
   "source": [
    "train_store_9.loc[:,'Sales'].plot(figsize=(96, 16))\n",
    "plt.legend(loc='best')\n",
    "plt.title('Sales data for Store 9')\n",
    "plt.show(block=False)"
   ]
  },
  {
   "cell_type": "markdown",
   "metadata": {},
   "source": [
    "#### Decomposing the time series to trend and seasonality"
   ]
  },
  {
   "cell_type": "code",
   "execution_count": null,
   "metadata": {
    "execution": {
     "iopub.execute_input": "2021-07-19T13:33:06.028263Z",
     "iopub.status.busy": "2021-07-19T13:33:06.027979Z",
     "iopub.status.idle": "2021-07-19T13:33:07.584183Z",
     "shell.execute_reply": "2021-07-19T13:33:07.582527Z",
     "shell.execute_reply.started": "2021-07-19T13:33:06.028235Z"
    }
   },
   "outputs": [],
   "source": [
    "from pylab import rcParams\n",
    "rcParams['figure.figsize'] = (96,16)\n",
    "decomposition = sm.tsa.seasonal_decompose(train_store_9['Sales'], model='additive')\n",
    "fig = decomposition.plot()\n",
    "plt.show()"
   ]
  },
  {
   "cell_type": "markdown",
   "metadata": {},
   "source": [
    "The above plot tells us that there is a general increase in the months Dec-Jan and also there is repeating 0 sales throught out the timeframe.<br>\n",
    "Following analysis is done to find out the possible reasons for the above observations"
   ]
  },
  {
   "cell_type": "markdown",
   "metadata": {},
   "source": [
    "#### Creating dummy variables for the field 'DayOfWeek'"
   ]
  },
  {
   "cell_type": "code",
   "execution_count": null,
   "metadata": {
    "execution": {
     "iopub.execute_input": "2021-07-19T13:33:07.586325Z",
     "iopub.status.busy": "2021-07-19T13:33:07.585916Z",
     "iopub.status.idle": "2021-07-19T13:33:07.613068Z",
     "shell.execute_reply": "2021-07-19T13:33:07.611684Z",
     "shell.execute_reply.started": "2021-07-19T13:33:07.586283Z"
    }
   },
   "outputs": [],
   "source": [
    "# Creating dummy variables and concatenating the dummy variables of field 'DayOfWeek' to the original dataframe\n",
    "train_store_9 = pd.concat([train_store_9, pd.get_dummies(train_store_9['DayOfWeek'], prefix='DayOfWeek', drop_first=True)], axis=1)\n",
    "\n",
    "# Removing the parent field 'DayOfWeek'\n",
    "train_store_9.drop(columns=['DayOfWeek'], inplace=True)\n",
    "train_store_9.info()"
   ]
  },
  {
   "cell_type": "markdown",
   "metadata": {},
   "source": [
    "#### Checking the corelation of variables"
   ]
  },
  {
   "cell_type": "code",
   "execution_count": null,
   "metadata": {
    "execution": {
     "iopub.execute_input": "2021-07-19T13:33:07.615152Z",
     "iopub.status.busy": "2021-07-19T13:33:07.614674Z",
     "iopub.status.idle": "2021-07-19T13:33:08.548825Z",
     "shell.execute_reply": "2021-07-19T13:33:08.547933Z",
     "shell.execute_reply.started": "2021-07-19T13:33:07.615103Z"
    }
   },
   "outputs": [],
   "source": [
    "plt.figure(figsize=(12,8))\n",
    "sns.heatmap(train_store_9.corr(), annot=True)\n",
    "plt.show()"
   ]
  },
  {
   "cell_type": "markdown",
   "metadata": {},
   "source": [
    "<b>Observations</b><br>\n",
    "Following observation can be made from the above correlation plot\n",
    "- Sales and Customers fields are highly positively correlated\n",
    "- Open field is highely negatively correlated to the DayOfWeek_7 (Sunday)\n",
    "- There is a relationship between the Promo and the Sale/Customers\n",
    "- As discovered from EDA, there is a slight correlation between StateHoliday and Open<br>\n",
    "\n",
    "Above observation make sense from a business point of view as well."
   ]
  },
  {
   "cell_type": "markdown",
   "metadata": {},
   "source": [
    "#### Checking the stationarity of the data"
   ]
  },
  {
   "cell_type": "code",
   "execution_count": null,
   "metadata": {
    "execution": {
     "iopub.execute_input": "2021-07-19T13:33:08.550342Z",
     "iopub.status.busy": "2021-07-19T13:33:08.550062Z",
     "iopub.status.idle": "2021-07-19T13:33:09.026711Z",
     "shell.execute_reply": "2021-07-19T13:33:09.025212Z",
     "shell.execute_reply.started": "2021-07-19T13:33:08.550313Z"
    }
   },
   "outputs": [],
   "source": [
    "cols = train_store_9.columns\n",
    "\n",
    "\n",
    "for col in cols:\n",
    "    adf_test = adfuller(train_store_9[col])\n",
    "\n",
    "    print('ADF Statistic ({}): {}'.format(col, round(adf_test[0], 4)))\n",
    "    print('Critical Values @ 0.05 ({}): {}'.format(col, round(adf_test[4]['5%'], 2)))\n",
    "    print('p-value ({}): {}'.format(col, round(adf_test[1], 4)))\n",
    "    "
   ]
  },
  {
   "cell_type": "markdown",
   "metadata": {},
   "source": [
    "#### ACF and PACF plots"
   ]
  },
  {
   "cell_type": "code",
   "execution_count": null,
   "metadata": {
    "execution": {
     "iopub.execute_input": "2021-07-19T13:33:09.033981Z",
     "iopub.status.busy": "2021-07-19T13:33:09.033303Z",
     "iopub.status.idle": "2021-07-19T13:33:09.422571Z",
     "shell.execute_reply": "2021-07-19T13:33:09.421547Z",
     "shell.execute_reply.started": "2021-07-19T13:33:09.03393Z"
    }
   },
   "outputs": [],
   "source": [
    "plt.figure(figsize=(18,4))\n",
    "plt.subplot(1,2,1)\n",
    "plot_pacf(train_store_9['Sales'] , ax=plt.gca(), lags = 50)\n",
    "plt.subplot(1,2,2)\n",
    "plot_acf(train_store_9['Sales'] , ax=plt.gca(), lags = 50)\n",
    "plt.show()"
   ]
  },
  {
   "cell_type": "markdown",
   "metadata": {},
   "source": [
    "#### Model Creation"
   ]
  },
  {
   "cell_type": "code",
   "execution_count": null,
   "metadata": {
    "execution": {
     "iopub.execute_input": "2021-07-19T13:33:09.424635Z",
     "iopub.status.busy": "2021-07-19T13:33:09.424076Z",
     "iopub.status.idle": "2021-07-19T13:33:09.430604Z",
     "shell.execute_reply": "2021-07-19T13:33:09.429443Z",
     "shell.execute_reply.started": "2021-07-19T13:33:09.42459Z"
    }
   },
   "outputs": [],
   "source": [
    "# preparation: input should be float type\n",
    "train_store_9['Sales'] = train_store_9['Sales'] * 1.0"
   ]
  },
  {
   "cell_type": "code",
   "execution_count": null,
   "metadata": {
    "execution": {
     "iopub.execute_input": "2021-07-19T13:33:09.4321Z",
     "iopub.status.busy": "2021-07-19T13:33:09.431833Z",
     "iopub.status.idle": "2021-07-19T13:41:12.704319Z",
     "shell.execute_reply": "2021-07-19T13:41:12.703136Z",
     "shell.execute_reply.started": "2021-07-19T13:33:09.432073Z"
    }
   },
   "outputs": [],
   "source": [
    "exog = ['Promo', 'StateHoliday', 'SchoolHoliday', 'DayOfWeek_2', 'DayOfWeek_3', 'DayOfWeek_4', 'DayOfWeek_5', 'DayOfWeek_6', 'DayOfWeek_7']\n",
    "mod = sm.tsa.VARMAX(train_store_9.loc[:,['Sales', 'Customers']], exog=train_store_9[exog], order=(16,4), trend='n')\n",
    "res = mod.fit(maxiter=1000, disp=False)\n",
    "print(res.summary())\n",
    "#Note the AIC value - lower AIC => better model"
   ]
  },
  {
   "cell_type": "code",
   "execution_count": null,
   "metadata": {
    "execution": {
     "iopub.execute_input": "2021-07-19T13:41:12.706343Z",
     "iopub.status.busy": "2021-07-19T13:41:12.705935Z",
     "iopub.status.idle": "2021-07-19T13:41:12.914392Z",
     "shell.execute_reply": "2021-07-19T13:41:12.913462Z",
     "shell.execute_reply.started": "2021-07-19T13:41:12.706298Z"
    }
   },
   "outputs": [],
   "source": [
    "ax = res.impulse_responses(30, orthogonalized=True).plot(figsize=(13,3))\n",
    "ax.set(xlabel='t', title='Responses to a shock to `Customers`');"
   ]
  },
  {
   "cell_type": "code",
   "execution_count": null,
   "metadata": {
    "execution": {
     "iopub.execute_input": "2021-07-19T13:41:12.916194Z",
     "iopub.status.busy": "2021-07-19T13:41:12.915911Z",
     "iopub.status.idle": "2021-07-19T13:41:12.922889Z",
     "shell.execute_reply": "2021-07-19T13:41:12.921786Z",
     "shell.execute_reply.started": "2021-07-19T13:41:12.916165Z"
    }
   },
   "outputs": [],
   "source": [
    "train_len = 900\n",
    "train_data = train_store_9[0:train_len] \n",
    "test_data = train_store_9[train_len:]\n",
    "\n",
    "print(\"Train data: {}\".format(train_data.shape))\n",
    "print(\"Test data: {}\".format(test_data.shape))"
   ]
  },
  {
   "cell_type": "code",
   "execution_count": null,
   "metadata": {
    "execution": {
     "iopub.execute_input": "2021-07-19T13:41:12.924608Z",
     "iopub.status.busy": "2021-07-19T13:41:12.924321Z",
     "iopub.status.idle": "2021-07-19T13:41:12.938429Z",
     "shell.execute_reply": "2021-07-19T13:41:12.937237Z",
     "shell.execute_reply.started": "2021-07-19T13:41:12.924578Z"
    }
   },
   "outputs": [],
   "source": [
    "start_index = test_data.index.min()\n",
    "end_index = test_data.index.max()\n",
    "predictions = res.predict(start=start_index, end=end_index)"
   ]
  },
  {
   "cell_type": "code",
   "execution_count": null,
   "metadata": {
    "execution": {
     "iopub.execute_input": "2021-07-19T13:41:12.941116Z",
     "iopub.status.busy": "2021-07-19T13:41:12.940326Z",
     "iopub.status.idle": "2021-07-19T13:41:13.54693Z",
     "shell.execute_reply": "2021-07-19T13:41:13.546017Z",
     "shell.execute_reply.started": "2021-07-19T13:41:12.941072Z"
    }
   },
   "outputs": [],
   "source": [
    "plt.figure(figsize=(96, 16)) \n",
    "plt.plot( train_data['Sales'], label='Train')\n",
    "plt.plot(test_data['Sales'], label='Test')\n",
    "plt.plot(predictions['Sales'], label='VARMAX')\n",
    "plt.legend(loc='best')\n",
    "plt.title('VAR Model - Sales')\n",
    "plt.show()"
   ]
  },
  {
   "cell_type": "code",
   "execution_count": null,
   "metadata": {
    "execution": {
     "iopub.execute_input": "2021-07-19T13:41:13.548397Z",
     "iopub.status.busy": "2021-07-19T13:41:13.54813Z",
     "iopub.status.idle": "2021-07-19T13:41:13.569085Z",
     "shell.execute_reply": "2021-07-19T13:41:13.568214Z",
     "shell.execute_reply.started": "2021-07-19T13:41:13.548369Z"
    }
   },
   "outputs": [],
   "source": [
    "# Root Mean Square Error (RMSE)\n",
    "rmse = np.sqrt(mean_squared_error(test_data['Sales'], predictions['Sales'])).round(2)\n",
    "#print('Income: RMSE:',  rmse)\n",
    "\n",
    "# model_comparison=pd.DataFrame()\n",
    "model_comparison.loc[3,'Store']= 9\n",
    "model_comparison.loc[3,'Model']='VAR'\n",
    "model_comparison.loc[3,'Variable']='Sales'\n",
    "model_comparison.loc[3,'RMSE']=rmse\n",
    "\n",
    "# Mean Absolute Percentage Error\n",
    "abs_error = np.abs(test_data['Sales']-predictions['Sales'])\n",
    "actual = test_data['Sales']\n",
    "mape = np.round(np.mean(abs_error/actual)*100, 2)\n",
    "\n",
    "model_comparison.loc[model_comparison['Store']==9, 'MAPE'] = mape\n",
    "model_comparison"
   ]
  },
  {
   "cell_type": "markdown",
   "metadata": {},
   "source": [
    "### Store 29"
   ]
  },
  {
   "cell_type": "markdown",
   "metadata": {},
   "source": [
    "#### Getting the subset of 'train' dataset for store 29"
   ]
  },
  {
   "cell_type": "code",
   "execution_count": null,
   "metadata": {
    "execution": {
     "iopub.execute_input": "2021-07-19T13:41:13.570649Z",
     "iopub.status.busy": "2021-07-19T13:41:13.570133Z",
     "iopub.status.idle": "2021-07-19T13:41:13.584201Z",
     "shell.execute_reply": "2021-07-19T13:41:13.583331Z",
     "shell.execute_reply.started": "2021-07-19T13:41:13.570614Z"
    }
   },
   "outputs": [],
   "source": [
    "train_store_29 = train.loc[train['Store']==29,:].sort_index(ascending=True)"
   ]
  },
  {
   "cell_type": "code",
   "execution_count": null,
   "metadata": {
    "execution": {
     "iopub.execute_input": "2021-07-19T13:41:13.585724Z",
     "iopub.status.busy": "2021-07-19T13:41:13.585298Z",
     "iopub.status.idle": "2021-07-19T13:41:13.604824Z",
     "shell.execute_reply": "2021-07-19T13:41:13.603816Z",
     "shell.execute_reply.started": "2021-07-19T13:41:13.585681Z"
    }
   },
   "outputs": [],
   "source": [
    "train_store_29.info()"
   ]
  },
  {
   "cell_type": "code",
   "execution_count": null,
   "metadata": {
    "execution": {
     "iopub.execute_input": "2021-07-19T13:41:13.606451Z",
     "iopub.status.busy": "2021-07-19T13:41:13.606156Z",
     "iopub.status.idle": "2021-07-19T13:41:13.618516Z",
     "shell.execute_reply": "2021-07-19T13:41:13.617482Z",
     "shell.execute_reply.started": "2021-07-19T13:41:13.606421Z"
    }
   },
   "outputs": [],
   "source": [
    "train_store_29.index"
   ]
  },
  {
   "cell_type": "markdown",
   "metadata": {},
   "source": [
    "#### EDA on store 29 dataset"
   ]
  },
  {
   "cell_type": "code",
   "execution_count": null,
   "metadata": {
    "execution": {
     "iopub.execute_input": "2021-07-19T13:41:13.620466Z",
     "iopub.status.busy": "2021-07-19T13:41:13.619906Z",
     "iopub.status.idle": "2021-07-19T13:41:13.638958Z",
     "shell.execute_reply": "2021-07-19T13:41:13.637973Z",
     "shell.execute_reply.started": "2021-07-19T13:41:13.620421Z"
    }
   },
   "outputs": [],
   "source": [
    "print(\"Checking the number of StateHolidays, SchoolHoliday and Open days\")\n",
    "\n",
    "cols = ['StateHoliday', 'SchoolHoliday', 'Open', 'Promo']\n",
    "for col in cols:\n",
    "    print(train_store_29[col].value_counts())\n",
    "    print(\"-\"*40)"
   ]
  },
  {
   "cell_type": "code",
   "execution_count": null,
   "metadata": {
    "execution": {
     "iopub.execute_input": "2021-07-19T13:41:13.640387Z",
     "iopub.status.busy": "2021-07-19T13:41:13.64011Z",
     "iopub.status.idle": "2021-07-19T13:41:13.65899Z",
     "shell.execute_reply": "2021-07-19T13:41:13.658052Z",
     "shell.execute_reply.started": "2021-07-19T13:41:13.640361Z"
    }
   },
   "outputs": [],
   "source": [
    "print(\"Checking if the store was open on a StateHoliday and the corresponding Sales\")\n",
    "print(train_store_29.loc[train_store_29['StateHoliday']==1,['Sales','Open']].value_counts())"
   ]
  },
  {
   "cell_type": "code",
   "execution_count": null,
   "metadata": {
    "execution": {
     "iopub.execute_input": "2021-07-19T13:41:13.660775Z",
     "iopub.status.busy": "2021-07-19T13:41:13.660366Z",
     "iopub.status.idle": "2021-07-19T13:41:13.679205Z",
     "shell.execute_reply": "2021-07-19T13:41:13.67849Z",
     "shell.execute_reply.started": "2021-07-19T13:41:13.660732Z"
    }
   },
   "outputs": [],
   "source": [
    "print(\"Checking if the store was open on any Sundays and the corresponding Sales\")\n",
    "print(train_store_29.loc[train_store_29['DayOfWeek']==7,['Open', 'Sales']].value_counts())"
   ]
  },
  {
   "cell_type": "code",
   "execution_count": null,
   "metadata": {
    "execution": {
     "iopub.execute_input": "2021-07-19T13:41:13.680861Z",
     "iopub.status.busy": "2021-07-19T13:41:13.680343Z",
     "iopub.status.idle": "2021-07-19T13:41:13.699087Z",
     "shell.execute_reply": "2021-07-19T13:41:13.697829Z",
     "shell.execute_reply.started": "2021-07-19T13:41:13.680829Z"
    }
   },
   "outputs": [],
   "source": [
    "print(\"Checking the days on which the store was closed\")\n",
    "print(train_store_29.loc[train_store_29['Open']==0,['Sales','DayOfWeek']].value_counts())"
   ]
  },
  {
   "cell_type": "code",
   "execution_count": null,
   "metadata": {
    "execution": {
     "iopub.execute_input": "2021-07-19T13:41:13.70084Z",
     "iopub.status.busy": "2021-07-19T13:41:13.700503Z",
     "iopub.status.idle": "2021-07-19T13:41:13.710625Z",
     "shell.execute_reply": "2021-07-19T13:41:13.709797Z",
     "shell.execute_reply.started": "2021-07-19T13:41:13.700806Z"
    }
   },
   "outputs": [],
   "source": [
    "print(\"Checking the Sales when the shop was closed and if it was a StateHoliday or not\")\n",
    "print(train_store_29.loc[train_store_29['Open']==0,['Sales','StateHoliday']].value_counts())"
   ]
  },
  {
   "cell_type": "code",
   "execution_count": null,
   "metadata": {
    "execution": {
     "iopub.execute_input": "2021-07-19T13:41:13.712163Z",
     "iopub.status.busy": "2021-07-19T13:41:13.711892Z",
     "iopub.status.idle": "2021-07-19T13:41:13.732027Z",
     "shell.execute_reply": "2021-07-19T13:41:13.730853Z",
     "shell.execute_reply.started": "2021-07-19T13:41:13.712135Z"
    }
   },
   "outputs": [],
   "source": [
    "print(\"Checking the SchoolHolidays for which the store was open and the corresponding value for StateHoliday\")\n",
    "print(train_store_29.loc[train_store_29['SchoolHoliday']==1,['DayOfWeek', 'Open', 'SchoolHoliday']].value_counts())"
   ]
  },
  {
   "cell_type": "code",
   "execution_count": null,
   "metadata": {
    "execution": {
     "iopub.execute_input": "2021-07-19T13:41:13.733864Z",
     "iopub.status.busy": "2021-07-19T13:41:13.733438Z",
     "iopub.status.idle": "2021-07-19T13:41:13.750299Z",
     "shell.execute_reply": "2021-07-19T13:41:13.749364Z",
     "shell.execute_reply.started": "2021-07-19T13:41:13.733835Z"
    }
   },
   "outputs": [],
   "source": [
    "print(\"Checking if we have 0 Sales even when the shop was open and if it was a StateHoliday or not\")\n",
    "print(train_store_29.loc[train_store_29['Sales']==0,['Open','StateHoliday']].value_counts())"
   ]
  },
  {
   "cell_type": "markdown",
   "metadata": {},
   "source": [
    "<b>Observations</b><br>\n",
    "We have 0 Sales only when the shop was closed (either due to a StateHoliday or being Sunday.<br>\n",
    "From the above outputs we can make the following observations between 'Open' and 'StateHoliday' fields\n",
    "- Store was closed for 161 days\n",
    "- Of the 161 days, 134 were Sundays and the remaining 29 were State Holidays\n",
    "- Store was closed for all the State Holidays and on all Sundays<br>\n",
    "\n",
    "No evident observations between the above two fields with the field 'SchoolHoliday'"
   ]
  },
  {
   "cell_type": "code",
   "execution_count": null,
   "metadata": {
    "execution": {
     "iopub.execute_input": "2021-07-19T13:41:13.751819Z",
     "iopub.status.busy": "2021-07-19T13:41:13.751509Z",
     "iopub.status.idle": "2021-07-19T13:41:13.768361Z",
     "shell.execute_reply": "2021-07-19T13:41:13.767341Z",
     "shell.execute_reply.started": "2021-07-19T13:41:13.751779Z"
    }
   },
   "outputs": [],
   "source": [
    "# Removing the 'Store' field since it invariant\n",
    "\n",
    "train_store_29.drop(columns=['Store'], inplace=True)\n",
    "train_store_29.info()"
   ]
  },
  {
   "cell_type": "markdown",
   "metadata": {},
   "source": [
    "Since the 'Sales' and 'Customers' are 0 only when the store was closed (due to pulic or state holiday), we can consider it as a missing value and for our purpose impute with the values that could have been present if the store had been open. For that we use Linear Interpolation.\n",
    "Even in predction, we could use the same method, i.e comparing the predicted value with what could have been the 'Sales' if the Store was open.\n",
    "But in real sense, 'Sales' would be 0 if the Store is closed"
   ]
  },
  {
   "cell_type": "code",
   "execution_count": null,
   "metadata": {
    "execution": {
     "iopub.execute_input": "2021-07-19T13:41:13.770446Z",
     "iopub.status.busy": "2021-07-19T13:41:13.770055Z",
     "iopub.status.idle": "2021-07-19T13:41:13.789626Z",
     "shell.execute_reply": "2021-07-19T13:41:13.788957Z",
     "shell.execute_reply.started": "2021-07-19T13:41:13.770405Z"
    }
   },
   "outputs": [],
   "source": [
    "train_store_29.loc[:, 'Sales'] = train_store_29.loc[:, 'Sales'].map(lambda x:np.NaN if x==0 else x).interpolate(method='linear')\n",
    "train_store_29.loc[:, 'Customers'] = train_store_29.loc[:, 'Customers'].map(lambda x:np.NaN if x==0 else x).interpolate(method='linear')\n",
    "\n",
    "# Removing the first records since its is having 0 Sales\n",
    "\n",
    "train_store_29.drop(index=pd.to_datetime('2013-01-01'),axis=0, inplace=True)\n",
    "train_store_29.shape"
   ]
  },
  {
   "cell_type": "markdown",
   "metadata": {},
   "source": [
    "#### Outlier treatment"
   ]
  },
  {
   "cell_type": "code",
   "execution_count": null,
   "metadata": {
    "execution": {
     "iopub.execute_input": "2021-07-19T13:41:13.79106Z",
     "iopub.status.busy": "2021-07-19T13:41:13.790796Z",
     "iopub.status.idle": "2021-07-19T13:41:13.910637Z",
     "shell.execute_reply": "2021-07-19T13:41:13.909561Z",
     "shell.execute_reply.started": "2021-07-19T13:41:13.791034Z"
    }
   },
   "outputs": [],
   "source": [
    "fig = plt.subplots(figsize=(12, 2))\n",
    "ax = sns.boxplot(x=train_store_29['Sales'], whis=1.5)"
   ]
  },
  {
   "cell_type": "code",
   "execution_count": null,
   "metadata": {
    "execution": {
     "iopub.execute_input": "2021-07-19T13:41:13.911985Z",
     "iopub.status.busy": "2021-07-19T13:41:13.911723Z",
     "iopub.status.idle": "2021-07-19T13:41:14.082591Z",
     "shell.execute_reply": "2021-07-19T13:41:14.081606Z",
     "shell.execute_reply.started": "2021-07-19T13:41:13.911958Z"
    }
   },
   "outputs": [],
   "source": [
    "fig = train_store_29['Sales'].hist(figsize = (12,4))"
   ]
  },
  {
   "cell_type": "markdown",
   "metadata": {},
   "source": [
    "Since from the time series plot we had observed a general increase in sales in the months of Dec-Jan, it is better to replace the higher values with lower extreme (Winsorizing) rather than removing the value completely.\n",
    "Removing the outlier is better suited when we think the outlier is erroneous"
   ]
  },
  {
   "cell_type": "code",
   "execution_count": null,
   "metadata": {
    "execution": {
     "iopub.execute_input": "2021-07-19T13:41:14.0844Z",
     "iopub.status.busy": "2021-07-19T13:41:14.084032Z",
     "iopub.status.idle": "2021-07-19T13:41:14.092522Z",
     "shell.execute_reply": "2021-07-19T13:41:14.091405Z",
     "shell.execute_reply.started": "2021-07-19T13:41:14.084366Z"
    }
   },
   "outputs": [],
   "source": [
    "print(train_store_29['Sales'].quantile(0.95))\n",
    "print(train_store_29['Sales'].quantile(0.99))"
   ]
  },
  {
   "cell_type": "code",
   "execution_count": null,
   "metadata": {
    "execution": {
     "iopub.execute_input": "2021-07-19T13:41:14.094509Z",
     "iopub.status.busy": "2021-07-19T13:41:14.094109Z",
     "iopub.status.idle": "2021-07-19T13:41:14.110088Z",
     "shell.execute_reply": "2021-07-19T13:41:14.108906Z",
     "shell.execute_reply.started": "2021-07-19T13:41:14.094466Z"
    }
   },
   "outputs": [],
   "source": [
    "# Replacing the outliers (above 99 quantile) to the value at 99 percentile\n",
    "\n",
    "train_store_29.loc[train_store_29['Sales'] > train_store_29['Sales'].quantile(0.97), 'Sales'] = math.ceil(train_store_29['Sales'].quantile(0.97))"
   ]
  },
  {
   "cell_type": "code",
   "execution_count": null,
   "metadata": {
    "execution": {
     "iopub.execute_input": "2021-07-19T13:41:14.111981Z",
     "iopub.status.busy": "2021-07-19T13:41:14.111661Z",
     "iopub.status.idle": "2021-07-19T13:41:14.217789Z",
     "shell.execute_reply": "2021-07-19T13:41:14.216777Z",
     "shell.execute_reply.started": "2021-07-19T13:41:14.111949Z"
    }
   },
   "outputs": [],
   "source": [
    "# Boxplot after winsorizing the outliers\n",
    "\n",
    "fig = plt.subplots(figsize=(12, 2))\n",
    "ax = sns.boxplot(x=train_store_29['Sales'], whis=1.5)"
   ]
  },
  {
   "cell_type": "markdown",
   "metadata": {},
   "source": [
    "#### Plotting the sales data"
   ]
  },
  {
   "cell_type": "code",
   "execution_count": null,
   "metadata": {
    "execution": {
     "iopub.execute_input": "2021-07-19T13:41:14.219754Z",
     "iopub.status.busy": "2021-07-19T13:41:14.219332Z",
     "iopub.status.idle": "2021-07-19T13:41:14.876562Z",
     "shell.execute_reply": "2021-07-19T13:41:14.875709Z",
     "shell.execute_reply.started": "2021-07-19T13:41:14.21971Z"
    }
   },
   "outputs": [],
   "source": [
    "train_store_29.loc[:,'Sales'].plot(figsize=(96, 16))\n",
    "plt.legend(loc='best')\n",
    "plt.title('Sales data for Store 29')\n",
    "plt.show(block=False)"
   ]
  },
  {
   "cell_type": "markdown",
   "metadata": {},
   "source": [
    "#### Decomposing the time series to trend and seasonality"
   ]
  },
  {
   "cell_type": "code",
   "execution_count": null,
   "metadata": {
    "execution": {
     "iopub.execute_input": "2021-07-19T13:41:14.87792Z",
     "iopub.status.busy": "2021-07-19T13:41:14.877643Z",
     "iopub.status.idle": "2021-07-19T13:41:16.526741Z",
     "shell.execute_reply": "2021-07-19T13:41:16.525888Z",
     "shell.execute_reply.started": "2021-07-19T13:41:14.877892Z"
    }
   },
   "outputs": [],
   "source": [
    "from pylab import rcParams\n",
    "rcParams['figure.figsize'] = (96,16)\n",
    "decomposition = sm.tsa.seasonal_decompose(train_store_29['Sales'], model='additive')\n",
    "fig = decomposition.plot()\n",
    "plt.show()"
   ]
  },
  {
   "cell_type": "markdown",
   "metadata": {},
   "source": [
    "The above plot tells us that there is a general increase in the months Dec-Jan and also there is repeating 0 sales throught out the timeframe.<br>\n",
    "Following analysis is done to find out the possible reasons for the above observations"
   ]
  },
  {
   "cell_type": "markdown",
   "metadata": {},
   "source": [
    "#### Creating dummy variables for the field 'DayOfWeek'"
   ]
  },
  {
   "cell_type": "code",
   "execution_count": null,
   "metadata": {
    "execution": {
     "iopub.execute_input": "2021-07-19T13:41:16.528349Z",
     "iopub.status.busy": "2021-07-19T13:41:16.527914Z",
     "iopub.status.idle": "2021-07-19T13:41:16.546672Z",
     "shell.execute_reply": "2021-07-19T13:41:16.545805Z",
     "shell.execute_reply.started": "2021-07-19T13:41:16.528313Z"
    }
   },
   "outputs": [],
   "source": [
    "# Creating dummy variables and concatenating the dummy variables of field 'DayOfWeek' to the original dataframe\n",
    "train_store_29 = pd.concat([train_store_29, pd.get_dummies(train_store_29['DayOfWeek'], prefix='DayOfWeek', drop_first=True)], axis=1)\n",
    "\n",
    "# Removing the parent field 'DayOfWeek'\n",
    "train_store_29.drop(columns=['DayOfWeek'], inplace=True)\n",
    "train_store_29.info()"
   ]
  },
  {
   "cell_type": "markdown",
   "metadata": {},
   "source": [
    "#### Checking the corelation of variables"
   ]
  },
  {
   "cell_type": "code",
   "execution_count": null,
   "metadata": {
    "execution": {
     "iopub.execute_input": "2021-07-19T13:41:16.548444Z",
     "iopub.status.busy": "2021-07-19T13:41:16.547826Z",
     "iopub.status.idle": "2021-07-19T13:41:17.503732Z",
     "shell.execute_reply": "2021-07-19T13:41:17.502764Z",
     "shell.execute_reply.started": "2021-07-19T13:41:16.548407Z"
    }
   },
   "outputs": [],
   "source": [
    "plt.figure(figsize=(12,8))\n",
    "sns.heatmap(train_store_29.corr(), annot=True)\n",
    "plt.show()"
   ]
  },
  {
   "cell_type": "markdown",
   "metadata": {},
   "source": [
    "<b>Observations</b><br>\n",
    "Following observation can be made from the above correlation plot\n",
    "- Sales and Customers fields are highly positively correlated\n",
    "- Open field is highely negatively correlated to the DayOfWeek_7 (Sunday)\n",
    "- There is a relationship between the Promo and the Sale/Customers\n",
    "- As discovered from EDA, there is a slight correlation between StateHoliday and Open<br>\n",
    "\n",
    "Above observation make sense from a business point of view as well."
   ]
  },
  {
   "cell_type": "markdown",
   "metadata": {},
   "source": [
    "#### Checking the stationarity of the data"
   ]
  },
  {
   "cell_type": "code",
   "execution_count": null,
   "metadata": {
    "execution": {
     "iopub.execute_input": "2021-07-19T13:41:17.50563Z",
     "iopub.status.busy": "2021-07-19T13:41:17.50509Z",
     "iopub.status.idle": "2021-07-19T13:41:18.224214Z",
     "shell.execute_reply": "2021-07-19T13:41:18.220489Z",
     "shell.execute_reply.started": "2021-07-19T13:41:17.505587Z"
    }
   },
   "outputs": [],
   "source": [
    "cols = train_store_29.columns\n",
    "\n",
    "\n",
    "for col in cols:\n",
    "    adf_test = adfuller(train_store_29[col])\n",
    "\n",
    "    print('ADF Statistic ({}): {}'.format(col, round(adf_test[0], 4)))\n",
    "    print('Critical Values @ 0.05 ({}): {}'.format(col, round(adf_test[4]['5%'], 2)))\n",
    "    print('p-value ({}): {}'.format(col, round(adf_test[1], 4)))\n",
    "    "
   ]
  },
  {
   "cell_type": "markdown",
   "metadata": {},
   "source": [
    "#### ACF and PACF plots"
   ]
  },
  {
   "cell_type": "code",
   "execution_count": null,
   "metadata": {
    "execution": {
     "iopub.execute_input": "2021-07-19T13:41:18.226448Z",
     "iopub.status.busy": "2021-07-19T13:41:18.225975Z",
     "iopub.status.idle": "2021-07-19T13:41:18.586614Z",
     "shell.execute_reply": "2021-07-19T13:41:18.585864Z",
     "shell.execute_reply.started": "2021-07-19T13:41:18.226402Z"
    }
   },
   "outputs": [],
   "source": [
    "plt.figure(figsize=(18,4))\n",
    "plt.subplot(1,2,1)\n",
    "plot_pacf(train_store_29['Sales'] , ax=plt.gca(), lags = 50)\n",
    "plt.subplot(1,2,2)\n",
    "plot_acf(train_store_29['Sales'] , ax=plt.gca(), lags = 50)\n",
    "plt.show()"
   ]
  },
  {
   "cell_type": "markdown",
   "metadata": {},
   "source": [
    "#### Model Creation"
   ]
  },
  {
   "cell_type": "code",
   "execution_count": null,
   "metadata": {
    "execution": {
     "iopub.execute_input": "2021-07-19T13:41:18.587997Z",
     "iopub.status.busy": "2021-07-19T13:41:18.587612Z",
     "iopub.status.idle": "2021-07-19T13:41:18.591808Z",
     "shell.execute_reply": "2021-07-19T13:41:18.591124Z",
     "shell.execute_reply.started": "2021-07-19T13:41:18.587968Z"
    }
   },
   "outputs": [],
   "source": [
    "# preparation: input should be float type\n",
    "train_store_29['Sales'] = train_store_29['Sales'] * 1.0"
   ]
  },
  {
   "cell_type": "code",
   "execution_count": null,
   "metadata": {
    "execution": {
     "iopub.execute_input": "2021-07-19T13:41:18.593103Z",
     "iopub.status.busy": "2021-07-19T13:41:18.592722Z",
     "iopub.status.idle": "2021-07-19T13:49:06.934783Z",
     "shell.execute_reply": "2021-07-19T13:49:06.9335Z",
     "shell.execute_reply.started": "2021-07-19T13:41:18.593075Z"
    }
   },
   "outputs": [],
   "source": [
    "exog = ['Promo', 'StateHoliday', 'SchoolHoliday', 'DayOfWeek_2', 'DayOfWeek_3', 'DayOfWeek_4', 'DayOfWeek_5', 'DayOfWeek_6', 'DayOfWeek_7']\n",
    "mod = sm.tsa.VARMAX(train_store_29.loc[:,['Sales', 'Customers']], exog=train_store_29[exog], order=(16,4), trend='n')\n",
    "res = mod.fit(maxiter=1000, disp=False)\n",
    "print(res.summary())\n",
    "#Note the AIC value - lower AIC => better model"
   ]
  },
  {
   "cell_type": "code",
   "execution_count": null,
   "metadata": {
    "execution": {
     "iopub.execute_input": "2021-07-19T13:49:06.936912Z",
     "iopub.status.busy": "2021-07-19T13:49:06.936482Z",
     "iopub.status.idle": "2021-07-19T13:49:07.138702Z",
     "shell.execute_reply": "2021-07-19T13:49:07.13787Z",
     "shell.execute_reply.started": "2021-07-19T13:49:06.936867Z"
    }
   },
   "outputs": [],
   "source": [
    "ax = res.impulse_responses(30, orthogonalized=True).plot(figsize=(13,3))\n",
    "ax.set(xlabel='t', title='Responses to a shock to `Customers`');"
   ]
  },
  {
   "cell_type": "code",
   "execution_count": null,
   "metadata": {
    "execution": {
     "iopub.execute_input": "2021-07-19T13:49:07.140527Z",
     "iopub.status.busy": "2021-07-19T13:49:07.139962Z",
     "iopub.status.idle": "2021-07-19T13:49:07.148027Z",
     "shell.execute_reply": "2021-07-19T13:49:07.147057Z",
     "shell.execute_reply.started": "2021-07-19T13:49:07.140481Z"
    }
   },
   "outputs": [],
   "source": [
    "train_len = 900\n",
    "train_data = train_store_29[0:train_len] \n",
    "test_data = train_store_29[train_len:]\n",
    "\n",
    "print(\"Train data: {}\".format(train_data.shape))\n",
    "print(\"Test data: {}\".format(test_data.shape))"
   ]
  },
  {
   "cell_type": "code",
   "execution_count": null,
   "metadata": {
    "execution": {
     "iopub.execute_input": "2021-07-19T13:49:07.149394Z",
     "iopub.status.busy": "2021-07-19T13:49:07.14912Z",
     "iopub.status.idle": "2021-07-19T13:49:07.164677Z",
     "shell.execute_reply": "2021-07-19T13:49:07.163574Z",
     "shell.execute_reply.started": "2021-07-19T13:49:07.149368Z"
    }
   },
   "outputs": [],
   "source": [
    "start_index = test_data.index.min()\n",
    "end_index = test_data.index.max()\n",
    "predictions = res.predict(start=start_index, end=end_index)"
   ]
  },
  {
   "cell_type": "code",
   "execution_count": null,
   "metadata": {
    "execution": {
     "iopub.execute_input": "2021-07-19T13:49:07.166308Z",
     "iopub.status.busy": "2021-07-19T13:49:07.166033Z",
     "iopub.status.idle": "2021-07-19T13:49:07.79326Z",
     "shell.execute_reply": "2021-07-19T13:49:07.792537Z",
     "shell.execute_reply.started": "2021-07-19T13:49:07.166281Z"
    }
   },
   "outputs": [],
   "source": [
    "plt.figure(figsize=(96, 16)) \n",
    "plt.plot( train_data['Sales'], label='Train')\n",
    "plt.plot(test_data['Sales'], label='Test')\n",
    "plt.plot(predictions['Sales'], label='VARMAX')\n",
    "plt.legend(loc='best')\n",
    "plt.title('VAR Model - Sales')\n",
    "plt.show()"
   ]
  },
  {
   "cell_type": "code",
   "execution_count": null,
   "metadata": {
    "execution": {
     "iopub.execute_input": "2021-07-19T13:49:07.795052Z",
     "iopub.status.busy": "2021-07-19T13:49:07.794482Z",
     "iopub.status.idle": "2021-07-19T13:49:07.8171Z",
     "shell.execute_reply": "2021-07-19T13:49:07.816442Z",
     "shell.execute_reply.started": "2021-07-19T13:49:07.795017Z"
    }
   },
   "outputs": [],
   "source": [
    "# Root Mean Square Error (RMSE)\n",
    "rmse = np.sqrt(mean_squared_error(test_data['Sales'], predictions['Sales'])).round(2)\n",
    "#print('Income: RMSE:',  rmse)\n",
    "\n",
    "# model_comparison=pd.DataFrame()\n",
    "model_comparison.loc[4,'Store']= 29\n",
    "model_comparison.loc[4,'Model']='VAR'\n",
    "model_comparison.loc[4,'Variable']='Sales'\n",
    "model_comparison.loc[4,'RMSE']=rmse\n",
    "\n",
    "# Mean Absolute Percentage Error\n",
    "abs_error = np.abs(test_data['Sales']-predictions['Sales'])\n",
    "actual = test_data['Sales']\n",
    "mape = np.round(np.mean(abs_error/actual)*100, 2)\n",
    "\n",
    "model_comparison.loc[model_comparison['Store']==29, 'MAPE'] = mape\n",
    "model_comparison"
   ]
  },
  {
   "cell_type": "markdown",
   "metadata": {},
   "source": [
    "### Store 31"
   ]
  },
  {
   "cell_type": "markdown",
   "metadata": {},
   "source": [
    "#### Getting the subset of 'train' dataset for store 31"
   ]
  },
  {
   "cell_type": "code",
   "execution_count": null,
   "metadata": {
    "execution": {
     "iopub.execute_input": "2021-07-19T13:49:07.818723Z",
     "iopub.status.busy": "2021-07-19T13:49:07.818245Z",
     "iopub.status.idle": "2021-07-19T13:49:07.824547Z",
     "shell.execute_reply": "2021-07-19T13:49:07.823912Z",
     "shell.execute_reply.started": "2021-07-19T13:49:07.818666Z"
    }
   },
   "outputs": [],
   "source": [
    "train_store_31 = train.loc[train['Store']==31,:].sort_index(ascending=True)"
   ]
  },
  {
   "cell_type": "code",
   "execution_count": null,
   "metadata": {
    "execution": {
     "iopub.execute_input": "2021-07-19T13:49:07.826532Z",
     "iopub.status.busy": "2021-07-19T13:49:07.826041Z",
     "iopub.status.idle": "2021-07-19T13:49:07.847553Z",
     "shell.execute_reply": "2021-07-19T13:49:07.846558Z",
     "shell.execute_reply.started": "2021-07-19T13:49:07.826501Z"
    }
   },
   "outputs": [],
   "source": [
    "train_store_31.info()"
   ]
  },
  {
   "cell_type": "code",
   "execution_count": null,
   "metadata": {
    "execution": {
     "iopub.execute_input": "2021-07-19T13:49:07.849137Z",
     "iopub.status.busy": "2021-07-19T13:49:07.848853Z",
     "iopub.status.idle": "2021-07-19T13:49:07.855458Z",
     "shell.execute_reply": "2021-07-19T13:49:07.854577Z",
     "shell.execute_reply.started": "2021-07-19T13:49:07.849107Z"
    }
   },
   "outputs": [],
   "source": [
    "train_store_31.index"
   ]
  },
  {
   "cell_type": "markdown",
   "metadata": {},
   "source": [
    "#### EDA on store 31 dataset"
   ]
  },
  {
   "cell_type": "code",
   "execution_count": null,
   "metadata": {
    "execution": {
     "iopub.execute_input": "2021-07-19T13:49:07.8569Z",
     "iopub.status.busy": "2021-07-19T13:49:07.856599Z",
     "iopub.status.idle": "2021-07-19T13:49:07.874337Z",
     "shell.execute_reply": "2021-07-19T13:49:07.873264Z",
     "shell.execute_reply.started": "2021-07-19T13:49:07.856863Z"
    }
   },
   "outputs": [],
   "source": [
    "print(\"Checking the number of StateHolidays, SchoolHoliday and Open days\")\n",
    "\n",
    "cols = ['StateHoliday', 'SchoolHoliday', 'Open', 'Promo']\n",
    "for col in cols:\n",
    "    print(train_store_31[col].value_counts())\n",
    "    print(\"-\"*40)"
   ]
  },
  {
   "cell_type": "code",
   "execution_count": null,
   "metadata": {
    "execution": {
     "iopub.execute_input": "2021-07-19T13:49:07.875821Z",
     "iopub.status.busy": "2021-07-19T13:49:07.875489Z",
     "iopub.status.idle": "2021-07-19T13:49:07.89353Z",
     "shell.execute_reply": "2021-07-19T13:49:07.892626Z",
     "shell.execute_reply.started": "2021-07-19T13:49:07.875782Z"
    }
   },
   "outputs": [],
   "source": [
    "print(\"Checking if the store was open on a StateHoliday and the corresponding Sales\")\n",
    "print(train_store_31.loc[train_store_31['StateHoliday']==1,['Sales','Open']].value_counts())"
   ]
  },
  {
   "cell_type": "code",
   "execution_count": null,
   "metadata": {
    "execution": {
     "iopub.execute_input": "2021-07-19T13:49:07.895147Z",
     "iopub.status.busy": "2021-07-19T13:49:07.894877Z",
     "iopub.status.idle": "2021-07-19T13:49:07.910651Z",
     "shell.execute_reply": "2021-07-19T13:49:07.90967Z",
     "shell.execute_reply.started": "2021-07-19T13:49:07.895119Z"
    }
   },
   "outputs": [],
   "source": [
    "print(\"Checking if the store was open on any Sundays and the corresponding Sales\")\n",
    "print(train_store_31.loc[train_store_31['DayOfWeek']==7,'Open'].value_counts())"
   ]
  },
  {
   "cell_type": "code",
   "execution_count": null,
   "metadata": {
    "execution": {
     "iopub.execute_input": "2021-07-19T13:49:07.912328Z",
     "iopub.status.busy": "2021-07-19T13:49:07.911994Z",
     "iopub.status.idle": "2021-07-19T13:49:07.924736Z",
     "shell.execute_reply": "2021-07-19T13:49:07.923885Z",
     "shell.execute_reply.started": "2021-07-19T13:49:07.912298Z"
    }
   },
   "outputs": [],
   "source": [
    "print(\"Checking the days on which the store was closed\")\n",
    "print(train_store_31.loc[train_store_31['Open']==0,['Sales','DayOfWeek']].value_counts())"
   ]
  },
  {
   "cell_type": "code",
   "execution_count": null,
   "metadata": {
    "execution": {
     "iopub.execute_input": "2021-07-19T13:49:07.926269Z",
     "iopub.status.busy": "2021-07-19T13:49:07.925992Z",
     "iopub.status.idle": "2021-07-19T13:49:07.942147Z",
     "shell.execute_reply": "2021-07-19T13:49:07.941101Z",
     "shell.execute_reply.started": "2021-07-19T13:49:07.926243Z"
    }
   },
   "outputs": [],
   "source": [
    "print(\"Checking the Sales when the shop was closed and if it was a StateHoliday or not\")\n",
    "print(train_store_31.loc[train_store_31['Open']==0,['Sales','StateHoliday']].value_counts())"
   ]
  },
  {
   "cell_type": "code",
   "execution_count": null,
   "metadata": {
    "execution": {
     "iopub.execute_input": "2021-07-19T13:49:07.94491Z",
     "iopub.status.busy": "2021-07-19T13:49:07.944439Z",
     "iopub.status.idle": "2021-07-19T13:49:07.961194Z",
     "shell.execute_reply": "2021-07-19T13:49:07.960131Z",
     "shell.execute_reply.started": "2021-07-19T13:49:07.944875Z"
    }
   },
   "outputs": [],
   "source": [
    "print(\"Checking the SchoolHolidays for which the store was open and the corresponding value for StateHoliday\")\n",
    "print(train_store_31.loc[train_store_31['SchoolHoliday']==1,['DayOfWeek', 'Open', 'SchoolHoliday']].value_counts())"
   ]
  },
  {
   "cell_type": "code",
   "execution_count": null,
   "metadata": {
    "execution": {
     "iopub.execute_input": "2021-07-19T13:49:07.962743Z",
     "iopub.status.busy": "2021-07-19T13:49:07.962447Z",
     "iopub.status.idle": "2021-07-19T13:49:07.971578Z",
     "shell.execute_reply": "2021-07-19T13:49:07.970848Z",
     "shell.execute_reply.started": "2021-07-19T13:49:07.962708Z"
    }
   },
   "outputs": [],
   "source": [
    "print(\"Checking if we have 0 Sales even when the shop was open and if it was a StateHoliday or not\")\n",
    "print(train_store_31.loc[train_store_31['Sales']==0,['Open','StateHoliday']].value_counts())"
   ]
  },
  {
   "cell_type": "code",
   "execution_count": null,
   "metadata": {
    "execution": {
     "iopub.execute_input": "2021-07-19T13:58:29.329305Z",
     "iopub.status.busy": "2021-07-19T13:58:29.328488Z",
     "iopub.status.idle": "2021-07-19T13:58:29.348349Z",
     "shell.execute_reply": "2021-07-19T13:58:29.346925Z",
     "shell.execute_reply.started": "2021-07-19T13:58:29.329223Z"
    }
   },
   "outputs": [],
   "source": [
    "print(\"Checking the dates where the store was open but the sales was 0\")\n",
    "print(train_store_31.loc[(train_store_31['Sales']==0)&(train_store_31['Open']==1),:].value_counts())"
   ]
  },
  {
   "cell_type": "markdown",
   "metadata": {},
   "source": [
    "<b>Observations</b><br>\n",
    "We have 0 Sales only when the shop was closed (either due to a StateHoliday or being Sunday.<br>\n",
    "From the above outputs we can make the following observations between 'Open' and 'StateHoliday' fields\n",
    "- Store was closed for 161 days\n",
    "- Of the 161 days, 134 were Sundays and the remaining 24 were State Holidays\n",
    "- Store was closed for all the State Holidays and on all Sundays<br>\n",
    "\n",
    "No evident observations between the above two fields with the field 'SchoolHoliday'"
   ]
  },
  {
   "cell_type": "code",
   "execution_count": null,
   "metadata": {},
   "outputs": [],
   "source": [
    "# Removing the 'Store' field since it invariant\n",
    "\n",
    "train_store_31.drop(columns=['Store'], inplace=True)\n",
    "train_store_31.info()"
   ]
  },
  {
   "cell_type": "markdown",
   "metadata": {},
   "source": [
    "Since the 'Sales' and 'Customers' are 0 only when the store was closed (due to pulic or state holiday), we can consider it as a missing value and for our purpose impute with the values that could have been present if the store had been open. For that we use Linear Interpolation.\n",
    "Even in predction, we could use the same method, i.e comparing the predicted value with what could have been the 'Sales' if the Store was open.\n",
    "But in real sense, 'Sales' would be 0 if the Store is closed"
   ]
  },
  {
   "cell_type": "code",
   "execution_count": null,
   "metadata": {},
   "outputs": [],
   "source": [
    "train_store_31.loc[:, 'Sales'] = train_store_31.loc[:, 'Sales'].map(lambda x:np.NaN if x==0 else x).interpolate(method='linear')\n",
    "train_store_31.loc[:, 'Customers'] = train_store_31.loc[:, 'Customers'].map(lambda x:np.NaN if x==0 else x).interpolate(method='linear')\n",
    "\n",
    "# Removing the first records since its is having 0 Sales\n",
    "\n",
    "train_store_31.drop(index=pd.to_datetime('2013-01-01'),axis=0, inplace=True)\n",
    "train_store_31.shape"
   ]
  },
  {
   "cell_type": "markdown",
   "metadata": {},
   "source": [
    "#### Outlier treatment"
   ]
  },
  {
   "cell_type": "code",
   "execution_count": null,
   "metadata": {},
   "outputs": [],
   "source": [
    "fig = plt.subplots(figsize=(12, 2))\n",
    "ax = sns.boxplot(x=train_store_31['Sales'], whis=1.5)"
   ]
  },
  {
   "cell_type": "code",
   "execution_count": null,
   "metadata": {},
   "outputs": [],
   "source": [
    "fig = train_store_31['Sales'].hist(figsize = (12,4))"
   ]
  },
  {
   "cell_type": "markdown",
   "metadata": {},
   "source": [
    "Since from the time series plot we had observed a general increase in sales in the months of Dec-Jan, it is better to replace the higher values with lower extreme (Winsorizing) rather than removing the value completely.\n",
    "Removing the outlier is better suited when we think the outlier is erroneous"
   ]
  },
  {
   "cell_type": "code",
   "execution_count": null,
   "metadata": {},
   "outputs": [],
   "source": [
    "train_store_31['Sales'].quantile(0.95)"
   ]
  },
  {
   "cell_type": "code",
   "execution_count": null,
   "metadata": {},
   "outputs": [],
   "source": [
    "train_store_31['Sales'].quantile(0.99)"
   ]
  },
  {
   "cell_type": "code",
   "execution_count": null,
   "metadata": {},
   "outputs": [],
   "source": [
    "# Replacing the outliers (above 99 quantile) to the value at 99 percentile\n",
    "\n",
    "train_store_31.loc[train_store_31['Sales'] > train_store_31['Sales'].quantile(0.97), 'Sales'] = math.ceil(train_store_31['Sales'].quantile(0.97))"
   ]
  },
  {
   "cell_type": "code",
   "execution_count": null,
   "metadata": {},
   "outputs": [],
   "source": [
    "# Boxplot after winsorizing the outliers\n",
    "\n",
    "fig = plt.subplots(figsize=(12, 2))\n",
    "ax = sns.boxplot(x=train_store_31['Sales'], whis=1.5)"
   ]
  },
  {
   "cell_type": "markdown",
   "metadata": {},
   "source": [
    "#### Plotting the sales data"
   ]
  },
  {
   "cell_type": "code",
   "execution_count": null,
   "metadata": {},
   "outputs": [],
   "source": [
    "train_store_31.loc[:,'Sales'].plot(figsize=(96, 16))\n",
    "plt.legend(loc='best')\n",
    "plt.title('Sales data for Store 31')\n",
    "plt.show(block=False)"
   ]
  },
  {
   "cell_type": "markdown",
   "metadata": {},
   "source": [
    "#### Decomposing the time series to trend and seasonality"
   ]
  },
  {
   "cell_type": "code",
   "execution_count": null,
   "metadata": {},
   "outputs": [],
   "source": [
    "from pylab import rcParams\n",
    "rcParams['figure.figsize'] = (96,16)\n",
    "decomposition = sm.tsa.seasonal_decompose(train_store_31['Sales'], model='additive')\n",
    "fig = decomposition.plot()\n",
    "plt.show()"
   ]
  },
  {
   "cell_type": "markdown",
   "metadata": {},
   "source": [
    "The above plot tells us that there is a general increase in the months Dec-Jan and also there is repeating 0 sales throught out the timeframe.<br>\n",
    "Following analysis is done to find out the possible reasons for the above observations"
   ]
  },
  {
   "cell_type": "markdown",
   "metadata": {},
   "source": [
    "#### Creating dummy variables for the field 'DayOfWeek'"
   ]
  },
  {
   "cell_type": "code",
   "execution_count": null,
   "metadata": {},
   "outputs": [],
   "source": [
    "# Creating dummy variables and concatenating the dummy variables of field 'DayOfWeek' to the original dataframe\n",
    "train_store_31 = pd.concat([train_store_31, pd.get_dummies(train_store_31['DayOfWeek'], prefix='DayOfWeek', drop_first=True)], axis=1)\n",
    "\n",
    "# Removing the parent field 'DayOfWeek'\n",
    "train_store_31.drop(columns=['DayOfWeek'], inplace=True)\n",
    "train_store_31.info()"
   ]
  },
  {
   "cell_type": "markdown",
   "metadata": {},
   "source": [
    "#### Checking the corelation of variables"
   ]
  },
  {
   "cell_type": "code",
   "execution_count": null,
   "metadata": {},
   "outputs": [],
   "source": [
    "plt.figure(figsize=(12,8))\n",
    "sns.heatmap(train_store_31.corr(), annot=True)\n",
    "plt.show()"
   ]
  },
  {
   "cell_type": "markdown",
   "metadata": {},
   "source": [
    "<b>Observations</b><br>\n",
    "Following observation can be made from the above correlation plot\n",
    "- Sales and Customers fields are highly positively correlated\n",
    "- Open field is highely negatively correlated to the DayOfWeek_7 (Sunday)\n",
    "- No considerable relationship between the Promo and the Sale/Customers\n",
    "- As discovered from EDA, there is a slight correlation between StateHoliday and Open<br>\n",
    "\n",
    "Above observation make sense from a business point of view as well."
   ]
  },
  {
   "cell_type": "markdown",
   "metadata": {},
   "source": [
    "#### Checking the stationarity of the data"
   ]
  },
  {
   "cell_type": "code",
   "execution_count": null,
   "metadata": {},
   "outputs": [],
   "source": [
    "cols = train_store_31.columns\n",
    "\n",
    "\n",
    "for col in cols:\n",
    "    adf_test = adfuller(train_store_1[col])\n",
    "\n",
    "    print('ADF Statistic ({}): {}'.format(col, round(adf_test[0], 4)))\n",
    "    print('Critical Values @ 0.05 ({}): {}'.format(col, round(adf_test[4]['5%'], 2)))\n",
    "    print('p-value ({}): {}'.format(col, round(adf_test[1], 4)))"
   ]
  },
  {
   "cell_type": "markdown",
   "metadata": {},
   "source": [
    "#### ACF and PACF plots"
   ]
  },
  {
   "cell_type": "code",
   "execution_count": null,
   "metadata": {},
   "outputs": [],
   "source": [
    "plt.figure(figsize=(18,4))\n",
    "plt.subplot(1,2,1)\n",
    "plot_pacf(train_store_31['Sales'] , ax=plt.gca(), lags = 50)\n",
    "plt.subplot(1,2,2)\n",
    "plot_acf(train_store_31['Sales'] , ax=plt.gca(), lags = 50)\n",
    "plt.show()"
   ]
  },
  {
   "cell_type": "markdown",
   "metadata": {},
   "source": [
    "#### Model Creation"
   ]
  },
  {
   "cell_type": "code",
   "execution_count": null,
   "metadata": {},
   "outputs": [],
   "source": [
    "# preparation: input should be float type\n",
    "train_store_31['Sales'] = train_store_31['Sales'] * 1.0"
   ]
  },
  {
   "cell_type": "code",
   "execution_count": null,
   "metadata": {},
   "outputs": [],
   "source": [
    "exog = ['Promo', 'StateHoliday', 'SchoolHoliday', 'DayOfWeek_2', 'DayOfWeek_3', 'DayOfWeek_4', 'DayOfWeek_5', 'DayOfWeek_6', 'DayOfWeek_7']\n",
    "mod = sm.tsa.VARMAX(train_store_31.loc[:,['Sales', 'Customers']], exog=train_store_1[exog], order=(5,5), trend='n')\n",
    "res = mod.fit(maxiter=1000, disp=False)\n",
    "print(res.summary())\n",
    "#Note the AIC value - lower AIC => better model"
   ]
  },
  {
   "cell_type": "code",
   "execution_count": null,
   "metadata": {},
   "outputs": [],
   "source": [
    "ax = res.impulse_responses(30, orthogonalized=True).plot(figsize=(13,3))\n",
    "ax.set(xlabel='t', title='Responses to a shock to `dln_inv`');"
   ]
  },
  {
   "cell_type": "code",
   "execution_count": null,
   "metadata": {},
   "outputs": [],
   "source": [
    "train_len = 900\n",
    "train_data = train_store_31[0:train_len] \n",
    "test_data = train_store_31[train_len:]\n",
    "\n",
    "print(\"Train data: {}\".format(train_data.shape))\n",
    "print(\"Test data: {}\".format(test_data.shape))"
   ]
  },
  {
   "cell_type": "code",
   "execution_count": null,
   "metadata": {},
   "outputs": [],
   "source": [
    "start_index = test_data.index.min()\n",
    "end_index = test_data.index.max()\n",
    "predictions = res.predict(start=start_index, end=end_index, exog=[''])"
   ]
  },
  {
   "cell_type": "code",
   "execution_count": null,
   "metadata": {},
   "outputs": [],
   "source": [
    "plt.figure(figsize=(96, 16)) \n",
    "plt.plot( train_data['Sales'], label='Train')\n",
    "plt.plot(test_data['Sales'], label='Test')\n",
    "plt.plot(predictions['Sales'], label='VARMAX')\n",
    "plt.legend(loc='best')\n",
    "plt.title('VAR Model - Sales')\n",
    "plt.show()"
   ]
  },
  {
   "cell_type": "code",
   "execution_count": null,
   "metadata": {},
   "outputs": [],
   "source": [
    "# Root Mean Square Error (RMSE)\n",
    "rmse = np.sqrt(mean_squared_error(test_data['Sales'], predictions['Sales'])).round(2)\n",
    "#print('Income: RMSE:',  rmse)\n",
    "\n",
    "# model_comparison=pd.DataFrame()\n",
    "model_comparison.loc[5,'Store']= 31\n",
    "model_comparison.loc[5,'Model']='VAR'\n",
    "model_comparison.loc[5,'Variable']='Sales'\n",
    "model_comparison.loc[5,'RMSE']=rmse\n",
    "\n",
    "# Mean Absolute Percentage Error\n",
    "abs_error = np.abs(test_data['Sales']-predictions['Sales'])\n",
    "actual = test_data['Sales']\n",
    "mape = np.round(np.mean(abs_error/actual)*100, 2)\n",
    "\n",
    "model_comparison.loc[model_comparison['Store']==31, 'MAPE'] = mape\n",
    "model_comparison"
   ]
  },
  {
   "cell_type": "markdown",
   "metadata": {},
   "source": [
    "### Store 13 - Without resampling with linear interpoloation"
   ]
  },
  {
   "cell_type": "code",
   "execution_count": null,
   "metadata": {
    "execution": {
     "iopub.execute_input": "2021-07-19T14:28:23.263033Z",
     "iopub.status.busy": "2021-07-19T14:28:23.262607Z",
     "iopub.status.idle": "2021-07-19T14:28:23.271283Z",
     "shell.execute_reply": "2021-07-19T14:28:23.270104Z",
     "shell.execute_reply.started": "2021-07-19T14:28:23.262999Z"
    }
   },
   "outputs": [],
   "source": [
    "train_store_13 = train.loc[train['Store']==13,:].sort_index(ascending=True)"
   ]
  },
  {
   "cell_type": "code",
   "execution_count": null,
   "metadata": {
    "execution": {
     "iopub.execute_input": "2021-07-19T14:28:23.516863Z",
     "iopub.status.busy": "2021-07-19T14:28:23.516487Z",
     "iopub.status.idle": "2021-07-19T14:28:23.531997Z",
     "shell.execute_reply": "2021-07-19T14:28:23.531132Z",
     "shell.execute_reply.started": "2021-07-19T14:28:23.51683Z"
    }
   },
   "outputs": [],
   "source": [
    "train_store_13.info()"
   ]
  },
  {
   "cell_type": "code",
   "execution_count": null,
   "metadata": {
    "execution": {
     "iopub.execute_input": "2021-07-19T14:28:23.69206Z",
     "iopub.status.busy": "2021-07-19T14:28:23.691536Z",
     "iopub.status.idle": "2021-07-19T14:28:23.702947Z",
     "shell.execute_reply": "2021-07-19T14:28:23.701786Z",
     "shell.execute_reply.started": "2021-07-19T14:28:23.692012Z"
    }
   },
   "outputs": [],
   "source": [
    "train_store_13.index"
   ]
  },
  {
   "cell_type": "code",
   "execution_count": null,
   "metadata": {
    "execution": {
     "iopub.execute_input": "2021-07-19T14:28:23.940886Z",
     "iopub.status.busy": "2021-07-19T14:28:23.940338Z",
     "iopub.status.idle": "2021-07-19T14:28:23.949532Z",
     "shell.execute_reply": "2021-07-19T14:28:23.948414Z",
     "shell.execute_reply.started": "2021-07-19T14:28:23.940849Z"
    }
   },
   "outputs": [],
   "source": [
    "train_store_13.isnull().sum()"
   ]
  },
  {
   "cell_type": "code",
   "execution_count": null,
   "metadata": {
    "execution": {
     "iopub.execute_input": "2021-07-19T14:28:24.118762Z",
     "iopub.status.busy": "2021-07-19T14:28:24.118397Z",
     "iopub.status.idle": "2021-07-19T14:28:24.126927Z",
     "shell.execute_reply": "2021-07-19T14:28:24.12571Z",
     "shell.execute_reply.started": "2021-07-19T14:28:24.118719Z"
    }
   },
   "outputs": [],
   "source": [
    "train_store_13 = train_store_13.reindex(pd.date_range('2013-01-01', '2015-07-31'), fill_value=0)\n",
    "train_store_13.shape"
   ]
  },
  {
   "cell_type": "code",
   "execution_count": null,
   "metadata": {
    "execution": {
     "iopub.execute_input": "2021-07-19T14:28:24.376107Z",
     "iopub.status.busy": "2021-07-19T14:28:24.375759Z",
     "iopub.status.idle": "2021-07-19T14:28:24.391831Z",
     "shell.execute_reply": "2021-07-19T14:28:24.390617Z",
     "shell.execute_reply.started": "2021-07-19T14:28:24.376077Z"
    }
   },
   "outputs": [],
   "source": [
    "train_store_13.info()"
   ]
  },
  {
   "cell_type": "code",
   "execution_count": null,
   "metadata": {
    "execution": {
     "iopub.execute_input": "2021-07-19T14:28:24.553596Z",
     "iopub.status.busy": "2021-07-19T14:28:24.55325Z",
     "iopub.status.idle": "2021-07-19T14:28:24.5619Z",
     "shell.execute_reply": "2021-07-19T14:28:24.561151Z",
     "shell.execute_reply.started": "2021-07-19T14:28:24.553567Z"
    }
   },
   "outputs": [],
   "source": [
    "train_store_13.isnull().sum()"
   ]
  },
  {
   "cell_type": "code",
   "execution_count": null,
   "metadata": {
    "execution": {
     "iopub.execute_input": "2021-07-19T14:28:24.800656Z",
     "iopub.status.busy": "2021-07-19T14:28:24.80011Z",
     "iopub.status.idle": "2021-07-19T14:28:24.808117Z",
     "shell.execute_reply": "2021-07-19T14:28:24.807334Z",
     "shell.execute_reply.started": "2021-07-19T14:28:24.800608Z"
    }
   },
   "outputs": [],
   "source": [
    "train_store_13.loc[train_store_13['DayOfWeek']==0, 'DayOfWeek'] = train_store_13.loc[train_store_13['DayOfWeek']==0, :].index.to_series().dt.dayofweek + 1"
   ]
  },
  {
   "cell_type": "markdown",
   "metadata": {},
   "source": [
    "#### EDA on store 13 dataset"
   ]
  },
  {
   "cell_type": "code",
   "execution_count": null,
   "metadata": {
    "execution": {
     "iopub.execute_input": "2021-07-19T14:28:24.974762Z",
     "iopub.status.busy": "2021-07-19T14:28:24.974177Z",
     "iopub.status.idle": "2021-07-19T14:28:24.98661Z",
     "shell.execute_reply": "2021-07-19T14:28:24.985482Z",
     "shell.execute_reply.started": "2021-07-19T14:28:24.974712Z"
    }
   },
   "outputs": [],
   "source": [
    "print(\"Checking the number of StateHolidays, SchoolHoliday and Open days\")\n",
    "\n",
    "cols = ['StateHoliday', 'SchoolHoliday', 'Open', 'Promo']\n",
    "for col in cols:\n",
    "    print(train_store_13[col].value_counts())\n",
    "    print(\"-\"*40)"
   ]
  },
  {
   "cell_type": "code",
   "execution_count": null,
   "metadata": {
    "execution": {
     "iopub.execute_input": "2021-07-19T14:28:25.215894Z",
     "iopub.status.busy": "2021-07-19T14:28:25.215452Z",
     "iopub.status.idle": "2021-07-19T14:28:25.227773Z",
     "shell.execute_reply": "2021-07-19T14:28:25.226398Z",
     "shell.execute_reply.started": "2021-07-19T14:28:25.215858Z"
    }
   },
   "outputs": [],
   "source": [
    "print(\"Checking if the store was open on a StateHoliday and the corresponding Sales\")\n",
    "print(train_store_13.loc[train_store_13['StateHoliday']==1,['Sales','Open']].value_counts())"
   ]
  },
  {
   "cell_type": "code",
   "execution_count": null,
   "metadata": {
    "execution": {
     "iopub.execute_input": "2021-07-19T14:28:36.219092Z",
     "iopub.status.busy": "2021-07-19T14:28:36.218668Z",
     "iopub.status.idle": "2021-07-19T14:28:36.227572Z",
     "shell.execute_reply": "2021-07-19T14:28:36.226222Z",
     "shell.execute_reply.started": "2021-07-19T14:28:36.219051Z"
    }
   },
   "outputs": [],
   "source": [
    "print(\"Checking if the store was open on any Sundays and the corresponding Sales\")\n",
    "print(train_store_13.loc[train_store_13['DayOfWeek']==7,'Open'].value_counts())"
   ]
  },
  {
   "cell_type": "code",
   "execution_count": null,
   "metadata": {
    "execution": {
     "iopub.execute_input": "2021-07-19T14:28:37.461856Z",
     "iopub.status.busy": "2021-07-19T14:28:37.461481Z",
     "iopub.status.idle": "2021-07-19T14:28:37.472662Z",
     "shell.execute_reply": "2021-07-19T14:28:37.471671Z",
     "shell.execute_reply.started": "2021-07-19T14:28:37.461817Z"
    }
   },
   "outputs": [],
   "source": [
    "print(\"Checking the days on which the store was closed\")\n",
    "print(train_store_13.loc[train_store_13['Open']==0,['Sales','DayOfWeek']].value_counts())"
   ]
  },
  {
   "cell_type": "code",
   "execution_count": null,
   "metadata": {
    "execution": {
     "iopub.execute_input": "2021-07-19T14:28:37.997471Z",
     "iopub.status.busy": "2021-07-19T14:28:37.997137Z",
     "iopub.status.idle": "2021-07-19T14:28:38.008385Z",
     "shell.execute_reply": "2021-07-19T14:28:38.007215Z",
     "shell.execute_reply.started": "2021-07-19T14:28:37.99744Z"
    }
   },
   "outputs": [],
   "source": [
    "print(\"Checking the Sales when the shop was closed and if it was a StateHoliday or not\")\n",
    "print(train_store_13.loc[train_store_13['Open']==0,['Sales','StateHoliday']].value_counts())"
   ]
  },
  {
   "cell_type": "code",
   "execution_count": null,
   "metadata": {
    "execution": {
     "iopub.execute_input": "2021-07-19T14:28:38.315501Z",
     "iopub.status.busy": "2021-07-19T14:28:38.315154Z",
     "iopub.status.idle": "2021-07-19T14:28:38.331119Z",
     "shell.execute_reply": "2021-07-19T14:28:38.329936Z",
     "shell.execute_reply.started": "2021-07-19T14:28:38.31547Z"
    }
   },
   "outputs": [],
   "source": [
    "print(\"Checking the SchoolHolidays for which the store was open and the corresponding value for StateHoliday\")\n",
    "print(train_store_13.loc[train_store_13['SchoolHoliday']==1,['DayOfWeek', 'Open', 'SchoolHoliday']].value_counts())"
   ]
  },
  {
   "cell_type": "code",
   "execution_count": null,
   "metadata": {
    "execution": {
     "iopub.execute_input": "2021-07-19T14:28:38.544554Z",
     "iopub.status.busy": "2021-07-19T14:28:38.544193Z",
     "iopub.status.idle": "2021-07-19T14:28:38.557232Z",
     "shell.execute_reply": "2021-07-19T14:28:38.556199Z",
     "shell.execute_reply.started": "2021-07-19T14:28:38.544521Z"
    }
   },
   "outputs": [],
   "source": [
    "print(\"Checking if we have 0 Sales even when the shop was open and if it was a StateHoliday or not\")\n",
    "print(train_store_13.loc[train_store_13['Sales']==0,['Open','StateHoliday']].value_counts())"
   ]
  },
  {
   "cell_type": "code",
   "execution_count": null,
   "metadata": {
    "execution": {
     "iopub.execute_input": "2021-07-19T14:28:38.969019Z",
     "iopub.status.busy": "2021-07-19T14:28:38.96861Z",
     "iopub.status.idle": "2021-07-19T14:28:38.979799Z",
     "shell.execute_reply": "2021-07-19T14:28:38.978833Z",
     "shell.execute_reply.started": "2021-07-19T14:28:38.968974Z"
    }
   },
   "outputs": [],
   "source": [
    "print(\"Checking the dates where the store was open but the sales was 0\")\n",
    "print(train_store_13.loc[(train_store_13['Sales']==0)&(train_store_13['Open']==1),:].value_counts())"
   ]
  },
  {
   "cell_type": "code",
   "execution_count": null,
   "metadata": {
    "execution": {
     "iopub.execute_input": "2021-07-19T14:28:39.171802Z",
     "iopub.status.busy": "2021-07-19T14:28:39.171427Z",
     "iopub.status.idle": "2021-07-19T14:28:39.179675Z",
     "shell.execute_reply": "2021-07-19T14:28:39.178752Z",
     "shell.execute_reply.started": "2021-07-19T14:28:39.171767Z"
    }
   },
   "outputs": [],
   "source": [
    "train_store_13['DayOfWeek'].value_counts()"
   ]
  },
  {
   "cell_type": "markdown",
   "metadata": {},
   "source": [
    "<b>Observations</b><br>\n",
    "There is a gap in the time series data from mid of 2014 to starting of 2015. Considering only those dates for which we have actual sales data, <br>\n",
    "We have 0 Sales only when the shop was closed (due to a StateHoliday or being Sunday.)<br>\n",
    "From the above outputs we can make the following observations between 'Open' and 'StateHoliday' fields\n",
    "- Store was closed for 161 days\n",
    "- Of the 161 days, 134 were Sundays and the remaining 24 were State Holidays\n",
    "- Store was closed for all the State Holidays and on all Sundays<br>\n",
    "\n",
    "No evident observations between the above two fields with the field 'SchoolHoliday'"
   ]
  },
  {
   "cell_type": "code",
   "execution_count": null,
   "metadata": {
    "execution": {
     "iopub.execute_input": "2021-07-19T14:28:39.957321Z",
     "iopub.status.busy": "2021-07-19T14:28:39.956999Z",
     "iopub.status.idle": "2021-07-19T14:28:39.97237Z",
     "shell.execute_reply": "2021-07-19T14:28:39.971217Z",
     "shell.execute_reply.started": "2021-07-19T14:28:39.957293Z"
    }
   },
   "outputs": [],
   "source": [
    "# Removing the 'Store' field since it invariant\n",
    "\n",
    "train_store_13.drop(columns=['Store'], inplace=True)\n",
    "train_store_13.info()"
   ]
  },
  {
   "cell_type": "markdown",
   "metadata": {},
   "source": [
    "Using Linear Interpolation to fill the missing value fields for which sales were 0"
   ]
  },
  {
   "cell_type": "code",
   "execution_count": null,
   "metadata": {
    "execution": {
     "iopub.execute_input": "2021-07-19T14:28:40.474918Z",
     "iopub.status.busy": "2021-07-19T14:28:40.474257Z",
     "iopub.status.idle": "2021-07-19T14:28:40.48875Z",
     "shell.execute_reply": "2021-07-19T14:28:40.487936Z",
     "shell.execute_reply.started": "2021-07-19T14:28:40.474876Z"
    }
   },
   "outputs": [],
   "source": [
    "train_store_13.loc[:, 'Sales'] = train_store_13.loc[:, 'Sales'].map(lambda x:np.NaN if x==0 else x).interpolate(method='linear')\n",
    "train_store_13.loc[:, 'Customers'] = train_store_13.loc[:, 'Customers'].map(lambda x:np.NaN if x==0 else x).interpolate(method='linear')\n",
    "\n",
    "# Removing the first records since its is having 0 Sales\n",
    "\n",
    "train_store_13.drop(index=pd.to_datetime('2013-01-01'),axis=0, inplace=True)\n",
    "train_store_13.shape"
   ]
  },
  {
   "cell_type": "markdown",
   "metadata": {},
   "source": [
    "#### Outlier treatment"
   ]
  },
  {
   "cell_type": "code",
   "execution_count": null,
   "metadata": {
    "execution": {
     "iopub.execute_input": "2021-07-19T14:28:41.216567Z",
     "iopub.status.busy": "2021-07-19T14:28:41.216021Z",
     "iopub.status.idle": "2021-07-19T14:28:41.324266Z",
     "shell.execute_reply": "2021-07-19T14:28:41.323155Z",
     "shell.execute_reply.started": "2021-07-19T14:28:41.216517Z"
    }
   },
   "outputs": [],
   "source": [
    "fig = plt.subplots(figsize=(12, 2))\n",
    "ax = sns.boxplot(x=train_store_13['Sales'], whis=1.5)"
   ]
  },
  {
   "cell_type": "code",
   "execution_count": null,
   "metadata": {
    "execution": {
     "iopub.execute_input": "2021-07-19T14:28:41.499793Z",
     "iopub.status.busy": "2021-07-19T14:28:41.499436Z",
     "iopub.status.idle": "2021-07-19T14:28:41.662803Z",
     "shell.execute_reply": "2021-07-19T14:28:41.661837Z",
     "shell.execute_reply.started": "2021-07-19T14:28:41.499762Z"
    }
   },
   "outputs": [],
   "source": [
    "fig = train_store_13['Sales'].hist(figsize = (12,4))"
   ]
  },
  {
   "cell_type": "markdown",
   "metadata": {},
   "source": [
    "Since from the time series plot we had observed a general increase in sales in the months of Dec-Jan, it is better to replace the higher values with lower extreme (Winsorizing) rather than removing the value completely.\n",
    "Removing the outlier is better suited when we think the outlier is erroneous"
   ]
  },
  {
   "cell_type": "code",
   "execution_count": null,
   "metadata": {
    "execution": {
     "iopub.execute_input": "2021-07-19T14:28:42.699977Z",
     "iopub.status.busy": "2021-07-19T14:28:42.699579Z",
     "iopub.status.idle": "2021-07-19T14:28:42.708627Z",
     "shell.execute_reply": "2021-07-19T14:28:42.707417Z",
     "shell.execute_reply.started": "2021-07-19T14:28:42.699941Z"
    }
   },
   "outputs": [],
   "source": [
    "# Replacing the outliers (above 99 quantile) to the value at 99 percentile\n",
    "\n",
    "train_store_13.loc[train_store_13['Sales'] > train_store_13['Sales'].quantile(0.99), 'Sales'] = math.ceil(train_store_13['Sales'].quantile(0.99))"
   ]
  },
  {
   "cell_type": "code",
   "execution_count": null,
   "metadata": {
    "execution": {
     "iopub.execute_input": "2021-07-19T14:28:43.14692Z",
     "iopub.status.busy": "2021-07-19T14:28:43.146342Z",
     "iopub.status.idle": "2021-07-19T14:28:43.264518Z",
     "shell.execute_reply": "2021-07-19T14:28:43.263793Z",
     "shell.execute_reply.started": "2021-07-19T14:28:43.146881Z"
    }
   },
   "outputs": [],
   "source": [
    "# Boxplot after winsorizing the outliers\n",
    "\n",
    "fig = plt.subplots(figsize=(12, 2))\n",
    "ax = sns.boxplot(x=train_store_13['Sales'], whis=1.5)"
   ]
  },
  {
   "cell_type": "markdown",
   "metadata": {},
   "source": [
    "#### Plotting the sales data"
   ]
  },
  {
   "cell_type": "code",
   "execution_count": null,
   "metadata": {
    "execution": {
     "iopub.execute_input": "2021-07-19T14:28:44.181511Z",
     "iopub.status.busy": "2021-07-19T14:28:44.181005Z",
     "iopub.status.idle": "2021-07-19T14:28:44.825366Z",
     "shell.execute_reply": "2021-07-19T14:28:44.824253Z",
     "shell.execute_reply.started": "2021-07-19T14:28:44.181479Z"
    }
   },
   "outputs": [],
   "source": [
    "train_store_13.loc[:,'Sales'].plot(figsize=(96, 16))\n",
    "plt.legend(loc='best')\n",
    "plt.title('Sales data for Store 31')\n",
    "plt.show(block=False)"
   ]
  },
  {
   "cell_type": "markdown",
   "metadata": {},
   "source": [
    "#### Decomposing the time series to trend and seasonality"
   ]
  },
  {
   "cell_type": "code",
   "execution_count": null,
   "metadata": {
    "execution": {
     "iopub.execute_input": "2021-07-19T14:28:45.252064Z",
     "iopub.status.busy": "2021-07-19T14:28:45.251532Z",
     "iopub.status.idle": "2021-07-19T14:28:46.66526Z",
     "shell.execute_reply": "2021-07-19T14:28:46.663854Z",
     "shell.execute_reply.started": "2021-07-19T14:28:45.252031Z"
    }
   },
   "outputs": [],
   "source": [
    "from pylab import rcParams\n",
    "rcParams['figure.figsize'] = (96,16)\n",
    "decomposition = sm.tsa.seasonal_decompose(train_store_13['Sales'], model='additive', freq=30)\n",
    "fig = decomposition.plot()\n",
    "plt.show()"
   ]
  },
  {
   "cell_type": "markdown",
   "metadata": {},
   "source": [
    "#### Creating dummy variables for the field 'DayOfWeek'"
   ]
  },
  {
   "cell_type": "code",
   "execution_count": null,
   "metadata": {
    "execution": {
     "iopub.execute_input": "2021-07-19T14:28:46.669532Z",
     "iopub.status.busy": "2021-07-19T14:28:46.667058Z",
     "iopub.status.idle": "2021-07-19T14:28:46.698364Z",
     "shell.execute_reply": "2021-07-19T14:28:46.697079Z",
     "shell.execute_reply.started": "2021-07-19T14:28:46.669473Z"
    }
   },
   "outputs": [],
   "source": [
    "# Creating dummy variables and concatenating the dummy variables of field 'DayOfWeek' to the original dataframe\n",
    "train_store_13 = pd.concat([train_store_13, pd.get_dummies(train_store_13['DayOfWeek'], prefix='DayOfWeek', drop_first=True)], axis=1)\n",
    "\n",
    "# Removing the parent field 'DayOfWeek'\n",
    "train_store_13.drop(columns=['DayOfWeek'], inplace=True)\n",
    "train_store_13.info()"
   ]
  },
  {
   "cell_type": "markdown",
   "metadata": {},
   "source": [
    "#### Checking the corelation of variables"
   ]
  },
  {
   "cell_type": "code",
   "execution_count": null,
   "metadata": {
    "execution": {
     "iopub.execute_input": "2021-07-19T14:28:47.059042Z",
     "iopub.status.busy": "2021-07-19T14:28:47.058466Z",
     "iopub.status.idle": "2021-07-19T14:28:47.922395Z",
     "shell.execute_reply": "2021-07-19T14:28:47.921199Z",
     "shell.execute_reply.started": "2021-07-19T14:28:47.058991Z"
    }
   },
   "outputs": [],
   "source": [
    "plt.figure(figsize=(12,8))\n",
    "sns.heatmap(train_store_13.corr(), annot=True)\n",
    "plt.show()"
   ]
  },
  {
   "cell_type": "markdown",
   "metadata": {},
   "source": [
    "<b>Observations</b><br>\n",
    "Following observation can be made from the above correlation plot\n",
    "- Sales and Customers fields are highly positively correlated\n",
    "- Open field is highely negatively correlated to the DayOfWeek_7 (Sunday)\n",
    "- No considerable relationship between the Promo and the Sale/Customers\n",
    "- As discovered from EDA, there is a slight correlation between StateHoliday and Open<br>\n",
    "\n",
    "Above observation make sense from a business point of view as well."
   ]
  },
  {
   "cell_type": "markdown",
   "metadata": {},
   "source": [
    "#### Checking the stationarity of the data"
   ]
  },
  {
   "cell_type": "code",
   "execution_count": null,
   "metadata": {
    "execution": {
     "iopub.execute_input": "2021-07-19T14:28:48.462331Z",
     "iopub.status.busy": "2021-07-19T14:28:48.461967Z",
     "iopub.status.idle": "2021-07-19T14:28:48.976591Z",
     "shell.execute_reply": "2021-07-19T14:28:48.971877Z",
     "shell.execute_reply.started": "2021-07-19T14:28:48.4623Z"
    }
   },
   "outputs": [],
   "source": [
    "cols = train_store_13.columns\n",
    "\n",
    "\n",
    "for col in cols:\n",
    "    adf_test = adfuller(train_store_13[col])\n",
    "\n",
    "    print('ADF Statistic ({}): {}'.format(col, round(adf_test[0], 4)))\n",
    "    print('Critical Values @ 0.05 ({}): {}'.format(col, round(adf_test[4]['5%'], 2)))\n",
    "    print('p-value ({}): {}'.format(col, round(adf_test[1], 4)))"
   ]
  },
  {
   "cell_type": "markdown",
   "metadata": {},
   "source": [
    "#### ACF and PACF plots"
   ]
  },
  {
   "cell_type": "code",
   "execution_count": null,
   "metadata": {
    "execution": {
     "iopub.execute_input": "2021-07-19T14:28:49.708426Z",
     "iopub.status.busy": "2021-07-19T14:28:49.708074Z",
     "iopub.status.idle": "2021-07-19T14:28:50.056865Z",
     "shell.execute_reply": "2021-07-19T14:28:50.055712Z",
     "shell.execute_reply.started": "2021-07-19T14:28:49.708397Z"
    }
   },
   "outputs": [],
   "source": [
    "plt.figure(figsize=(18,4))\n",
    "plt.subplot(1,2,1)\n",
    "plot_pacf(train_store_13['Sales'] , ax=plt.gca(), lags = 50)\n",
    "plt.subplot(1,2,2)\n",
    "plot_acf(train_store_13['Sales'] , ax=plt.gca(), lags = 50)\n",
    "plt.show()"
   ]
  },
  {
   "cell_type": "markdown",
   "metadata": {},
   "source": [
    "#### Model Creation"
   ]
  },
  {
   "cell_type": "code",
   "execution_count": null,
   "metadata": {
    "execution": {
     "iopub.execute_input": "2021-07-19T14:28:50.407074Z",
     "iopub.status.busy": "2021-07-19T14:28:50.406668Z",
     "iopub.status.idle": "2021-07-19T14:28:50.412866Z",
     "shell.execute_reply": "2021-07-19T14:28:50.41172Z",
     "shell.execute_reply.started": "2021-07-19T14:28:50.407041Z"
    }
   },
   "outputs": [],
   "source": [
    "# preparation: input should be float type\n",
    "train_store_13['Sales'] = train_store_13['Sales'] * 1.0"
   ]
  },
  {
   "cell_type": "code",
   "execution_count": null,
   "metadata": {
    "execution": {
     "iopub.execute_input": "2021-07-19T14:28:50.659057Z",
     "iopub.status.busy": "2021-07-19T14:28:50.658657Z",
     "iopub.status.idle": "2021-07-19T14:31:23.23712Z",
     "shell.execute_reply": "2021-07-19T14:31:23.236273Z",
     "shell.execute_reply.started": "2021-07-19T14:28:50.659021Z"
    }
   },
   "outputs": [],
   "source": [
    "exog = ['Promo', 'StateHoliday', 'SchoolHoliday', 'DayOfWeek_2', 'DayOfWeek_3', 'DayOfWeek_4', 'DayOfWeek_5', 'DayOfWeek_6', 'DayOfWeek_7']\n",
    "mod = sm.tsa.VARMAX(train_store_13.loc[:,['Sales', 'Customers']], exog=train_store_13[exog], order=(6,5), trend='n')\n",
    "res = mod.fit(maxiter=1000, disp=False)\n",
    "print(res.summary())\n",
    "#Note the AIC value - lower AIC => better model"
   ]
  },
  {
   "cell_type": "code",
   "execution_count": null,
   "metadata": {
    "execution": {
     "iopub.execute_input": "2021-07-19T14:31:23.239098Z",
     "iopub.status.busy": "2021-07-19T14:31:23.238503Z",
     "iopub.status.idle": "2021-07-19T14:31:23.414842Z",
     "shell.execute_reply": "2021-07-19T14:31:23.413876Z",
     "shell.execute_reply.started": "2021-07-19T14:31:23.239064Z"
    }
   },
   "outputs": [],
   "source": [
    "ax = res.impulse_responses(30, orthogonalized=True).plot(figsize=(13,3))\n",
    "ax.set(xlabel='t', title='Responses to a shock to `dln_inv`');"
   ]
  },
  {
   "cell_type": "code",
   "execution_count": null,
   "metadata": {
    "execution": {
     "iopub.execute_input": "2021-07-19T14:31:23.416913Z",
     "iopub.status.busy": "2021-07-19T14:31:23.416625Z",
     "iopub.status.idle": "2021-07-19T14:31:23.423316Z",
     "shell.execute_reply": "2021-07-19T14:31:23.422232Z",
     "shell.execute_reply.started": "2021-07-19T14:31:23.416883Z"
    }
   },
   "outputs": [],
   "source": [
    "train_len = 900\n",
    "train_data = train_store_13[0:train_len] \n",
    "test_data = train_store_13[train_len:]\n",
    "\n",
    "print(\"Train data: {}\".format(train_data.shape))\n",
    "print(\"Test data: {}\".format(test_data.shape))"
   ]
  },
  {
   "cell_type": "code",
   "execution_count": null,
   "metadata": {
    "execution": {
     "iopub.execute_input": "2021-07-19T14:31:23.425243Z",
     "iopub.status.busy": "2021-07-19T14:31:23.424953Z",
     "iopub.status.idle": "2021-07-19T14:31:23.441626Z",
     "shell.execute_reply": "2021-07-19T14:31:23.440652Z",
     "shell.execute_reply.started": "2021-07-19T14:31:23.425214Z"
    }
   },
   "outputs": [],
   "source": [
    "start_index = test_data.index.min()\n",
    "end_index = test_data.index.max()\n",
    "predictions = res.predict(start=start_index, end=end_index)"
   ]
  },
  {
   "cell_type": "code",
   "execution_count": null,
   "metadata": {
    "execution": {
     "iopub.execute_input": "2021-07-19T14:31:23.443462Z",
     "iopub.status.busy": "2021-07-19T14:31:23.443157Z",
     "iopub.status.idle": "2021-07-19T14:31:24.081881Z",
     "shell.execute_reply": "2021-07-19T14:31:24.080799Z",
     "shell.execute_reply.started": "2021-07-19T14:31:23.443432Z"
    }
   },
   "outputs": [],
   "source": [
    "plt.figure(figsize=(96, 16)) \n",
    "plt.plot( train_data['Sales'], label='Train')\n",
    "plt.plot(test_data['Sales'], label='Test')\n",
    "plt.plot(predictions['Sales'], label='VARMAX')\n",
    "plt.legend(loc='best')\n",
    "plt.title('VAR Model - Sales')\n",
    "plt.show()"
   ]
  },
  {
   "cell_type": "code",
   "execution_count": null,
   "metadata": {
    "execution": {
     "iopub.execute_input": "2021-07-19T14:31:24.083658Z",
     "iopub.status.busy": "2021-07-19T14:31:24.083366Z",
     "iopub.status.idle": "2021-07-19T14:31:24.106151Z",
     "shell.execute_reply": "2021-07-19T14:31:24.105332Z",
     "shell.execute_reply.started": "2021-07-19T14:31:24.083628Z"
    }
   },
   "outputs": [],
   "source": [
    "# Root Mean Square Error (RMSE)\n",
    "rmse = np.sqrt(mean_squared_error(test_data['Sales'], predictions['Sales'])).round(2)\n",
    "#print('Income: RMSE:',  rmse)\n",
    "\n",
    "# model_comparison=pd.DataFrame()\n",
    "model_comparison.loc[6,'Store']= 13\n",
    "model_comparison.loc[6,'Model']='VAR - without resampling'\n",
    "model_comparison.loc[6,'Variable']='Sales'\n",
    "model_comparison.loc[6,'RMSE']=rmse\n",
    "\n",
    "# Mean Absolute Percentage Error\n",
    "abs_error = np.abs(test_data['Sales']-predictions['Sales'])\n",
    "actual = test_data['Sales']\n",
    "mape = np.round(np.mean(abs_error/actual)*100, 2)\n",
    "\n",
    "model_comparison.loc[(model_comparison['Store']==13)&(model_comparison['Model']=='VAR - without resampling'), 'MAPE'] = mape\n",
    "# model_comparison.loc[model_comparison['Variable']=='Sales', 'MAPE'] = mape\n",
    "model_comparison"
   ]
  },
  {
   "cell_type": "markdown",
   "metadata": {},
   "source": [
    "### Store 13 - With resampling and linear interpoloation"
   ]
  },
  {
   "cell_type": "code",
   "execution_count": null,
   "metadata": {
    "execution": {
     "iopub.execute_input": "2021-07-19T14:31:24.107535Z",
     "iopub.status.busy": "2021-07-19T14:31:24.107229Z",
     "iopub.status.idle": "2021-07-19T14:31:24.121803Z",
     "shell.execute_reply": "2021-07-19T14:31:24.120763Z",
     "shell.execute_reply.started": "2021-07-19T14:31:24.107502Z"
    }
   },
   "outputs": [],
   "source": [
    "train_store_13 = train.loc[train['Store']==13,:].sort_index(ascending=True)\n",
    "train_store_13.reset_index(drop=True, inplace=True)"
   ]
  },
  {
   "cell_type": "code",
   "execution_count": null,
   "metadata": {
    "execution": {
     "iopub.execute_input": "2021-07-19T14:15:35.59644Z",
     "iopub.status.busy": "2021-07-19T14:15:35.596008Z",
     "iopub.status.idle": "2021-07-19T14:15:35.614735Z",
     "shell.execute_reply": "2021-07-19T14:15:35.613841Z",
     "shell.execute_reply.started": "2021-07-19T14:15:35.596396Z"
    }
   },
   "outputs": [],
   "source": [
    "train_store_13.info()"
   ]
  },
  {
   "cell_type": "code",
   "execution_count": null,
   "metadata": {
    "execution": {
     "iopub.execute_input": "2021-07-19T14:15:35.616259Z",
     "iopub.status.busy": "2021-07-19T14:15:35.615875Z",
     "iopub.status.idle": "2021-07-19T14:15:35.631623Z",
     "shell.execute_reply": "2021-07-19T14:15:35.630679Z",
     "shell.execute_reply.started": "2021-07-19T14:15:35.616215Z"
    }
   },
   "outputs": [],
   "source": [
    "train_store_13.isnull().sum()"
   ]
  },
  {
   "cell_type": "code",
   "execution_count": null,
   "metadata": {
    "execution": {
     "iopub.execute_input": "2021-07-19T14:15:35.633752Z",
     "iopub.status.busy": "2021-07-19T14:15:35.633345Z",
     "iopub.status.idle": "2021-07-19T14:15:35.64043Z",
     "shell.execute_reply": "2021-07-19T14:15:35.639771Z",
     "shell.execute_reply.started": "2021-07-19T14:15:35.633717Z"
    }
   },
   "outputs": [],
   "source": [
    "train_store_13 = train_store_13.set_index(pd.date_range(start='2013-01-01', periods = len(train_store_13), freq='D'))\n",
    "train_store_13.shape"
   ]
  },
  {
   "cell_type": "code",
   "execution_count": null,
   "metadata": {
    "execution": {
     "iopub.execute_input": "2021-07-19T14:15:35.642023Z",
     "iopub.status.busy": "2021-07-19T14:15:35.641512Z",
     "iopub.status.idle": "2021-07-19T14:15:35.662896Z",
     "shell.execute_reply": "2021-07-19T14:15:35.662061Z",
     "shell.execute_reply.started": "2021-07-19T14:15:35.641983Z"
    }
   },
   "outputs": [],
   "source": [
    "train_store_13.info()"
   ]
  },
  {
   "cell_type": "code",
   "execution_count": null,
   "metadata": {
    "execution": {
     "iopub.execute_input": "2021-07-19T14:15:35.664637Z",
     "iopub.status.busy": "2021-07-19T14:15:35.664178Z",
     "iopub.status.idle": "2021-07-19T14:15:35.676884Z",
     "shell.execute_reply": "2021-07-19T14:15:35.675891Z",
     "shell.execute_reply.started": "2021-07-19T14:15:35.664593Z"
    }
   },
   "outputs": [],
   "source": [
    "train_store_13.head()"
   ]
  },
  {
   "cell_type": "markdown",
   "metadata": {},
   "source": [
    "#### EDA on store 13 dataset"
   ]
  },
  {
   "cell_type": "code",
   "execution_count": null,
   "metadata": {
    "execution": {
     "iopub.execute_input": "2021-07-19T14:15:35.68186Z",
     "iopub.status.busy": "2021-07-19T14:15:35.681491Z",
     "iopub.status.idle": "2021-07-19T14:15:35.697275Z",
     "shell.execute_reply": "2021-07-19T14:15:35.696258Z",
     "shell.execute_reply.started": "2021-07-19T14:15:35.681827Z"
    }
   },
   "outputs": [],
   "source": [
    "print(\"Checking the number of StateHolidays, SchoolHoliday and Open days\")\n",
    "\n",
    "cols = ['StateHoliday', 'SchoolHoliday', 'Open', 'Promo']\n",
    "for col in cols:\n",
    "    print(train_store_13[col].value_counts())\n",
    "    print(\"-\"*40)"
   ]
  },
  {
   "cell_type": "code",
   "execution_count": null,
   "metadata": {
    "execution": {
     "iopub.execute_input": "2021-07-19T14:15:35.700579Z",
     "iopub.status.busy": "2021-07-19T14:15:35.700091Z",
     "iopub.status.idle": "2021-07-19T14:15:35.716443Z",
     "shell.execute_reply": "2021-07-19T14:15:35.715748Z",
     "shell.execute_reply.started": "2021-07-19T14:15:35.700532Z"
    }
   },
   "outputs": [],
   "source": [
    "print(\"Checking if the store was open on a StateHoliday and the corresponding Sales\")\n",
    "print(train_store_13.loc[train_store_13['StateHoliday']==1,['Sales','Open']].value_counts())"
   ]
  },
  {
   "cell_type": "code",
   "execution_count": null,
   "metadata": {
    "execution": {
     "iopub.execute_input": "2021-07-19T14:15:35.718417Z",
     "iopub.status.busy": "2021-07-19T14:15:35.717859Z",
     "iopub.status.idle": "2021-07-19T14:15:35.732934Z",
     "shell.execute_reply": "2021-07-19T14:15:35.732038Z",
     "shell.execute_reply.started": "2021-07-19T14:15:35.718373Z"
    }
   },
   "outputs": [],
   "source": [
    "print(\"Checking if the store was open on any Sundays and the corresponding Sales\")\n",
    "print(train_store_13.loc[train_store_13['DayOfWeek']==7,'Open'].value_counts())"
   ]
  },
  {
   "cell_type": "code",
   "execution_count": null,
   "metadata": {
    "execution": {
     "iopub.execute_input": "2021-07-19T14:15:35.734816Z",
     "iopub.status.busy": "2021-07-19T14:15:35.73425Z",
     "iopub.status.idle": "2021-07-19T14:15:35.754636Z",
     "shell.execute_reply": "2021-07-19T14:15:35.753532Z",
     "shell.execute_reply.started": "2021-07-19T14:15:35.734769Z"
    }
   },
   "outputs": [],
   "source": [
    "print(\"Checking the days on which the store was closed\")\n",
    "print(train_store_13.loc[train_store_13['Open']==0,['Sales','DayOfWeek']].value_counts())"
   ]
  },
  {
   "cell_type": "code",
   "execution_count": null,
   "metadata": {
    "execution": {
     "iopub.execute_input": "2021-07-19T14:15:35.756773Z",
     "iopub.status.busy": "2021-07-19T14:15:35.756299Z",
     "iopub.status.idle": "2021-07-19T14:15:35.773177Z",
     "shell.execute_reply": "2021-07-19T14:15:35.771973Z",
     "shell.execute_reply.started": "2021-07-19T14:15:35.756727Z"
    }
   },
   "outputs": [],
   "source": [
    "print(\"Checking the Sales when the shop was closed and if it was a StateHoliday or not\")\n",
    "print(train_store_13.loc[train_store_13['Open']==0,['Sales','StateHoliday']].value_counts())"
   ]
  },
  {
   "cell_type": "code",
   "execution_count": null,
   "metadata": {
    "execution": {
     "iopub.execute_input": "2021-07-19T14:15:35.775055Z",
     "iopub.status.busy": "2021-07-19T14:15:35.774766Z",
     "iopub.status.idle": "2021-07-19T14:15:35.792866Z",
     "shell.execute_reply": "2021-07-19T14:15:35.792005Z",
     "shell.execute_reply.started": "2021-07-19T14:15:35.775024Z"
    }
   },
   "outputs": [],
   "source": [
    "print(\"Checking the SchoolHolidays for which the store was open and the corresponding value for StateHoliday\")\n",
    "print(train_store_13.loc[train_store_13['SchoolHoliday']==1,['DayOfWeek', 'Open', 'SchoolHoliday']].value_counts())"
   ]
  },
  {
   "cell_type": "code",
   "execution_count": null,
   "metadata": {
    "execution": {
     "iopub.execute_input": "2021-07-19T14:15:35.794835Z",
     "iopub.status.busy": "2021-07-19T14:15:35.7943Z",
     "iopub.status.idle": "2021-07-19T14:15:35.809446Z",
     "shell.execute_reply": "2021-07-19T14:15:35.808342Z",
     "shell.execute_reply.started": "2021-07-19T14:15:35.794792Z"
    }
   },
   "outputs": [],
   "source": [
    "print(\"Checking if we have 0 Sales even when the shop was open and if it was a StateHoliday or not\")\n",
    "print(train_store_13.loc[train_store_13['Sales']==0,['Open','StateHoliday']].value_counts())"
   ]
  },
  {
   "cell_type": "code",
   "execution_count": null,
   "metadata": {
    "execution": {
     "iopub.execute_input": "2021-07-19T14:15:35.811187Z",
     "iopub.status.busy": "2021-07-19T14:15:35.810928Z",
     "iopub.status.idle": "2021-07-19T14:15:35.829463Z",
     "shell.execute_reply": "2021-07-19T14:15:35.828446Z",
     "shell.execute_reply.started": "2021-07-19T14:15:35.811158Z"
    }
   },
   "outputs": [],
   "source": [
    "print(\"Checking the dates where the store was open but the sales was 0\")\n",
    "print(train_store_13.loc[(train_store_13['Sales']==0)&(train_store_13['Open']==1),:].value_counts())"
   ]
  },
  {
   "cell_type": "code",
   "execution_count": null,
   "metadata": {
    "execution": {
     "iopub.execute_input": "2021-07-19T14:15:35.831388Z",
     "iopub.status.busy": "2021-07-19T14:15:35.831074Z",
     "iopub.status.idle": "2021-07-19T14:15:35.844796Z",
     "shell.execute_reply": "2021-07-19T14:15:35.843567Z",
     "shell.execute_reply.started": "2021-07-19T14:15:35.831357Z"
    }
   },
   "outputs": [],
   "source": [
    "train_store_13['DayOfWeek'].value_counts()"
   ]
  },
  {
   "cell_type": "markdown",
   "metadata": {},
   "source": [
    "<b>Observations</b><br>\n",
    "We have 0 Sales only when the shop was closed (either due to a StateHoliday or being Sunday.<br>\n",
    "From the above outputs we can make the following observations between 'Open' and 'StateHoliday' fields\n",
    "- Store was closed for 137 days\n",
    "- Of the 137 days, 108 were Sundays and the remaining 29 were State Holidays\n",
    "- Store was closed for all the State Holidays and on all Sundays<br>\n",
    "\n",
    "No evident observations between the above two fields with the field 'SchoolHoliday'"
   ]
  },
  {
   "cell_type": "code",
   "execution_count": null,
   "metadata": {
    "execution": {
     "iopub.execute_input": "2021-07-19T14:15:35.846677Z",
     "iopub.status.busy": "2021-07-19T14:15:35.846323Z",
     "iopub.status.idle": "2021-07-19T14:15:35.868157Z",
     "shell.execute_reply": "2021-07-19T14:15:35.867073Z",
     "shell.execute_reply.started": "2021-07-19T14:15:35.846613Z"
    }
   },
   "outputs": [],
   "source": [
    "# Removing the 'Store' field since it invariant\n",
    "\n",
    "train_store_13.drop(columns=['Store'], inplace=True)\n",
    "train_store_13.info()"
   ]
  },
  {
   "cell_type": "markdown",
   "metadata": {},
   "source": [
    "Since the 'Sales' and 'Customers' are 0 only when the store was closed (due to pulic or state holiday), we can consider it as a missing value and for our purpose impute with the values that could have been present if the store had been open. For that we use Linear Interpolation.\n",
    "Even in predction, we could use the same method, i.e comparing the predicted value with what could have been the 'Sales' if the Store was open.\n",
    "But in real sense, 'Sales' would be 0 if the Store is closed"
   ]
  },
  {
   "cell_type": "code",
   "execution_count": null,
   "metadata": {
    "execution": {
     "iopub.execute_input": "2021-07-19T14:15:35.870709Z",
     "iopub.status.busy": "2021-07-19T14:15:35.870261Z",
     "iopub.status.idle": "2021-07-19T14:15:35.892463Z",
     "shell.execute_reply": "2021-07-19T14:15:35.891357Z",
     "shell.execute_reply.started": "2021-07-19T14:15:35.870648Z"
    }
   },
   "outputs": [],
   "source": [
    "train_store_13.loc[:, 'Sales'] = train_store_13.loc[:, 'Sales'].map(lambda x:np.NaN if x==0 else x).interpolate(method='linear')\n",
    "train_store_13.loc[:, 'Customers'] = train_store_13.loc[:, 'Customers'].map(lambda x:np.NaN if x==0 else x).interpolate(method='linear')\n",
    "\n",
    "# # Removing the first records since its is having 0 Sales\n",
    "\n",
    "train_store_13.drop(index=pd.to_datetime('2013-01-01'),axis=0, inplace=True)\n",
    "train_store_13.shape"
   ]
  },
  {
   "cell_type": "markdown",
   "metadata": {},
   "source": [
    "#### Outlier treatment"
   ]
  },
  {
   "cell_type": "code",
   "execution_count": null,
   "metadata": {
    "execution": {
     "iopub.execute_input": "2021-07-19T14:15:35.894527Z",
     "iopub.status.busy": "2021-07-19T14:15:35.894124Z",
     "iopub.status.idle": "2021-07-19T14:15:36.021912Z",
     "shell.execute_reply": "2021-07-19T14:15:36.020834Z",
     "shell.execute_reply.started": "2021-07-19T14:15:35.894484Z"
    }
   },
   "outputs": [],
   "source": [
    "fig = plt.subplots(figsize=(12, 2))\n",
    "ax = sns.boxplot(x=train_store_13['Sales'], whis=1.5)"
   ]
  },
  {
   "cell_type": "code",
   "execution_count": null,
   "metadata": {
    "execution": {
     "iopub.execute_input": "2021-07-19T14:15:36.02373Z",
     "iopub.status.busy": "2021-07-19T14:15:36.023427Z",
     "iopub.status.idle": "2021-07-19T14:15:36.19064Z",
     "shell.execute_reply": "2021-07-19T14:15:36.189655Z",
     "shell.execute_reply.started": "2021-07-19T14:15:36.023696Z"
    }
   },
   "outputs": [],
   "source": [
    "fig = train_store_13['Sales'].hist(figsize = (12,4))"
   ]
  },
  {
   "cell_type": "markdown",
   "metadata": {},
   "source": [
    "Since from the time series plot we had observed a general increase in sales in the months of Dec-Jan, it is better to replace the higher values with lower extreme (Winsorizing) rather than removing the value completely.\n",
    "Removing the outlier is better suited when we think the outlier is erroneous"
   ]
  },
  {
   "cell_type": "code",
   "execution_count": null,
   "metadata": {
    "execution": {
     "iopub.execute_input": "2021-07-19T14:15:36.192389Z",
     "iopub.status.busy": "2021-07-19T14:15:36.192101Z",
     "iopub.status.idle": "2021-07-19T14:15:36.20096Z",
     "shell.execute_reply": "2021-07-19T14:15:36.199759Z",
     "shell.execute_reply.started": "2021-07-19T14:15:36.192358Z"
    }
   },
   "outputs": [],
   "source": [
    "# Replacing the outliers (above 99 quantile) to the value at 99 percentile\n",
    "\n",
    "train_store_13.loc[train_store_13['Sales'] > train_store_13['Sales'].quantile(0.99), 'Sales'] = math.ceil(train_store_13['Sales'].quantile(0.99))"
   ]
  },
  {
   "cell_type": "code",
   "execution_count": null,
   "metadata": {
    "execution": {
     "iopub.execute_input": "2021-07-19T14:15:36.202393Z",
     "iopub.status.busy": "2021-07-19T14:15:36.20212Z",
     "iopub.status.idle": "2021-07-19T14:15:36.334989Z",
     "shell.execute_reply": "2021-07-19T14:15:36.333825Z",
     "shell.execute_reply.started": "2021-07-19T14:15:36.202366Z"
    }
   },
   "outputs": [],
   "source": [
    "# Boxplot after winsorizing the outliers\n",
    "\n",
    "fig = plt.subplots(figsize=(12, 2))\n",
    "ax = sns.boxplot(x=train_store_13['Sales'], whis=1.5)"
   ]
  },
  {
   "cell_type": "markdown",
   "metadata": {},
   "source": [
    "#### Plotting the sales data"
   ]
  },
  {
   "cell_type": "code",
   "execution_count": null,
   "metadata": {
    "execution": {
     "iopub.execute_input": "2021-07-19T14:15:36.336468Z",
     "iopub.status.busy": "2021-07-19T14:15:36.336199Z",
     "iopub.status.idle": "2021-07-19T14:15:36.974227Z",
     "shell.execute_reply": "2021-07-19T14:15:36.973225Z",
     "shell.execute_reply.started": "2021-07-19T14:15:36.336436Z"
    }
   },
   "outputs": [],
   "source": [
    "train_store_13.loc[:,'Sales'].plot(figsize=(96, 16))\n",
    "plt.legend(loc='best')\n",
    "plt.title('Sales data for Store 31')\n",
    "plt.show(block=False)"
   ]
  },
  {
   "cell_type": "markdown",
   "metadata": {},
   "source": [
    "#### Decomposing the time series to trend and seasonality"
   ]
  },
  {
   "cell_type": "code",
   "execution_count": null,
   "metadata": {
    "execution": {
     "iopub.execute_input": "2021-07-19T14:15:36.975683Z",
     "iopub.status.busy": "2021-07-19T14:15:36.975408Z",
     "iopub.status.idle": "2021-07-19T14:15:38.534463Z",
     "shell.execute_reply": "2021-07-19T14:15:38.533678Z",
     "shell.execute_reply.started": "2021-07-19T14:15:36.975653Z"
    }
   },
   "outputs": [],
   "source": [
    "from pylab import rcParams\n",
    "rcParams['figure.figsize'] = (96,16)\n",
    "decomposition = sm.tsa.seasonal_decompose(train_store_13['Sales'], model='additive', freq=30)\n",
    "fig = decomposition.plot()\n",
    "plt.show()"
   ]
  },
  {
   "cell_type": "markdown",
   "metadata": {},
   "source": [
    "The above plot tells us that there is a general increase in the months Dec-Jan and also there is repeating 0 sales throught out the timeframe.<br>\n",
    "Following analysis is done to find out the possible reasons for the above observations"
   ]
  },
  {
   "cell_type": "markdown",
   "metadata": {},
   "source": [
    "#### Creating dummy variables for the field 'DayOfWeek'"
   ]
  },
  {
   "cell_type": "code",
   "execution_count": null,
   "metadata": {
    "execution": {
     "iopub.execute_input": "2021-07-19T14:15:38.535878Z",
     "iopub.status.busy": "2021-07-19T14:15:38.535476Z",
     "iopub.status.idle": "2021-07-19T14:15:38.554089Z",
     "shell.execute_reply": "2021-07-19T14:15:38.553342Z",
     "shell.execute_reply.started": "2021-07-19T14:15:38.535847Z"
    }
   },
   "outputs": [],
   "source": [
    "# Creating dummy variables and concatenating the dummy variables of field 'DayOfWeek' to the original dataframe\n",
    "train_store_13 = pd.concat([train_store_13, pd.get_dummies(train_store_13['DayOfWeek'], prefix='DayOfWeek', drop_first=True)], axis=1)\n",
    "\n",
    "# Removing the parent field 'DayOfWeek'\n",
    "train_store_13.drop(columns=['DayOfWeek'], inplace=True)\n",
    "train_store_13.info()"
   ]
  },
  {
   "cell_type": "markdown",
   "metadata": {},
   "source": [
    "#### Checking the corelation of variables"
   ]
  },
  {
   "cell_type": "code",
   "execution_count": null,
   "metadata": {
    "execution": {
     "iopub.execute_input": "2021-07-19T14:15:38.555453Z",
     "iopub.status.busy": "2021-07-19T14:15:38.555075Z",
     "iopub.status.idle": "2021-07-19T14:15:39.439552Z",
     "shell.execute_reply": "2021-07-19T14:15:39.438662Z",
     "shell.execute_reply.started": "2021-07-19T14:15:38.555424Z"
    }
   },
   "outputs": [],
   "source": [
    "plt.figure(figsize=(12,8))\n",
    "sns.heatmap(train_store_13.corr(), annot=True)\n",
    "plt.show()"
   ]
  },
  {
   "cell_type": "markdown",
   "metadata": {},
   "source": [
    "<b>Observations</b><br>\n",
    "Following observation can be made from the above correlation plot\n",
    "- Sales and Customers fields are highly positively correlated\n",
    "- Open field is highely negatively correlated to the DayOfWeek_7 (Sunday)\n",
    "- No considerable relationship between the Promo and the Sale/Customers\n",
    "- As discovered from EDA, there is a slight correlation between StateHoliday and Open<br>\n",
    "\n",
    "Above observation make sense from a business point of view as well."
   ]
  },
  {
   "cell_type": "markdown",
   "metadata": {},
   "source": [
    "#### Checking the stationarity of the data"
   ]
  },
  {
   "cell_type": "code",
   "execution_count": null,
   "metadata": {
    "execution": {
     "iopub.execute_input": "2021-07-19T14:15:39.441058Z",
     "iopub.status.busy": "2021-07-19T14:15:39.440778Z",
     "iopub.status.idle": "2021-07-19T14:15:39.838493Z",
     "shell.execute_reply": "2021-07-19T14:15:39.837407Z",
     "shell.execute_reply.started": "2021-07-19T14:15:39.441028Z"
    }
   },
   "outputs": [],
   "source": [
    "cols = train_store_13.columns\n",
    "\n",
    "\n",
    "for col in cols:\n",
    "    adf_test = adfuller(train_store_13[col])\n",
    "\n",
    "    print('ADF Statistic ({}): {}'.format(col, round(adf_test[0], 4)))\n",
    "    print('Critical Values @ 0.05 ({}): {}'.format(col, round(adf_test[4]['5%'], 2)))\n",
    "    print('p-value ({}): {}'.format(col, round(adf_test[1], 4)))"
   ]
  },
  {
   "cell_type": "markdown",
   "metadata": {},
   "source": [
    "#### ACF and PACF plots"
   ]
  },
  {
   "cell_type": "code",
   "execution_count": null,
   "metadata": {
    "execution": {
     "iopub.execute_input": "2021-07-19T14:15:39.840722Z",
     "iopub.status.busy": "2021-07-19T14:15:39.840082Z",
     "iopub.status.idle": "2021-07-19T14:15:40.223066Z",
     "shell.execute_reply": "2021-07-19T14:15:40.222322Z",
     "shell.execute_reply.started": "2021-07-19T14:15:39.840656Z"
    }
   },
   "outputs": [],
   "source": [
    "plt.figure(figsize=(18,4))\n",
    "plt.subplot(1,2,1)\n",
    "plot_pacf(train_store_13['Sales'] , ax=plt.gca(), lags = 50)\n",
    "plt.subplot(1,2,2)\n",
    "plot_acf(train_store_13['Sales'] , ax=plt.gca(), lags = 50)\n",
    "plt.show()"
   ]
  },
  {
   "cell_type": "markdown",
   "metadata": {},
   "source": [
    "#### Model Creation"
   ]
  },
  {
   "cell_type": "code",
   "execution_count": null,
   "metadata": {
    "execution": {
     "iopub.execute_input": "2021-07-19T14:15:40.224398Z",
     "iopub.status.busy": "2021-07-19T14:15:40.224035Z",
     "iopub.status.idle": "2021-07-19T14:15:40.228599Z",
     "shell.execute_reply": "2021-07-19T14:15:40.227967Z",
     "shell.execute_reply.started": "2021-07-19T14:15:40.224369Z"
    }
   },
   "outputs": [],
   "source": [
    "# preparation: input should be float type\n",
    "train_store_13['Sales'] = train_store_13['Sales'] * 1.0"
   ]
  },
  {
   "cell_type": "code",
   "execution_count": null,
   "metadata": {
    "execution": {
     "iopub.execute_input": "2021-07-19T14:15:40.22993Z",
     "iopub.status.busy": "2021-07-19T14:15:40.229546Z",
     "iopub.status.idle": "2021-07-19T14:17:45.835219Z",
     "shell.execute_reply": "2021-07-19T14:17:45.833938Z",
     "shell.execute_reply.started": "2021-07-19T14:15:40.229901Z"
    }
   },
   "outputs": [],
   "source": [
    "exog = ['Promo', 'StateHoliday', 'SchoolHoliday', 'DayOfWeek_2', 'DayOfWeek_3', 'DayOfWeek_4', 'DayOfWeek_5', 'DayOfWeek_6', 'DayOfWeek_7']\n",
    "mod = sm.tsa.VARMAX(train_store_13.loc[:,['Sales', 'Customers']], exog=train_store_13[exog], order=(7,4), trend='n')\n",
    "res = mod.fit(maxiter=1000, disp=False)\n",
    "print(res.summary())\n",
    "#Note the AIC value - lower AIC => better model"
   ]
  },
  {
   "cell_type": "code",
   "execution_count": null,
   "metadata": {
    "execution": {
     "iopub.execute_input": "2021-07-19T14:17:45.837328Z",
     "iopub.status.busy": "2021-07-19T14:17:45.836905Z",
     "iopub.status.idle": "2021-07-19T14:17:46.047513Z",
     "shell.execute_reply": "2021-07-19T14:17:46.04662Z",
     "shell.execute_reply.started": "2021-07-19T14:17:45.837283Z"
    }
   },
   "outputs": [],
   "source": [
    "ax = res.impulse_responses(30, orthogonalized=True).plot(figsize=(13,3))\n",
    "ax.set(xlabel='t', title='Responses to a shock to `dln_inv`');"
   ]
  },
  {
   "cell_type": "code",
   "execution_count": null,
   "metadata": {
    "execution": {
     "iopub.execute_input": "2021-07-19T14:17:46.049372Z",
     "iopub.status.busy": "2021-07-19T14:17:46.049081Z",
     "iopub.status.idle": "2021-07-19T14:17:46.055121Z",
     "shell.execute_reply": "2021-07-19T14:17:46.054227Z",
     "shell.execute_reply.started": "2021-07-19T14:17:46.049343Z"
    }
   },
   "outputs": [],
   "source": [
    "train_len = 716\n",
    "train_data = train_store_13[0:train_len] \n",
    "test_data = train_store_13[train_len:]\n",
    "\n",
    "print(\"Train data: {}\".format(train_data.shape))\n",
    "print(\"Test data: {}\".format(test_data.shape))"
   ]
  },
  {
   "cell_type": "code",
   "execution_count": null,
   "metadata": {
    "execution": {
     "iopub.execute_input": "2021-07-19T14:17:46.056738Z",
     "iopub.status.busy": "2021-07-19T14:17:46.056449Z",
     "iopub.status.idle": "2021-07-19T14:17:46.073143Z",
     "shell.execute_reply": "2021-07-19T14:17:46.072345Z",
     "shell.execute_reply.started": "2021-07-19T14:17:46.056707Z"
    }
   },
   "outputs": [],
   "source": [
    "start_index = test_data.index.min()\n",
    "end_index = test_data.index.max()\n",
    "predictions = res.predict(start=start_index, end=end_index)"
   ]
  },
  {
   "cell_type": "code",
   "execution_count": null,
   "metadata": {
    "execution": {
     "iopub.execute_input": "2021-07-19T14:17:46.075531Z",
     "iopub.status.busy": "2021-07-19T14:17:46.075113Z",
     "iopub.status.idle": "2021-07-19T14:17:46.743974Z",
     "shell.execute_reply": "2021-07-19T14:17:46.742559Z",
     "shell.execute_reply.started": "2021-07-19T14:17:46.075486Z"
    }
   },
   "outputs": [],
   "source": [
    "plt.figure(figsize=(96, 16)) \n",
    "plt.plot( train_data['Sales'], label='Train')\n",
    "plt.plot(test_data['Sales'], label='Test')\n",
    "plt.plot(predictions['Sales'], label='VARMAX')\n",
    "plt.legend(loc='best')\n",
    "plt.title('VAR Model - Sales')\n",
    "plt.show()"
   ]
  },
  {
   "cell_type": "code",
   "execution_count": null,
   "metadata": {
    "execution": {
     "iopub.execute_input": "2021-07-19T14:17:46.746092Z",
     "iopub.status.busy": "2021-07-19T14:17:46.745702Z",
     "iopub.status.idle": "2021-07-19T14:17:46.779877Z",
     "shell.execute_reply": "2021-07-19T14:17:46.778635Z",
     "shell.execute_reply.started": "2021-07-19T14:17:46.746052Z"
    }
   },
   "outputs": [],
   "source": [
    "# Root Mean Square Error (RMSE)\n",
    "rmse = np.sqrt(mean_squared_error(test_data['Sales'], predictions['Sales'])).round(2)\n",
    "#print('Income: RMSE:',  rmse)\n",
    "\n",
    "# model_comparison=pd.DataFrame()\n",
    "model_comparison.loc[7,'Store']= 13\n",
    "model_comparison.loc[7,'Model']='VAR - with resampling'\n",
    "model_comparison.loc[7,'Variable']='Sales'\n",
    "model_comparison.loc[7,'RMSE']=rmse\n",
    "\n",
    "# Mean Absolute Percentage Error\n",
    "abs_error = np.abs(test_data['Sales']-predictions['Sales'])\n",
    "actual = test_data['Sales']\n",
    "mape = np.round(np.mean(abs_error/actual)*100, 2)\n",
    "\n",
    "model_comparison.loc[(model_comparison['Store']==13)&(model_comparison['Model']=='VAR - with resampling'), 'MAPE'] = mape\n",
    "# model_comparison.loc[model_comparison['Variable']=='Sales', 'MAPE'] = mape\n",
    "model_comparison"
   ]
  },
  {
   "cell_type": "markdown",
   "metadata": {},
   "source": [
    "# Store 46"
   ]
  },
  {
   "cell_type": "code",
   "execution_count": null,
   "metadata": {
    "execution": {
     "iopub.execute_input": "2021-07-19T14:17:46.782414Z",
     "iopub.status.busy": "2021-07-19T14:17:46.781967Z",
     "iopub.status.idle": "2021-07-19T14:17:46.791358Z",
     "shell.execute_reply": "2021-07-19T14:17:46.79015Z",
     "shell.execute_reply.started": "2021-07-19T14:17:46.78235Z"
    }
   },
   "outputs": [],
   "source": [
    "train_store_46 = train.loc[train['Store']==46,:].sort_index(ascending=True)\n",
    "train_store_46.reset_index(drop=True, inplace=True)"
   ]
  },
  {
   "cell_type": "code",
   "execution_count": null,
   "metadata": {
    "execution": {
     "iopub.execute_input": "2021-07-19T14:17:46.793915Z",
     "iopub.status.busy": "2021-07-19T14:17:46.793424Z",
     "iopub.status.idle": "2021-07-19T14:17:46.815945Z",
     "shell.execute_reply": "2021-07-19T14:17:46.814783Z",
     "shell.execute_reply.started": "2021-07-19T14:17:46.793872Z"
    }
   },
   "outputs": [],
   "source": [
    "train_store_46.info()"
   ]
  },
  {
   "cell_type": "code",
   "execution_count": null,
   "metadata": {
    "execution": {
     "iopub.execute_input": "2021-07-19T14:17:46.817988Z",
     "iopub.status.busy": "2021-07-19T14:17:46.817495Z",
     "iopub.status.idle": "2021-07-19T14:17:46.832898Z",
     "shell.execute_reply": "2021-07-19T14:17:46.831869Z",
     "shell.execute_reply.started": "2021-07-19T14:17:46.817943Z"
    }
   },
   "outputs": [],
   "source": [
    "train_store_46.isnull().sum()"
   ]
  },
  {
   "cell_type": "code",
   "execution_count": null,
   "metadata": {
    "execution": {
     "iopub.execute_input": "2021-07-19T14:17:46.835835Z",
     "iopub.status.busy": "2021-07-19T14:17:46.83486Z",
     "iopub.status.idle": "2021-07-19T14:17:46.848747Z",
     "shell.execute_reply": "2021-07-19T14:17:46.847678Z",
     "shell.execute_reply.started": "2021-07-19T14:17:46.835737Z"
    }
   },
   "outputs": [],
   "source": [
    "train_store_46 = train_store_46.set_index(pd.date_range(start='2013-01-01', periods = len(train_store_46), freq='D'))\n",
    "train_store_46.shape"
   ]
  },
  {
   "cell_type": "code",
   "execution_count": null,
   "metadata": {
    "execution": {
     "iopub.execute_input": "2021-07-19T14:17:46.850844Z",
     "iopub.status.busy": "2021-07-19T14:17:46.850246Z",
     "iopub.status.idle": "2021-07-19T14:17:46.882525Z",
     "shell.execute_reply": "2021-07-19T14:17:46.881332Z",
     "shell.execute_reply.started": "2021-07-19T14:17:46.850801Z"
    }
   },
   "outputs": [],
   "source": [
    "train_store_46.info()"
   ]
  },
  {
   "cell_type": "code",
   "execution_count": null,
   "metadata": {
    "execution": {
     "iopub.execute_input": "2021-07-19T14:17:46.884601Z",
     "iopub.status.busy": "2021-07-19T14:17:46.884173Z",
     "iopub.status.idle": "2021-07-19T14:17:46.89644Z",
     "shell.execute_reply": "2021-07-19T14:17:46.895249Z",
     "shell.execute_reply.started": "2021-07-19T14:17:46.88456Z"
    }
   },
   "outputs": [],
   "source": [
    "train_store_46.isnull().sum()"
   ]
  },
  {
   "cell_type": "code",
   "execution_count": null,
   "metadata": {
    "execution": {
     "iopub.execute_input": "2021-07-19T14:17:46.898562Z",
     "iopub.status.busy": "2021-07-19T14:17:46.898155Z",
     "iopub.status.idle": "2021-07-19T14:17:46.924936Z",
     "shell.execute_reply": "2021-07-19T14:17:46.923751Z",
     "shell.execute_reply.started": "2021-07-19T14:17:46.898521Z"
    }
   },
   "outputs": [],
   "source": [
    "train_store_46.head()"
   ]
  },
  {
   "cell_type": "markdown",
   "metadata": {},
   "source": [
    "#### EDA on store 46 dataset"
   ]
  },
  {
   "cell_type": "code",
   "execution_count": null,
   "metadata": {
    "execution": {
     "iopub.execute_input": "2021-07-19T14:17:46.927439Z",
     "iopub.status.busy": "2021-07-19T14:17:46.927011Z",
     "iopub.status.idle": "2021-07-19T14:17:46.943046Z",
     "shell.execute_reply": "2021-07-19T14:17:46.942078Z",
     "shell.execute_reply.started": "2021-07-19T14:17:46.927393Z"
    }
   },
   "outputs": [],
   "source": [
    "print(\"Checking the number of StateHolidays, SchoolHoliday and Open days\")\n",
    "\n",
    "cols = ['StateHoliday', 'SchoolHoliday', 'Open', 'Promo']\n",
    "for col in cols:\n",
    "    print(train_store_46[col].value_counts())\n",
    "    print(\"-\"*40)"
   ]
  },
  {
   "cell_type": "code",
   "execution_count": null,
   "metadata": {
    "execution": {
     "iopub.execute_input": "2021-07-19T14:17:46.944726Z",
     "iopub.status.busy": "2021-07-19T14:17:46.944335Z",
     "iopub.status.idle": "2021-07-19T14:17:46.962288Z",
     "shell.execute_reply": "2021-07-19T14:17:46.961339Z",
     "shell.execute_reply.started": "2021-07-19T14:17:46.944667Z"
    }
   },
   "outputs": [],
   "source": [
    "print(\"Checking if the store was open on a StateHoliday and the corresponding Sales\")\n",
    "print(train_store_46.loc[train_store_46['StateHoliday']==1,['Sales','Open']].value_counts())"
   ]
  },
  {
   "cell_type": "code",
   "execution_count": null,
   "metadata": {
    "execution": {
     "iopub.execute_input": "2021-07-19T14:17:46.964765Z",
     "iopub.status.busy": "2021-07-19T14:17:46.963962Z",
     "iopub.status.idle": "2021-07-19T14:17:46.974964Z",
     "shell.execute_reply": "2021-07-19T14:17:46.973732Z",
     "shell.execute_reply.started": "2021-07-19T14:17:46.964715Z"
    }
   },
   "outputs": [],
   "source": [
    "print(\"Checking if the store was open on any Sundays and the corresponding Sales\")\n",
    "print(train_store_46.loc[train_store_46['DayOfWeek']==7,'Open'].value_counts())"
   ]
  },
  {
   "cell_type": "code",
   "execution_count": null,
   "metadata": {
    "execution": {
     "iopub.execute_input": "2021-07-19T14:17:46.977738Z",
     "iopub.status.busy": "2021-07-19T14:17:46.976928Z",
     "iopub.status.idle": "2021-07-19T14:17:46.996558Z",
     "shell.execute_reply": "2021-07-19T14:17:46.995629Z",
     "shell.execute_reply.started": "2021-07-19T14:17:46.977567Z"
    }
   },
   "outputs": [],
   "source": [
    "print(\"Checking the days on which the store was closed\")\n",
    "print(train_store_46.loc[train_store_46['Open']==0,['Sales','DayOfWeek']].value_counts())"
   ]
  },
  {
   "cell_type": "code",
   "execution_count": null,
   "metadata": {
    "execution": {
     "iopub.execute_input": "2021-07-19T14:17:46.999581Z",
     "iopub.status.busy": "2021-07-19T14:17:46.998497Z",
     "iopub.status.idle": "2021-07-19T14:17:47.012818Z",
     "shell.execute_reply": "2021-07-19T14:17:47.011806Z",
     "shell.execute_reply.started": "2021-07-19T14:17:46.999533Z"
    }
   },
   "outputs": [],
   "source": [
    "print(\"Checking the Sales when the shop was closed and if it was a StateHoliday or not\")\n",
    "print(train_store_46.loc[train_store_46['Open']==0,['Sales','StateHoliday']].value_counts())"
   ]
  },
  {
   "cell_type": "code",
   "execution_count": null,
   "metadata": {
    "execution": {
     "iopub.execute_input": "2021-07-19T14:17:47.015501Z",
     "iopub.status.busy": "2021-07-19T14:17:47.014664Z",
     "iopub.status.idle": "2021-07-19T14:17:47.034914Z",
     "shell.execute_reply": "2021-07-19T14:17:47.033485Z",
     "shell.execute_reply.started": "2021-07-19T14:17:47.015456Z"
    }
   },
   "outputs": [],
   "source": [
    "print(\"Checking the SchoolHolidays for which the store was open and the corresponding value for StateHoliday\")\n",
    "print(train_store_46.loc[train_store_46['SchoolHoliday']==1,['DayOfWeek', 'Open', 'SchoolHoliday']].value_counts())"
   ]
  },
  {
   "cell_type": "code",
   "execution_count": null,
   "metadata": {
    "execution": {
     "iopub.execute_input": "2021-07-19T14:17:47.037714Z",
     "iopub.status.busy": "2021-07-19T14:17:47.036836Z",
     "iopub.status.idle": "2021-07-19T14:17:47.051365Z",
     "shell.execute_reply": "2021-07-19T14:17:47.050016Z",
     "shell.execute_reply.started": "2021-07-19T14:17:47.03765Z"
    }
   },
   "outputs": [],
   "source": [
    "print(\"Checking if we have 0 Sales even when the shop was open and if it was a StateHoliday or not\")\n",
    "print(train_store_46.loc[train_store_46['Sales']==0,['Open','StateHoliday']].value_counts())"
   ]
  },
  {
   "cell_type": "code",
   "execution_count": null,
   "metadata": {
    "execution": {
     "iopub.execute_input": "2021-07-19T14:17:47.053323Z",
     "iopub.status.busy": "2021-07-19T14:17:47.053Z",
     "iopub.status.idle": "2021-07-19T14:17:47.073399Z",
     "shell.execute_reply": "2021-07-19T14:17:47.072713Z",
     "shell.execute_reply.started": "2021-07-19T14:17:47.053288Z"
    }
   },
   "outputs": [],
   "source": [
    "print(\"Checking the dates where the store was open but the sales was 0\")\n",
    "print(train_store_46.loc[(train_store_46['Sales']==0)&(train_store_46['Open']==1),:].value_counts())"
   ]
  },
  {
   "cell_type": "code",
   "execution_count": null,
   "metadata": {
    "execution": {
     "iopub.execute_input": "2021-07-19T14:17:47.075168Z",
     "iopub.status.busy": "2021-07-19T14:17:47.074609Z",
     "iopub.status.idle": "2021-07-19T14:17:47.09337Z",
     "shell.execute_reply": "2021-07-19T14:17:47.09223Z",
     "shell.execute_reply.started": "2021-07-19T14:17:47.075125Z"
    }
   },
   "outputs": [],
   "source": [
    "train_store_46['DayOfWeek'].value_counts()"
   ]
  },
  {
   "cell_type": "markdown",
   "metadata": {},
   "source": [
    "<b>Observations</b><br>\n",
    "We have 0 Sales only when the shop was closed (either due to a StateHoliday or being Sunday.<br>\n",
    "From the above outputs we can make the following observations between 'Open' and 'StateHoliday' fields\n",
    "- Store was closed for 136 days\n",
    "- Of the 136 days, 107 were Sundays and the remaining 29 were State Holidays. There was one State Holiday which was on Sunday\n",
    "- Store was closed for all the State Holidays and on all Sundays<br>\n",
    "\n",
    "No evident observations between the above two fields with the field 'SchoolHoliday'"
   ]
  },
  {
   "cell_type": "code",
   "execution_count": null,
   "metadata": {
    "execution": {
     "iopub.execute_input": "2021-07-19T14:17:47.09541Z",
     "iopub.status.busy": "2021-07-19T14:17:47.095125Z",
     "iopub.status.idle": "2021-07-19T14:17:47.118552Z",
     "shell.execute_reply": "2021-07-19T14:17:47.117277Z",
     "shell.execute_reply.started": "2021-07-19T14:17:47.095382Z"
    }
   },
   "outputs": [],
   "source": [
    "# Removing the 'Store' field since it invariant\n",
    "\n",
    "train_store_46.drop(columns=['Store'], inplace=True)\n",
    "train_store_46.info()"
   ]
  },
  {
   "cell_type": "markdown",
   "metadata": {},
   "source": [
    "Since the 'Sales' and 'Customers' are 0 only when the store was closed (due to pulic or state holiday), we can consider it as a missing value and for our purpose impute with the values that could have been present if the store had been open. For that we use Linear Interpolation.\n",
    "Even in predction, we could use the same method, i.e comparing the predicted value with what could have been the 'Sales' if the Store was open.\n",
    "But in real sense, 'Sales' would be 0 if the Store is closed"
   ]
  },
  {
   "cell_type": "code",
   "execution_count": null,
   "metadata": {
    "execution": {
     "iopub.execute_input": "2021-07-19T14:17:47.120132Z",
     "iopub.status.busy": "2021-07-19T14:17:47.119851Z",
     "iopub.status.idle": "2021-07-19T14:17:47.143039Z",
     "shell.execute_reply": "2021-07-19T14:17:47.141807Z",
     "shell.execute_reply.started": "2021-07-19T14:17:47.120103Z"
    }
   },
   "outputs": [],
   "source": [
    "train_store_46.loc[:, 'Sales'] = train_store_46.loc[:, 'Sales'].map(lambda x:np.NaN if x==0 else x).interpolate(method='linear')\n",
    "train_store_46.loc[:, 'Customers'] = train_store_46.loc[:, 'Customers'].map(lambda x:np.NaN if x==0 else x).interpolate(method='linear')\n",
    "\n",
    "# # Removing the first records since its is having 0 Sales\n",
    "\n",
    "train_store_46.drop(index=pd.to_datetime('2013-01-01'),axis=0, inplace=True)\n",
    "train_store_46.shape"
   ]
  },
  {
   "cell_type": "markdown",
   "metadata": {},
   "source": [
    "#### Outlier treatment"
   ]
  },
  {
   "cell_type": "code",
   "execution_count": null,
   "metadata": {
    "execution": {
     "iopub.execute_input": "2021-07-19T14:17:47.144764Z",
     "iopub.status.busy": "2021-07-19T14:17:47.144438Z",
     "iopub.status.idle": "2021-07-19T14:17:47.27657Z",
     "shell.execute_reply": "2021-07-19T14:17:47.275581Z",
     "shell.execute_reply.started": "2021-07-19T14:17:47.144725Z"
    }
   },
   "outputs": [],
   "source": [
    "fig = plt.subplots(figsize=(12, 2))\n",
    "ax = sns.boxplot(x=train_store_46['Sales'], whis=1.5)"
   ]
  },
  {
   "cell_type": "code",
   "execution_count": null,
   "metadata": {
    "execution": {
     "iopub.execute_input": "2021-07-19T14:17:47.278303Z",
     "iopub.status.busy": "2021-07-19T14:17:47.278Z",
     "iopub.status.idle": "2021-07-19T14:17:47.47266Z",
     "shell.execute_reply": "2021-07-19T14:17:47.471718Z",
     "shell.execute_reply.started": "2021-07-19T14:17:47.27827Z"
    }
   },
   "outputs": [],
   "source": [
    "fig = train_store_46['Sales'].hist(figsize = (12,4))"
   ]
  },
  {
   "cell_type": "markdown",
   "metadata": {},
   "source": [
    "Since from the time series plot we had observed a general increase in sales in the months of Dec-Jan, it is better to replace the higher values with lower extreme (Winsorizing) rather than removing the value completely.\n",
    "Removing the outlier is better suited when we think the outlier is erroneous"
   ]
  },
  {
   "cell_type": "code",
   "execution_count": null,
   "metadata": {
    "execution": {
     "iopub.execute_input": "2021-07-19T14:17:47.474226Z",
     "iopub.status.busy": "2021-07-19T14:17:47.473929Z",
     "iopub.status.idle": "2021-07-19T14:17:47.482823Z",
     "shell.execute_reply": "2021-07-19T14:17:47.481702Z",
     "shell.execute_reply.started": "2021-07-19T14:17:47.474193Z"
    }
   },
   "outputs": [],
   "source": [
    "# Replacing the outliers (above 99 quantile) to the value at 99 percentile\n",
    "\n",
    "train_store_46.loc[train_store_46['Sales'] > train_store_46['Sales'].quantile(0.99), 'Sales'] = math.ceil(train_store_46['Sales'].quantile(0.99))"
   ]
  },
  {
   "cell_type": "code",
   "execution_count": null,
   "metadata": {
    "execution": {
     "iopub.execute_input": "2021-07-19T14:17:47.484498Z",
     "iopub.status.busy": "2021-07-19T14:17:47.484173Z",
     "iopub.status.idle": "2021-07-19T14:17:47.618226Z",
     "shell.execute_reply": "2021-07-19T14:17:47.6172Z",
     "shell.execute_reply.started": "2021-07-19T14:17:47.484465Z"
    }
   },
   "outputs": [],
   "source": [
    "# Boxplot after winsorizing the outliers\n",
    "\n",
    "fig = plt.subplots(figsize=(12, 2))\n",
    "ax = sns.boxplot(x=train_store_46['Sales'], whis=1.5)"
   ]
  },
  {
   "cell_type": "markdown",
   "metadata": {},
   "source": [
    "#### Plotting the sales data"
   ]
  },
  {
   "cell_type": "code",
   "execution_count": null,
   "metadata": {
    "execution": {
     "iopub.execute_input": "2021-07-19T14:17:47.619915Z",
     "iopub.status.busy": "2021-07-19T14:17:47.61958Z",
     "iopub.status.idle": "2021-07-19T14:17:48.245357Z",
     "shell.execute_reply": "2021-07-19T14:17:48.244264Z",
     "shell.execute_reply.started": "2021-07-19T14:17:47.619883Z"
    }
   },
   "outputs": [],
   "source": [
    "train_store_46.loc[:,'Sales'].plot(figsize=(96, 16))\n",
    "plt.legend(loc='best')\n",
    "plt.title('Sales data for Store 31')\n",
    "plt.show(block=False)"
   ]
  },
  {
   "cell_type": "markdown",
   "metadata": {},
   "source": [
    "#### Decomposing the time series to trend and seasonality"
   ]
  },
  {
   "cell_type": "code",
   "execution_count": null,
   "metadata": {
    "execution": {
     "iopub.execute_input": "2021-07-19T14:17:48.252426Z",
     "iopub.status.busy": "2021-07-19T14:17:48.252081Z",
     "iopub.status.idle": "2021-07-19T14:17:49.715671Z",
     "shell.execute_reply": "2021-07-19T14:17:49.714446Z",
     "shell.execute_reply.started": "2021-07-19T14:17:48.252393Z"
    }
   },
   "outputs": [],
   "source": [
    "from pylab import rcParams\n",
    "rcParams['figure.figsize'] = (96,16)\n",
    "decomposition = sm.tsa.seasonal_decompose(train_store_46['Sales'], model='additive', freq=30)\n",
    "fig = decomposition.plot()\n",
    "plt.show()"
   ]
  },
  {
   "cell_type": "markdown",
   "metadata": {},
   "source": [
    "The above plot tells us that there is a general increase in the months Dec-Jan and also there is repeating 0 sales throught out the timeframe.<br>\n",
    "Following analysis is done to find out the possible reasons for the above observations"
   ]
  },
  {
   "cell_type": "markdown",
   "metadata": {},
   "source": [
    "#### Creating dummy variables for the field 'DayOfWeek'"
   ]
  },
  {
   "cell_type": "code",
   "execution_count": null,
   "metadata": {
    "execution": {
     "iopub.execute_input": "2021-07-19T14:17:49.71834Z",
     "iopub.status.busy": "2021-07-19T14:17:49.718009Z",
     "iopub.status.idle": "2021-07-19T14:17:49.742403Z",
     "shell.execute_reply": "2021-07-19T14:17:49.741399Z",
     "shell.execute_reply.started": "2021-07-19T14:17:49.718306Z"
    }
   },
   "outputs": [],
   "source": [
    "# Creating dummy variables and concatenating the dummy variables of field 'DayOfWeek' to the original dataframe\n",
    "train_store_46 = pd.concat([train_store_46, pd.get_dummies(train_store_46['DayOfWeek'], prefix='DayOfWeek', drop_first=True)], axis=1)\n",
    "\n",
    "# Removing the parent field 'DayOfWeek'\n",
    "train_store_46.drop(columns=['DayOfWeek'], inplace=True)\n",
    "train_store_46.info()"
   ]
  },
  {
   "cell_type": "markdown",
   "metadata": {},
   "source": [
    "#### Checking the corelation of variables"
   ]
  },
  {
   "cell_type": "code",
   "execution_count": null,
   "metadata": {
    "execution": {
     "iopub.execute_input": "2021-07-19T14:17:49.744537Z",
     "iopub.status.busy": "2021-07-19T14:17:49.744172Z",
     "iopub.status.idle": "2021-07-19T14:17:50.639321Z",
     "shell.execute_reply": "2021-07-19T14:17:50.638337Z",
     "shell.execute_reply.started": "2021-07-19T14:17:49.744499Z"
    }
   },
   "outputs": [],
   "source": [
    "plt.figure(figsize=(12,8))\n",
    "sns.heatmap(train_store_46.corr(), annot=True)\n",
    "plt.show()"
   ]
  },
  {
   "cell_type": "markdown",
   "metadata": {},
   "source": [
    "<b>Observations</b><br>\n",
    "Following observation can be made from the above correlation plot\n",
    "- Sales and Customers fields are highly positively correlated\n",
    "- Open field is highely negatively correlated to the DayOfWeek_7 (Sunday)\n",
    "- No considerable relationship between the Promo and the Sale/Customers\n",
    "- As discovered from EDA, there is a slight correlation between StateHoliday and Open<br>\n",
    "\n",
    "Above observation make sense from a business point of view as well."
   ]
  },
  {
   "cell_type": "markdown",
   "metadata": {},
   "source": [
    "#### Checking the stationarity of the data"
   ]
  },
  {
   "cell_type": "code",
   "execution_count": null,
   "metadata": {
    "execution": {
     "iopub.execute_input": "2021-07-19T14:17:50.640921Z",
     "iopub.status.busy": "2021-07-19T14:17:50.640623Z",
     "iopub.status.idle": "2021-07-19T14:17:51.049083Z",
     "shell.execute_reply": "2021-07-19T14:17:51.045866Z",
     "shell.execute_reply.started": "2021-07-19T14:17:50.640893Z"
    }
   },
   "outputs": [],
   "source": [
    "cols = train_store_46.columns\n",
    "\n",
    "\n",
    "for col in cols:\n",
    "    adf_test = adfuller(train_store_46[col])\n",
    "\n",
    "    print('ADF Statistic ({}): {}'.format(col, round(adf_test[0], 4)))\n",
    "    print('Critical Values @ 0.05 ({}): {}'.format(col, round(adf_test[4]['5%'], 2)))\n",
    "    print('p-value ({}): {}'.format(col, round(adf_test[1], 4)))"
   ]
  },
  {
   "cell_type": "markdown",
   "metadata": {},
   "source": [
    "#### ACF and PACF plots"
   ]
  },
  {
   "cell_type": "code",
   "execution_count": null,
   "metadata": {
    "execution": {
     "iopub.execute_input": "2021-07-19T14:17:51.060969Z",
     "iopub.status.busy": "2021-07-19T14:17:51.0508Z",
     "iopub.status.idle": "2021-07-19T14:17:51.42593Z",
     "shell.execute_reply": "2021-07-19T14:17:51.424957Z",
     "shell.execute_reply.started": "2021-07-19T14:17:51.060893Z"
    }
   },
   "outputs": [],
   "source": [
    "plt.figure(figsize=(18,4))\n",
    "plt.subplot(1,2,1)\n",
    "plot_pacf(train_store_46['Sales'] , ax=plt.gca(), lags = 50)\n",
    "plt.subplot(1,2,2)\n",
    "plot_acf(train_store_46['Sales'] , ax=plt.gca(), lags = 50)\n",
    "plt.show()"
   ]
  },
  {
   "cell_type": "markdown",
   "metadata": {},
   "source": [
    "#### Model Creation"
   ]
  },
  {
   "cell_type": "code",
   "execution_count": null,
   "metadata": {
    "execution": {
     "iopub.execute_input": "2021-07-19T14:17:51.427931Z",
     "iopub.status.busy": "2021-07-19T14:17:51.427339Z",
     "iopub.status.idle": "2021-07-19T14:17:51.433811Z",
     "shell.execute_reply": "2021-07-19T14:17:51.432656Z",
     "shell.execute_reply.started": "2021-07-19T14:17:51.427886Z"
    }
   },
   "outputs": [],
   "source": [
    "# preparation: input should be float type\n",
    "train_store_46['Sales'] = train_store_46['Sales'] * 1.0"
   ]
  },
  {
   "cell_type": "code",
   "execution_count": null,
   "metadata": {
    "execution": {
     "iopub.execute_input": "2021-07-19T14:17:51.435675Z",
     "iopub.status.busy": "2021-07-19T14:17:51.435294Z",
     "iopub.status.idle": "2021-07-19T14:19:20.614754Z",
     "shell.execute_reply": "2021-07-19T14:19:20.613525Z",
     "shell.execute_reply.started": "2021-07-19T14:17:51.435632Z"
    }
   },
   "outputs": [],
   "source": [
    "exog = ['Promo', 'StateHoliday', 'SchoolHoliday', 'DayOfWeek_2', 'DayOfWeek_3', 'DayOfWeek_4', 'DayOfWeek_5', 'DayOfWeek_6', 'DayOfWeek_7']\n",
    "mod = sm.tsa.VARMAX(train_store_46.loc[:,['Sales', 'Customers']], exog=train_store_46[exog], order=(3,4), trend='n')\n",
    "res = mod.fit(maxiter=1000, disp=False)\n",
    "print(res.summary())\n",
    "#Note the AIC value - lower AIC => better model"
   ]
  },
  {
   "cell_type": "code",
   "execution_count": null,
   "metadata": {
    "execution": {
     "iopub.execute_input": "2021-07-19T14:19:20.616799Z",
     "iopub.status.busy": "2021-07-19T14:19:20.616344Z",
     "iopub.status.idle": "2021-07-19T14:19:20.794898Z",
     "shell.execute_reply": "2021-07-19T14:19:20.794097Z",
     "shell.execute_reply.started": "2021-07-19T14:19:20.616751Z"
    }
   },
   "outputs": [],
   "source": [
    "ax = res.impulse_responses(30, orthogonalized=True).plot(figsize=(13,3))\n",
    "ax.set(xlabel='t', title='Responses to a shock to `dln_inv`');"
   ]
  },
  {
   "cell_type": "code",
   "execution_count": null,
   "metadata": {
    "execution": {
     "iopub.execute_input": "2021-07-19T14:19:20.796532Z",
     "iopub.status.busy": "2021-07-19T14:19:20.796081Z",
     "iopub.status.idle": "2021-07-19T14:19:20.803267Z",
     "shell.execute_reply": "2021-07-19T14:19:20.802117Z",
     "shell.execute_reply.started": "2021-07-19T14:19:20.796485Z"
    }
   },
   "outputs": [],
   "source": [
    "train_len = 716\n",
    "train_data = train_store_46[0:train_len] \n",
    "test_data = train_store_46[train_len:]\n",
    "\n",
    "print(\"Train data: {}\".format(train_data.shape))\n",
    "print(\"Test data: {}\".format(test_data.shape))"
   ]
  },
  {
   "cell_type": "code",
   "execution_count": null,
   "metadata": {
    "execution": {
     "iopub.execute_input": "2021-07-19T14:19:20.804926Z",
     "iopub.status.busy": "2021-07-19T14:19:20.804607Z",
     "iopub.status.idle": "2021-07-19T14:19:20.821412Z",
     "shell.execute_reply": "2021-07-19T14:19:20.820367Z",
     "shell.execute_reply.started": "2021-07-19T14:19:20.804898Z"
    }
   },
   "outputs": [],
   "source": [
    "start_index = test_data.index.min()\n",
    "end_index = test_data.index.max()\n",
    "predictions = res.predict(start=start_index, end=end_index)"
   ]
  },
  {
   "cell_type": "code",
   "execution_count": null,
   "metadata": {
    "execution": {
     "iopub.execute_input": "2021-07-19T14:19:20.823175Z",
     "iopub.status.busy": "2021-07-19T14:19:20.82284Z",
     "iopub.status.idle": "2021-07-19T14:19:21.455698Z",
     "shell.execute_reply": "2021-07-19T14:19:21.454402Z",
     "shell.execute_reply.started": "2021-07-19T14:19:20.823143Z"
    }
   },
   "outputs": [],
   "source": [
    "plt.figure(figsize=(96, 16)) \n",
    "plt.plot( train_data['Sales'], label='Train')\n",
    "plt.plot(test_data['Sales'], label='Test')\n",
    "plt.plot(predictions['Sales'], label='VARMAX')\n",
    "plt.legend(loc='best')\n",
    "plt.title('VAR Model - Sales')\n",
    "plt.show()"
   ]
  },
  {
   "cell_type": "code",
   "execution_count": null,
   "metadata": {
    "execution": {
     "iopub.execute_input": "2021-07-19T14:19:21.457349Z",
     "iopub.status.busy": "2021-07-19T14:19:21.457046Z",
     "iopub.status.idle": "2021-07-19T14:19:21.480335Z",
     "shell.execute_reply": "2021-07-19T14:19:21.479292Z",
     "shell.execute_reply.started": "2021-07-19T14:19:21.457317Z"
    }
   },
   "outputs": [],
   "source": [
    "# Root Mean Square Error (RMSE)\n",
    "rmse = np.sqrt(mean_squared_error(test_data['Sales'], predictions['Sales'])).round(2)\n",
    "#print('Income: RMSE:',  rmse)\n",
    "\n",
    "# model_comparison=pd.DataFrame()\n",
    "model_comparison.loc[8,'Store']= 46\n",
    "model_comparison.loc[8,'Model']='VAR'\n",
    "model_comparison.loc[8,'Variable']='Sales'\n",
    "model_comparison.loc[8,'RMSE']=rmse\n",
    "\n",
    "# Mean Absolute Percentage Error\n",
    "abs_error = np.abs(test_data['Sales']-predictions['Sales'])\n",
    "actual = test_data['Sales']\n",
    "mape = np.round(np.mean(abs_error/actual)*100, 2)\n",
    "\n",
    "model_comparison.loc[model_comparison['Store']==46, 'MAPE'] = mape\n",
    "model_comparison"
   ]
  },
  {
   "cell_type": "markdown",
   "metadata": {},
   "source": [
    "# Store 25"
   ]
  },
  {
   "cell_type": "code",
   "execution_count": null,
   "metadata": {
    "execution": {
     "iopub.execute_input": "2021-07-19T14:19:21.48225Z",
     "iopub.status.busy": "2021-07-19T14:19:21.481964Z",
     "iopub.status.idle": "2021-07-19T14:19:21.500664Z",
     "shell.execute_reply": "2021-07-19T14:19:21.499601Z",
     "shell.execute_reply.started": "2021-07-19T14:19:21.48222Z"
    }
   },
   "outputs": [],
   "source": [
    "train_store_25 = train.loc[train['Store']==25,:].sort_index(ascending=True)\n",
    "# train_store_25.reset_index(drop=True, inplace=True)"
   ]
  },
  {
   "cell_type": "code",
   "execution_count": null,
   "metadata": {
    "execution": {
     "iopub.execute_input": "2021-07-19T14:19:21.502267Z",
     "iopub.status.busy": "2021-07-19T14:19:21.501946Z",
     "iopub.status.idle": "2021-07-19T14:19:21.523267Z",
     "shell.execute_reply": "2021-07-19T14:19:21.522178Z",
     "shell.execute_reply.started": "2021-07-19T14:19:21.502234Z"
    }
   },
   "outputs": [],
   "source": [
    "train_store_25.info()"
   ]
  },
  {
   "cell_type": "code",
   "execution_count": null,
   "metadata": {
    "execution": {
     "iopub.execute_input": "2021-07-19T14:19:21.525246Z",
     "iopub.status.busy": "2021-07-19T14:19:21.524866Z",
     "iopub.status.idle": "2021-07-19T14:19:21.541489Z",
     "shell.execute_reply": "2021-07-19T14:19:21.540284Z",
     "shell.execute_reply.started": "2021-07-19T14:19:21.5252Z"
    }
   },
   "outputs": [],
   "source": [
    "train_store_25.isnull().sum()"
   ]
  },
  {
   "cell_type": "code",
   "execution_count": null,
   "metadata": {
    "execution": {
     "iopub.execute_input": "2021-07-19T14:19:21.543324Z",
     "iopub.status.busy": "2021-07-19T14:19:21.543005Z",
     "iopub.status.idle": "2021-07-19T14:19:21.556935Z",
     "shell.execute_reply": "2021-07-19T14:19:21.555997Z",
     "shell.execute_reply.started": "2021-07-19T14:19:21.543292Z"
    }
   },
   "outputs": [],
   "source": [
    "train_store_25.head()"
   ]
  },
  {
   "cell_type": "markdown",
   "metadata": {},
   "source": [
    "#### EDA on store 25 dataset"
   ]
  },
  {
   "cell_type": "code",
   "execution_count": null,
   "metadata": {
    "execution": {
     "iopub.execute_input": "2021-07-19T14:19:21.55856Z",
     "iopub.status.busy": "2021-07-19T14:19:21.558074Z",
     "iopub.status.idle": "2021-07-19T14:19:21.578951Z",
     "shell.execute_reply": "2021-07-19T14:19:21.578026Z",
     "shell.execute_reply.started": "2021-07-19T14:19:21.558524Z"
    }
   },
   "outputs": [],
   "source": [
    "print(\"Checking the number of StateHolidays, SchoolHoliday and Open days\")\n",
    "\n",
    "cols = ['StateHoliday', 'SchoolHoliday', 'Open', 'Promo']\n",
    "for col in cols:\n",
    "    print(train_store_25[col].value_counts())\n",
    "    print(\"-\"*40)"
   ]
  },
  {
   "cell_type": "code",
   "execution_count": null,
   "metadata": {
    "execution": {
     "iopub.execute_input": "2021-07-19T14:19:21.580611Z",
     "iopub.status.busy": "2021-07-19T14:19:21.580275Z",
     "iopub.status.idle": "2021-07-19T14:19:21.592928Z",
     "shell.execute_reply": "2021-07-19T14:19:21.591593Z",
     "shell.execute_reply.started": "2021-07-19T14:19:21.580577Z"
    }
   },
   "outputs": [],
   "source": [
    "print(\"Checking if the store was open on a StateHoliday and the corresponding Sales\")\n",
    "print(train_store_25.loc[train_store_25['StateHoliday']==1,['Sales','Open']].value_counts())"
   ]
  },
  {
   "cell_type": "code",
   "execution_count": null,
   "metadata": {
    "execution": {
     "iopub.execute_input": "2021-07-19T14:19:21.59428Z",
     "iopub.status.busy": "2021-07-19T14:19:21.593941Z",
     "iopub.status.idle": "2021-07-19T14:19:21.612086Z",
     "shell.execute_reply": "2021-07-19T14:19:21.610799Z",
     "shell.execute_reply.started": "2021-07-19T14:19:21.594238Z"
    }
   },
   "outputs": [],
   "source": [
    "print(\"Checking if the store was open on any Sundays and the corresponding Sales\")\n",
    "print(train_store_25.loc[train_store_25['DayOfWeek']==7,'Open'].value_counts())"
   ]
  },
  {
   "cell_type": "code",
   "execution_count": null,
   "metadata": {
    "execution": {
     "iopub.execute_input": "2021-07-19T14:19:21.613917Z",
     "iopub.status.busy": "2021-07-19T14:19:21.613584Z",
     "iopub.status.idle": "2021-07-19T14:19:21.631796Z",
     "shell.execute_reply": "2021-07-19T14:19:21.630853Z",
     "shell.execute_reply.started": "2021-07-19T14:19:21.613884Z"
    }
   },
   "outputs": [],
   "source": [
    "print(\"Checking the days on which the store was closed\")\n",
    "print(train_store_25.loc[train_store_25['Open']==0,['Sales','DayOfWeek']].value_counts())"
   ]
  },
  {
   "cell_type": "code",
   "execution_count": null,
   "metadata": {
    "execution": {
     "iopub.execute_input": "2021-07-19T14:19:21.633663Z",
     "iopub.status.busy": "2021-07-19T14:19:21.633277Z",
     "iopub.status.idle": "2021-07-19T14:19:21.654349Z",
     "shell.execute_reply": "2021-07-19T14:19:21.65305Z",
     "shell.execute_reply.started": "2021-07-19T14:19:21.633539Z"
    }
   },
   "outputs": [],
   "source": [
    "print(\"Checking the Sales when the shop was closed and if it was a StateHoliday or not\")\n",
    "print(train_store_25.loc[train_store_25['Open']==0,['Sales','StateHoliday']].value_counts())"
   ]
  },
  {
   "cell_type": "code",
   "execution_count": null,
   "metadata": {
    "execution": {
     "iopub.execute_input": "2021-07-19T14:19:21.656398Z",
     "iopub.status.busy": "2021-07-19T14:19:21.655983Z",
     "iopub.status.idle": "2021-07-19T14:19:21.677251Z",
     "shell.execute_reply": "2021-07-19T14:19:21.676039Z",
     "shell.execute_reply.started": "2021-07-19T14:19:21.656353Z"
    }
   },
   "outputs": [],
   "source": [
    "print(\"Checking the SchoolHolidays for which the store was open and the corresponding value for StateHoliday\")\n",
    "print(train_store_25.loc[train_store_25['SchoolHoliday']==1,['DayOfWeek', 'Open', 'SchoolHoliday']].value_counts())"
   ]
  },
  {
   "cell_type": "code",
   "execution_count": null,
   "metadata": {
    "execution": {
     "iopub.execute_input": "2021-07-19T14:19:21.679601Z",
     "iopub.status.busy": "2021-07-19T14:19:21.679171Z",
     "iopub.status.idle": "2021-07-19T14:19:21.696614Z",
     "shell.execute_reply": "2021-07-19T14:19:21.695508Z",
     "shell.execute_reply.started": "2021-07-19T14:19:21.679554Z"
    }
   },
   "outputs": [],
   "source": [
    "print(\"Checking if we have 0 Sales even when the shop was open and if it was a StateHoliday or not\")\n",
    "print(train_store_25.loc[train_store_25['Sales']==0,['Open','StateHoliday']].value_counts())"
   ]
  },
  {
   "cell_type": "code",
   "execution_count": null,
   "metadata": {
    "execution": {
     "iopub.execute_input": "2021-07-19T14:19:21.698835Z",
     "iopub.status.busy": "2021-07-19T14:19:21.698404Z",
     "iopub.status.idle": "2021-07-19T14:19:21.716596Z",
     "shell.execute_reply": "2021-07-19T14:19:21.71509Z",
     "shell.execute_reply.started": "2021-07-19T14:19:21.698788Z"
    }
   },
   "outputs": [],
   "source": [
    "print(\"Checking the dates where the store was open but the sales was 0\")\n",
    "print(train_store_25.loc[(train_store_25['Sales']==0)&(train_store_25['Open']==1),:])"
   ]
  },
  {
   "cell_type": "markdown",
   "metadata": {},
   "source": [
    "<b>Observations</b><br>\n",
    "We have 0 Sales only when the shop was closed (either due to a StateHoliday or being Sunday.)<br>\n",
    "Also we have 0 sales for two days when the store was open\n",
    "From the above outputs we can make the following observations between 'Open' and 'StateHoliday' fields\n",
    "- Store was closed for 190 days\n",
    "- Of the 190 days, 134 were Sundays and the 29 were State Holidays. Shop was closed for the other 27 days as well (From Jan 15, 2014 to Feb 13, 2014)\n",
    "- Apart from above 190 days, we had 2 dates for which the Sales was 0 even though the shop was open\n",
    "- Store was closed for all the State Holidays and on all Sundays<br>\n",
    "\n",
    "No evident observations between the above two fields with the field 'SchoolHoliday'"
   ]
  },
  {
   "cell_type": "code",
   "execution_count": null,
   "metadata": {
    "execution": {
     "iopub.execute_input": "2021-07-19T14:19:21.718508Z",
     "iopub.status.busy": "2021-07-19T14:19:21.718206Z",
     "iopub.status.idle": "2021-07-19T14:19:21.743641Z",
     "shell.execute_reply": "2021-07-19T14:19:21.74256Z",
     "shell.execute_reply.started": "2021-07-19T14:19:21.718479Z"
    }
   },
   "outputs": [],
   "source": [
    "# Removing the 'Store' field since it invariant\n",
    "\n",
    "train_store_25.drop(columns=['Store'], inplace=True)\n",
    "train_store_25.info()"
   ]
  },
  {
   "cell_type": "markdown",
   "metadata": {},
   "source": [
    "We are keeping the 0 records as it is for the days with Sales 0 since its not due to any missing data. Instead of missing dates, we have records for those dates with Sales as 0"
   ]
  },
  {
   "cell_type": "code",
   "execution_count": null,
   "metadata": {
    "execution": {
     "iopub.execute_input": "2021-07-19T14:19:21.746418Z",
     "iopub.status.busy": "2021-07-19T14:19:21.745797Z",
     "iopub.status.idle": "2021-07-19T14:19:21.768346Z",
     "shell.execute_reply": "2021-07-19T14:19:21.766837Z",
     "shell.execute_reply.started": "2021-07-19T14:19:21.74637Z"
    }
   },
   "outputs": [],
   "source": [
    "train_store_25.loc[:, 'Sales'] = train_store_25.loc[:, 'Sales'].map(lambda x:np.NaN if x==0 else x).interpolate(method='linear')\n",
    "train_store_25.loc[:, 'Customers'] = train_store_25.loc[:, 'Customers'].map(lambda x:np.NaN if x==0 else x).interpolate(method='linear')\n",
    "\n",
    "# # Removing the first records since its is having 0 Sales\n",
    "\n",
    "train_store_25.drop(index=pd.to_datetime('2013-01-01'),axis=0, inplace=True)\n",
    "train_store_25.shape"
   ]
  },
  {
   "cell_type": "code",
   "execution_count": null,
   "metadata": {
    "execution": {
     "iopub.execute_input": "2021-07-19T14:19:21.770496Z",
     "iopub.status.busy": "2021-07-19T14:19:21.770065Z",
     "iopub.status.idle": "2021-07-19T14:19:21.783242Z",
     "shell.execute_reply": "2021-07-19T14:19:21.782069Z",
     "shell.execute_reply.started": "2021-07-19T14:19:21.770452Z"
    }
   },
   "outputs": [],
   "source": [
    "# Chaging the 0 sales records when the shop was open back to 0\n",
    "\n",
    "train_store_25.loc['2014-02-12','Sales'] = 0\n",
    "train_store_25.loc['2014-02-12','Customers'] = 0\n",
    "train_store_25.loc['2014-02-13','Sales'] = 0\n",
    "train_store_25.loc['2014-02-13','Customers'] = 0"
   ]
  },
  {
   "cell_type": "code",
   "execution_count": null,
   "metadata": {
    "execution": {
     "iopub.execute_input": "2021-07-19T14:19:21.785359Z",
     "iopub.status.busy": "2021-07-19T14:19:21.785036Z",
     "iopub.status.idle": "2021-07-19T14:19:21.801017Z",
     "shell.execute_reply": "2021-07-19T14:19:21.799949Z",
     "shell.execute_reply.started": "2021-07-19T14:19:21.78532Z"
    }
   },
   "outputs": [],
   "source": [
    "train_store_25.loc[train_store_25['Sales']==0, :]"
   ]
  },
  {
   "cell_type": "markdown",
   "metadata": {},
   "source": [
    "#### Outlier treatment"
   ]
  },
  {
   "cell_type": "code",
   "execution_count": null,
   "metadata": {
    "execution": {
     "iopub.execute_input": "2021-07-19T14:19:21.803044Z",
     "iopub.status.busy": "2021-07-19T14:19:21.802751Z",
     "iopub.status.idle": "2021-07-19T14:19:21.926262Z",
     "shell.execute_reply": "2021-07-19T14:19:21.925208Z",
     "shell.execute_reply.started": "2021-07-19T14:19:21.803016Z"
    }
   },
   "outputs": [],
   "source": [
    "fig = plt.subplots(figsize=(12, 2))\n",
    "ax = sns.boxplot(x=train_store_25['Sales'], whis=1.5)"
   ]
  },
  {
   "cell_type": "code",
   "execution_count": null,
   "metadata": {
    "execution": {
     "iopub.execute_input": "2021-07-19T14:19:21.928068Z",
     "iopub.status.busy": "2021-07-19T14:19:21.927773Z",
     "iopub.status.idle": "2021-07-19T14:19:22.107982Z",
     "shell.execute_reply": "2021-07-19T14:19:22.107012Z",
     "shell.execute_reply.started": "2021-07-19T14:19:21.928038Z"
    }
   },
   "outputs": [],
   "source": [
    "fig = train_store_25['Sales'].hist(figsize = (12,4))"
   ]
  },
  {
   "cell_type": "markdown",
   "metadata": {},
   "source": [
    "Since from the time series plot we had observed a general increase in sales in the months of Dec-Jan, it is better to replace the higher values with lower extreme (Winsorizing) rather than removing the value completely.\n",
    "Removing the outlier is better suited when we think the outlier is erroneous"
   ]
  },
  {
   "cell_type": "code",
   "execution_count": null,
   "metadata": {
    "execution": {
     "iopub.execute_input": "2021-07-19T14:19:22.109519Z",
     "iopub.status.busy": "2021-07-19T14:19:22.109218Z",
     "iopub.status.idle": "2021-07-19T14:19:22.119524Z",
     "shell.execute_reply": "2021-07-19T14:19:22.118775Z",
     "shell.execute_reply.started": "2021-07-19T14:19:22.109487Z"
    }
   },
   "outputs": [],
   "source": [
    "# Replacing the outliers (above 99 quantile) to the value at 99 percentile\n",
    "\n",
    "train_store_25.loc[train_store_25['Sales'] > train_store_25['Sales'].quantile(0.97), 'Sales'] = math.ceil(train_store_25['Sales'].quantile(0.97))"
   ]
  },
  {
   "cell_type": "code",
   "execution_count": null,
   "metadata": {
    "execution": {
     "iopub.execute_input": "2021-07-19T14:19:22.121501Z",
     "iopub.status.busy": "2021-07-19T14:19:22.12118Z",
     "iopub.status.idle": "2021-07-19T14:19:22.245211Z",
     "shell.execute_reply": "2021-07-19T14:19:22.244236Z",
     "shell.execute_reply.started": "2021-07-19T14:19:22.121458Z"
    }
   },
   "outputs": [],
   "source": [
    "# Boxplot after winsorizing the outliers\n",
    "\n",
    "fig = plt.subplots(figsize=(12, 2))\n",
    "ax = sns.boxplot(x=train_store_13['Sales'], whis=1.5)"
   ]
  },
  {
   "cell_type": "markdown",
   "metadata": {},
   "source": [
    "#### Plotting the sales data"
   ]
  },
  {
   "cell_type": "code",
   "execution_count": null,
   "metadata": {
    "execution": {
     "iopub.execute_input": "2021-07-19T14:19:22.246954Z",
     "iopub.status.busy": "2021-07-19T14:19:22.246635Z",
     "iopub.status.idle": "2021-07-19T14:19:22.893306Z",
     "shell.execute_reply": "2021-07-19T14:19:22.892227Z",
     "shell.execute_reply.started": "2021-07-19T14:19:22.24692Z"
    }
   },
   "outputs": [],
   "source": [
    "train_store_25.loc[:,'Sales'].plot(figsize=(96, 16))\n",
    "plt.legend(loc='best')\n",
    "plt.title('Sales data for Store 31')\n",
    "plt.show(block=False)"
   ]
  },
  {
   "cell_type": "markdown",
   "metadata": {},
   "source": [
    "#### Decomposing the time series to trend and seasonality"
   ]
  },
  {
   "cell_type": "code",
   "execution_count": null,
   "metadata": {
    "execution": {
     "iopub.execute_input": "2021-07-19T14:19:22.894831Z",
     "iopub.status.busy": "2021-07-19T14:19:22.894527Z",
     "iopub.status.idle": "2021-07-19T14:19:24.204136Z",
     "shell.execute_reply": "2021-07-19T14:19:24.20313Z",
     "shell.execute_reply.started": "2021-07-19T14:19:22.894802Z"
    }
   },
   "outputs": [],
   "source": [
    "from pylab import rcParams\n",
    "rcParams['figure.figsize'] = (96,16)\n",
    "decomposition = sm.tsa.seasonal_decompose(train_store_25['Sales'], model='additive', freq=30)\n",
    "fig = decomposition.plot()\n",
    "plt.show()"
   ]
  },
  {
   "cell_type": "markdown",
   "metadata": {},
   "source": [
    "The above plot tells us that there is a general increase in the months Dec-Jan and also there is repeating 0 sales throught out the timeframe.<br>\n",
    "Following analysis is done to find out the possible reasons for the above observations"
   ]
  },
  {
   "cell_type": "markdown",
   "metadata": {},
   "source": [
    "#### Creating dummy variables for the field 'DayOfWeek'"
   ]
  },
  {
   "cell_type": "code",
   "execution_count": null,
   "metadata": {
    "execution": {
     "iopub.execute_input": "2021-07-19T14:19:24.206122Z",
     "iopub.status.busy": "2021-07-19T14:19:24.205458Z",
     "iopub.status.idle": "2021-07-19T14:19:24.2302Z",
     "shell.execute_reply": "2021-07-19T14:19:24.228928Z",
     "shell.execute_reply.started": "2021-07-19T14:19:24.206076Z"
    }
   },
   "outputs": [],
   "source": [
    "# Creating dummy variables and concatenating the dummy variables of field 'DayOfWeek' to the original dataframe\n",
    "train_store_25 = pd.concat([train_store_25, pd.get_dummies(train_store_25['DayOfWeek'], prefix='DayOfWeek', drop_first=True)], axis=1)\n",
    "\n",
    "# Removing the parent field 'DayOfWeek'\n",
    "train_store_25.drop(columns=['DayOfWeek'], inplace=True)\n",
    "train_store_25.info()"
   ]
  },
  {
   "cell_type": "markdown",
   "metadata": {},
   "source": [
    "#### Checking the corelation of variables"
   ]
  },
  {
   "cell_type": "code",
   "execution_count": null,
   "metadata": {
    "execution": {
     "iopub.execute_input": "2021-07-19T14:19:24.231976Z",
     "iopub.status.busy": "2021-07-19T14:19:24.231578Z",
     "iopub.status.idle": "2021-07-19T14:19:25.344341Z",
     "shell.execute_reply": "2021-07-19T14:19:25.343276Z",
     "shell.execute_reply.started": "2021-07-19T14:19:24.231938Z"
    }
   },
   "outputs": [],
   "source": [
    "plt.figure(figsize=(12,8))\n",
    "sns.heatmap(train_store_25.corr(), annot=True)\n",
    "plt.show()"
   ]
  },
  {
   "cell_type": "markdown",
   "metadata": {},
   "source": [
    "<b>Observations</b><br>\n",
    "Following observation can be made from the above correlation plot\n",
    "- Sales and Customers fields are highly positively correlated\n",
    "- Open field is highely negatively correlated to the DayOfWeek_7 (Sunday)\n",
    "- No considerable relationship between the Promo and the Sale/Customers\n",
    "- As discovered from EDA, there is a slight correlation between StateHoliday and Open<br>\n",
    "\n",
    "Above observation make sense from a business point of view as well."
   ]
  },
  {
   "cell_type": "markdown",
   "metadata": {},
   "source": [
    "#### Checking the stationarity of the data"
   ]
  },
  {
   "cell_type": "code",
   "execution_count": null,
   "metadata": {
    "execution": {
     "iopub.execute_input": "2021-07-19T14:19:25.345857Z",
     "iopub.status.busy": "2021-07-19T14:19:25.345523Z",
     "iopub.status.idle": "2021-07-19T14:19:25.830084Z",
     "shell.execute_reply": "2021-07-19T14:19:25.828619Z",
     "shell.execute_reply.started": "2021-07-19T14:19:25.345826Z"
    }
   },
   "outputs": [],
   "source": [
    "cols = train_store_25.columns\n",
    "\n",
    "\n",
    "for col in cols:\n",
    "    adf_test = adfuller(train_store_25[col])\n",
    "\n",
    "    print('ADF Statistic ({}): {}'.format(col, round(adf_test[0], 4)))\n",
    "    print('Critical Values @ 0.05 ({}): {}'.format(col, round(adf_test[4]['5%'], 2)))\n",
    "    print('p-value ({}): {}'.format(col, round(adf_test[1], 4)))"
   ]
  },
  {
   "cell_type": "markdown",
   "metadata": {},
   "source": [
    "#### ACF and PACF plots"
   ]
  },
  {
   "cell_type": "code",
   "execution_count": null,
   "metadata": {
    "execution": {
     "iopub.execute_input": "2021-07-19T14:19:25.83298Z",
     "iopub.status.busy": "2021-07-19T14:19:25.832503Z",
     "iopub.status.idle": "2021-07-19T14:19:26.192307Z",
     "shell.execute_reply": "2021-07-19T14:19:26.191509Z",
     "shell.execute_reply.started": "2021-07-19T14:19:25.832935Z"
    }
   },
   "outputs": [],
   "source": [
    "plt.figure(figsize=(18,4))\n",
    "plt.subplot(1,2,1)\n",
    "plot_pacf(train_store_25['Sales'] , ax=plt.gca(), lags = 50)\n",
    "plt.subplot(1,2,2)\n",
    "plot_acf(train_store_25['Sales'] , ax=plt.gca(), lags = 50)\n",
    "plt.show()"
   ]
  },
  {
   "cell_type": "markdown",
   "metadata": {},
   "source": [
    "#### Model Creation"
   ]
  },
  {
   "cell_type": "code",
   "execution_count": null,
   "metadata": {
    "execution": {
     "iopub.execute_input": "2021-07-19T14:19:26.194258Z",
     "iopub.status.busy": "2021-07-19T14:19:26.193629Z",
     "iopub.status.idle": "2021-07-19T14:19:26.198563Z",
     "shell.execute_reply": "2021-07-19T14:19:26.197896Z",
     "shell.execute_reply.started": "2021-07-19T14:19:26.194223Z"
    }
   },
   "outputs": [],
   "source": [
    "# preparation: input should be float type\n",
    "train_store_25['Sales'] = train_store_25['Sales'] * 1.0"
   ]
  },
  {
   "cell_type": "code",
   "execution_count": null,
   "metadata": {
    "execution": {
     "iopub.execute_input": "2021-07-19T14:19:26.200367Z",
     "iopub.status.busy": "2021-07-19T14:19:26.199808Z",
     "iopub.status.idle": "2021-07-19T14:23:07.548064Z",
     "shell.execute_reply": "2021-07-19T14:23:07.54691Z",
     "shell.execute_reply.started": "2021-07-19T14:19:26.200337Z"
    }
   },
   "outputs": [],
   "source": [
    "exog = ['Promo', 'StateHoliday', 'SchoolHoliday', 'DayOfWeek_2', 'DayOfWeek_3', 'DayOfWeek_4', 'DayOfWeek_5', 'DayOfWeek_6', 'DayOfWeek_7']\n",
    "mod = sm.tsa.VARMAX(train_store_25.loc[:,['Sales', 'Customers']], exog=train_store_25[exog], order=(11,5), trend='n')\n",
    "res = mod.fit(maxiter=1000, disp=False)\n",
    "print(res.summary())\n",
    "#Note the AIC value - lower AIC => better model"
   ]
  },
  {
   "cell_type": "code",
   "execution_count": null,
   "metadata": {
    "execution": {
     "iopub.execute_input": "2021-07-19T14:23:07.550113Z",
     "iopub.status.busy": "2021-07-19T14:23:07.549703Z",
     "iopub.status.idle": "2021-07-19T14:23:07.736364Z",
     "shell.execute_reply": "2021-07-19T14:23:07.735312Z",
     "shell.execute_reply.started": "2021-07-19T14:23:07.550067Z"
    }
   },
   "outputs": [],
   "source": [
    "ax = res.impulse_responses(30, orthogonalized=True).plot(figsize=(13,3))\n",
    "ax.set(xlabel='t', title='Responses to a shock to `dln_inv`');"
   ]
  },
  {
   "cell_type": "code",
   "execution_count": null,
   "metadata": {
    "execution": {
     "iopub.execute_input": "2021-07-19T14:23:07.737939Z",
     "iopub.status.busy": "2021-07-19T14:23:07.737619Z",
     "iopub.status.idle": "2021-07-19T14:23:07.745601Z",
     "shell.execute_reply": "2021-07-19T14:23:07.744301Z",
     "shell.execute_reply.started": "2021-07-19T14:23:07.737908Z"
    }
   },
   "outputs": [],
   "source": [
    "train_len = 900\n",
    "train_data = train_store_25[0:train_len] \n",
    "test_data = train_store_25[train_len:]\n",
    "\n",
    "print(\"Train data: {}\".format(train_data.shape))\n",
    "print(\"Test data: {}\".format(test_data.shape))"
   ]
  },
  {
   "cell_type": "code",
   "execution_count": null,
   "metadata": {
    "execution": {
     "iopub.execute_input": "2021-07-19T14:23:07.747283Z",
     "iopub.status.busy": "2021-07-19T14:23:07.7469Z",
     "iopub.status.idle": "2021-07-19T14:23:07.763468Z",
     "shell.execute_reply": "2021-07-19T14:23:07.762432Z",
     "shell.execute_reply.started": "2021-07-19T14:23:07.747251Z"
    }
   },
   "outputs": [],
   "source": [
    "start_index = test_data.index.min()\n",
    "end_index = test_data.index.max()\n",
    "predictions = res.predict(start=start_index, end=end_index)"
   ]
  },
  {
   "cell_type": "code",
   "execution_count": null,
   "metadata": {
    "execution": {
     "iopub.execute_input": "2021-07-19T14:23:07.765258Z",
     "iopub.status.busy": "2021-07-19T14:23:07.764965Z",
     "iopub.status.idle": "2021-07-19T14:23:08.427818Z",
     "shell.execute_reply": "2021-07-19T14:23:08.425443Z",
     "shell.execute_reply.started": "2021-07-19T14:23:07.765227Z"
    }
   },
   "outputs": [],
   "source": [
    "plt.figure(figsize=(96, 16)) \n",
    "plt.plot( train_data['Sales'], label='Train')\n",
    "plt.plot(test_data['Sales'], label='Test')\n",
    "plt.plot(predictions['Sales'], label='VARMAX')\n",
    "plt.legend(loc='best')\n",
    "plt.title('VAR Model - Sales')\n",
    "plt.show()"
   ]
  },
  {
   "cell_type": "code",
   "execution_count": null,
   "metadata": {
    "execution": {
     "iopub.execute_input": "2021-07-19T14:23:08.429385Z",
     "iopub.status.busy": "2021-07-19T14:23:08.429096Z",
     "iopub.status.idle": "2021-07-19T14:23:08.452783Z",
     "shell.execute_reply": "2021-07-19T14:23:08.451601Z",
     "shell.execute_reply.started": "2021-07-19T14:23:08.429357Z"
    }
   },
   "outputs": [],
   "source": [
    "# Root Mean Square Error (RMSE)\n",
    "rmse = np.sqrt(mean_squared_error(test_data['Sales'], predictions['Sales'])).round(2)\n",
    "#print('Income: RMSE:',  rmse)\n",
    "\n",
    "# model_comparison=pd.DataFrame()\n",
    "model_comparison.loc[9,'Store']= 25\n",
    "model_comparison.loc[9,'Model']='VAR'\n",
    "model_comparison.loc[9,'Variable']='Sales'\n",
    "model_comparison.loc[9,'RMSE']=rmse\n",
    "\n",
    "# Mean Absolute Percentage Error\n",
    "abs_error = np.abs(test_data['Sales']-predictions['Sales'])\n",
    "actual = test_data['Sales']\n",
    "mape = np.round(np.mean(abs_error/actual)*100, 2)\n",
    "\n",
    "model_comparison.loc[model_comparison['Store']==25, 'MAPE'] = mape\n",
    "model_comparison"
   ]
  }
 ],
 "metadata": {
  "kernelspec": {
   "display_name": "Python 3",
   "language": "python",
   "name": "python3"
  },
  "language_info": {
   "codemirror_mode": {
    "name": "ipython",
    "version": 3
   },
   "file_extension": ".py",
   "mimetype": "text/x-python",
   "name": "python",
   "nbconvert_exporter": "python",
   "pygments_lexer": "ipython3",
   "version": "3.8.5"
  }
 },
 "nbformat": 4,
 "nbformat_minor": 4
}
